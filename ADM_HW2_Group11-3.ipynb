{
 "cells": [
  {
   "cell_type": "markdown",
   "metadata": {
    "id": "JU_jbVy2DgA1"
   },
   "source": [
    "### Installing Dataset to Drive"
   ]
  },
  {
   "cell_type": "code",
   "execution_count": 4,
   "metadata": {
    "colab": {
     "base_uri": "https://localhost:8080/"
    },
    "executionInfo": {
     "elapsed": 6997,
     "status": "ok",
     "timestamp": 1699208169100,
     "user": {
      "displayName": "erika ioana zetu",
      "userId": "15910750416664226910"
     },
     "user_tz": -60
    },
    "id": "I1gaCCySIoDe",
    "outputId": "2b02aaaa-0d0f-4f1a-8e76-0da7e0737ca5"
   },
   "outputs": [
    {
     "name": "stdout",
     "output_type": "stream",
     "text": [
      "Requirement already satisfied: pandas in /usr/local/lib/python3.10/dist-packages (1.5.3)\n",
      "Requirement already satisfied: pillow in /usr/local/lib/python3.10/dist-packages (9.4.0)\n",
      "Requirement already satisfied: numpy in /usr/local/lib/python3.10/dist-packages (1.23.5)\n",
      "Requirement already satisfied: scipy in /usr/local/lib/python3.10/dist-packages (1.11.3)\n",
      "Requirement already satisfied: matplotlib in /usr/local/lib/python3.10/dist-packages (3.7.1)\n",
      "Collecting wget\n",
      "  Downloading wget-3.2.zip (10 kB)\n",
      "  Preparing metadata (setup.py) ... \u001b[?25l\u001b[?25hdone\n",
      "Requirement already satisfied: python-dateutil>=2.8.1 in /usr/local/lib/python3.10/dist-packages (from pandas) (2.8.2)\n",
      "Requirement already satisfied: pytz>=2020.1 in /usr/local/lib/python3.10/dist-packages (from pandas) (2023.3.post1)\n",
      "Requirement already satisfied: contourpy>=1.0.1 in /usr/local/lib/python3.10/dist-packages (from matplotlib) (1.1.1)\n",
      "Requirement already satisfied: cycler>=0.10 in /usr/local/lib/python3.10/dist-packages (from matplotlib) (0.12.1)\n",
      "Requirement already satisfied: fonttools>=4.22.0 in /usr/local/lib/python3.10/dist-packages (from matplotlib) (4.43.1)\n",
      "Requirement already satisfied: kiwisolver>=1.0.1 in /usr/local/lib/python3.10/dist-packages (from matplotlib) (1.4.5)\n",
      "Requirement already satisfied: packaging>=20.0 in /usr/local/lib/python3.10/dist-packages (from matplotlib) (23.2)\n",
      "Requirement already satisfied: pyparsing>=2.3.1 in /usr/local/lib/python3.10/dist-packages (from matplotlib) (3.1.1)\n",
      "Requirement already satisfied: six>=1.5 in /usr/local/lib/python3.10/dist-packages (from python-dateutil>=2.8.1->pandas) (1.16.0)\n",
      "Building wheels for collected packages: wget\n",
      "  Building wheel for wget (setup.py) ... \u001b[?25l\u001b[?25hdone\n",
      "  Created wheel for wget: filename=wget-3.2-py3-none-any.whl size=9655 sha256=e24f270a8c2d4e91be8c639b5be2ae413e72e17f255e8b247a42ad4eeb1e5316\n",
      "  Stored in directory: /root/.cache/pip/wheels/8b/f1/7f/5c94f0a7a505ca1c81cd1d9208ae2064675d97582078e6c769\n",
      "Successfully built wget\n",
      "Installing collected packages: wget\n",
      "Successfully installed wget-3.2\n"
     ]
    }
   ],
   "source": [
    "# install_packages\n",
    "install_packages = True\n",
    "if install_packages:\n",
    "    %pip install pandas pillow numpy scipy matplotlib wget"
   ]
  },
  {
   "cell_type": "code",
   "execution_count": 3,
   "metadata": {
    "executionInfo": {
     "elapsed": 28865,
     "status": "ok",
     "timestamp": 1699211046505,
     "user": {
      "displayName": "erika ioana zetu",
      "userId": "15910750416664226910"
     },
     "user_tz": -60
    },
    "id": "_0pCfgIkI61N"
   },
   "outputs": [],
   "source": [
    "# Get on colab lighter_authors.json\n",
    "import wget\n",
    "authors = wget.download(\"https://sapienza2023adm.s3.eu-south-1.amazonaws.com/lighter_authors.json\")"
   ]
  },
  {
   "cell_type": "code",
   "execution_count": 2,
   "metadata": {
    "executionInfo": {
     "elapsed": 577812,
     "status": "ok",
     "timestamp": 1699210927190,
     "user": {
      "displayName": "erika ioana zetu",
      "userId": "15910750416664226910"
     },
     "user_tz": -60
    },
    "id": "HMWPCQDOI1CR"
   },
   "outputs": [],
   "source": [
    "# Get on colab lighter_books.json\n",
    "import wget\n",
    "books = wget.download(\"https://sapienza2023adm.s3.eu-south-1.amazonaws.com/lighter_books.json\")"
   ]
  },
  {
   "cell_type": "markdown",
   "metadata": {
    "id": "0KPwDDeF8JWp"
   },
   "source": [
    "**[RQ1]** Exploratory Data Analysis (EDA) - Before working on your research questions, you should provide meaningful statistical summaries through visualizations and tabular tools to understand your data."
   ]
  },
  {
   "cell_type": "markdown",
   "metadata": {
    "id": "kVlaPVTY8Pyj"
   },
   "source": [
    "BOOKS:"
   ]
  },
  {
   "cell_type": "code",
   "execution_count": 10,
   "metadata": {
    "colab": {
     "base_uri": "https://localhost:8080/"
    },
    "executionInfo": {
     "elapsed": 1839,
     "status": "ok",
     "timestamp": 1699195964555,
     "user": {
      "displayName": "erika ioana zetu",
      "userId": "15910750416664226910"
     },
     "user_tz": -60
    },
    "id": "ie8l6fH-8TkA",
    "outputId": "1d18bf69-26f5-4b51-9b4e-b4a245b596ee"
   },
   "outputs": [
    {
     "name": "stdout",
     "output_type": "stream",
     "text": [
      "   id                                              title  \\\n",
      "0   2  Harry Potter and the Order of the Phoenix (Har...   \n",
      "1   3  Harry Potter and the Sorcerer's Stone (Harry P...   \n",
      "2   4  Harry Potter and the Chamber of Secrets (Harry...   \n",
      "3   5  Harry Potter and the Prisoner of Azkaban (Harr...   \n",
      "4   6  Harry Potter and the Goblet of Fire (Harry Pot...   \n",
      "\n",
      "                                             authors   author_name  author_id  \\\n",
      "0  [{'id': '1077326', 'name': 'J.K. Rowling', 'ro...  J.K. Rowling    1077326   \n",
      "1  [{'id': '1077326', 'name': 'J.K. Rowling', 'ro...  J.K. Rowling    1077326   \n",
      "2                                               None  J.K. Rowling    1077326   \n",
      "3  [{'id': '1077326', 'name': 'J.K. Rowling', 'ro...  J.K. Rowling    1077326   \n",
      "4  [{'id': '1077326', 'name': 'J.K. Rowling', 'ro...  J.K. Rowling    1077326   \n",
      "\n",
      "   work_id        isbn         isbn13 asin language  ...  \\\n",
      "0  2809203  0439358078  9780439358071           eng  ...   \n",
      "1  4640799                                      eng  ...   \n",
      "2  6231171  0439554896  9780439554893           eng  ...   \n",
      "3  2402163  043965548X  9780439655484           eng  ...   \n",
      "4  3046572                                      eng  ...   \n",
      "\n",
      "                  format                       edition_information  \\\n",
      "0              Paperback                                US Edition   \n",
      "1              Hardcover                           Library Edition   \n",
      "2              Hardcover                                             \n",
      "3  Mass Market Paperback                                             \n",
      "4              Paperback  First Scholastic Trade Paperback Edition   \n",
      "\n",
      "                                           image_url        publisher  \\\n",
      "0  https://i.gr-assets.com/images/S/compressed.ph...  Scholastic Inc.   \n",
      "1  https://i.gr-assets.com/images/S/compressed.ph...   Scholastic Inc   \n",
      "2  https://i.gr-assets.com/images/S/compressed.ph...       Scholastic   \n",
      "3  https://i.gr-assets.com/images/S/compressed.ph...  Scholastic Inc.   \n",
      "4  https://i.gr-assets.com/images/S/compressed.ph...       Scholastic   \n",
      "\n",
      "  num_pages series_id   series_name series_position  \\\n",
      "0       870     45175  Harry Potter               5   \n",
      "1       309     45175  Harry Potter               1   \n",
      "2       352     45175  Harry Potter               2   \n",
      "3       435     45175  Harry Potter               3   \n",
      "4       734     45175  Harry Potter               4   \n",
      "\n",
      "                                             shelves  \\\n",
      "0  [{'name': 'to-read', 'count': 324191}, {'name'...   \n",
      "1  [{'name': 'fantasy', 'count': 63540}, {'name':...   \n",
      "2  [{'name': 'to-read', 'count': 282341}, {'name'...   \n",
      "3  [{'name': 'to-read', 'count': 292815}, {'name'...   \n",
      "4  [{'name': 'to-read', 'count': 287086}, {'name'...   \n",
      "\n",
      "                                         description  \n",
      "0  There is a door at the end of a silent corrido...  \n",
      "1  Harry Potter's life is miserable. His parents ...  \n",
      "2  The Dursleys were so mean and hideous that sum...  \n",
      "3  For twelve long years, the dread fortress of A...  \n",
      "4  Harry Potter is midway through his training as...  \n",
      "\n",
      "[5 rows x 26 columns]\n"
     ]
    }
   ],
   "source": [
    "#Let's see the first 5 rows of the dataset.\n",
    "import pandas as pd\n",
    "\n",
    "for chunk in pd.read_json('/content/lighter_books.json', lines = True, chunksize=10000):\n",
    "  print(chunk.head())\n",
    "  break"
   ]
  },
  {
   "cell_type": "code",
   "execution_count": null,
   "metadata": {
    "id": "OWVzaGBX8d_W"
   },
   "outputs": [],
   "source": [
    "#In lighter_books we have 7027431 units representing books, and 26 variables for each of them.\n",
    "#In particular we have:\n",
    "#id: numeric variable indicating the rows (it starts from 2);\n",
    "#title: categorical variable indicating the book's name;\n",
    "#authors: categorical variable made of a dictionary containing informations about the author;\n",
    "#author_name: categorical variable indicating the author's name;\n",
    "#author_id: numeric variable indicating the author's identificative number;\n",
    "#work_id: numeric variable indicating the book's identificative number;\n",
    "#isbn: categorical variable indicating the books' international standard number (International Standard Book Number);\n",
    "#isbn13: categorical variable indicating the book's 13-digit numeric identifier;\n",
    "#asin: categorical variable indicating an indentifier assigned by Amazon (Amazon Standard Identification Number);\n",
    "#language: categorical variable indicating the language in which the book is written;\n",
    "#average_rating: numeric variable indicating the mean of the ratings received by the book;\n",
    "#rating_dist: categorical variable indicating the distribution of ratings given to a book (ex: 5:20 means that 20 people gave it a rating of 5);\n",
    "#ratings_count: numeric variable indicating the number of ratings received by the book;\n",
    "#text_reviews_count: numeric variable indicating the total number of written reviews received, excluding ratings without a comment;\n",
    "#publication_date: categorical variable indicating the book's publication date;\n",
    "#original_publication_date: categorical variable indicating the publication date of the first edition;\n",
    "#format: categorical variable indicating the book's format;\n",
    "#edition_information: categorical variable indicating informations about the book's edition;\n",
    "#image_url: categorical variable indicating a link pointing to an image associated with the book;\n",
    "#publisher: categorical variable indicating the book's publisher;\n",
    "#num_pages: categorical variable indicating the book's number of pages;\n",
    "#series_id: categorical variable indicating the serie's number (ex: the Harry Potter's books have the same series_id);\n",
    "#series_name: categorical variable indicating the serie's name (ex: the Harry Potter's books have the same series_name);\n",
    "#series_position: categorical variable indicating the position of a book within a series of related books;\n",
    "#shelves: categorical variable made of a list of dictionaries containing informations about the book;\n",
    "#description: categorical variable containing a description of the book.\n"
   ]
  },
  {
   "cell_type": "code",
   "execution_count": 3,
   "metadata": {
    "executionInfo": {
     "elapsed": 1106,
     "status": "ok",
     "timestamp": 1699202860930,
     "user": {
      "displayName": "erika ioana zetu",
      "userId": "15910750416664226910"
     },
     "user_tz": -60
    },
    "id": "tpMdZEHC8hSG"
   },
   "outputs": [],
   "source": [
    "#Let's define a function that extracts specific columns from a dataset.\n",
    "import pandas as pd\n",
    "def read_only_columns(path_dataset:str ,columns:list):\n",
    "  dfs = []\n",
    "  with open(path_dataset, \"r\") as file:\n",
    "    for ch in pd.read_json(file, lines = True, chunksize=20000):\n",
    "      ch = ch[columns]\n",
    "      dfs.append(ch)\n",
    "  df_2 = pd.concat(dfs, ignore_index = True)\n",
    "  return df_2"
   ]
  },
  {
   "cell_type": "code",
   "execution_count": 12,
   "metadata": {
    "colab": {
     "base_uri": "https://localhost:8080/"
    },
    "executionInfo": {
     "elapsed": 616691,
     "status": "ok",
     "timestamp": 1699196590616,
     "user": {
      "displayName": "erika ioana zetu",
      "userId": "15910750416664226910"
     },
     "user_tz": -60
    },
    "id": "RYQevfPq9P6U",
    "outputId": "3f74073d-a529-4211-da4f-2563205418b7"
   },
   "outputs": [
    {
     "name": "stdout",
     "output_type": "stream",
     "text": [
      "<class 'pandas.core.series.Series'>\n",
      "RangeIndex: 7027431 entries, 0 to 7027430\n",
      "Series name: id\n",
      "Non-Null Count    Dtype\n",
      "--------------    -----\n",
      "7027431 non-null  int64\n",
      "dtypes: int64(1)\n",
      "memory usage: 53.6 MB\n"
     ]
    },
    {
     "data": {
      "text/plain": [
       "count    7.027431e+06\n",
       "mean     1.326720e+07\n",
       "std      7.637922e+06\n",
       "min      2.000000e+00\n",
       "25%      6.937444e+06\n",
       "50%      1.422732e+07\n",
       "75%      1.953942e+07\n",
       "max      2.552102e+07\n",
       "Name: id, dtype: float64"
      ]
     },
     "execution_count": 12,
     "metadata": {},
     "output_type": "execute_result"
    }
   ],
   "source": [
    "#Summary statistics: Compute basic statistics for each variable.\n",
    "id=read_only_columns('/content/lighter_books.json' ,'id')\n",
    "id.info()\n",
    "id.describe()"
   ]
  },
  {
   "cell_type": "code",
   "execution_count": 2,
   "metadata": {
    "colab": {
     "base_uri": "https://localhost:8080/"
    },
    "executionInfo": {
     "elapsed": 498732,
     "status": "ok",
     "timestamp": 1699198406379,
     "user": {
      "displayName": "erika ioana zetu",
      "userId": "15910750416664226910"
     },
     "user_tz": -60
    },
    "id": "2I65dwKo9WcB",
    "outputId": "f156067d-5d39-4778-a70d-27000aa23120"
   },
   "outputs": [
    {
     "name": "stdout",
     "output_type": "stream",
     "text": [
      "<class 'pandas.core.series.Series'>\n",
      "RangeIndex: 7027431 entries, 0 to 7027430\n",
      "Series name: author_id\n",
      "Non-Null Count    Dtype\n",
      "--------------    -----\n",
      "7027431 non-null  int64\n",
      "dtypes: int64(1)\n",
      "memory usage: 53.6 MB\n"
     ]
    },
    {
     "data": {
      "text/plain": [
       "count    7.027431e+06\n",
       "mean     1.977793e+06\n",
       "std      3.210660e+06\n",
       "min      4.000000e+00\n",
       "25%      3.368200e+04\n",
       "50%      2.499460e+05\n",
       "75%      3.239281e+06\n",
       "max      2.124802e+07\n",
       "Name: author_id, dtype: float64"
      ]
     },
     "execution_count": 2,
     "metadata": {},
     "output_type": "execute_result"
    }
   ],
   "source": [
    "author_id=read_only_columns('/content/lighter_books.json' ,'author_id')\n",
    "author_id.info()\n",
    "author_id.describe()"
   ]
  },
  {
   "cell_type": "code",
   "execution_count": 3,
   "metadata": {
    "colab": {
     "base_uri": "https://localhost:8080/"
    },
    "executionInfo": {
     "elapsed": 493477,
     "status": "ok",
     "timestamp": 1699198911317,
     "user": {
      "displayName": "erika ioana zetu",
      "userId": "15910750416664226910"
     },
     "user_tz": -60
    },
    "id": "suZj4QmF9WkQ",
    "outputId": "805afe38-8446-4dee-d83f-3226820f069b"
   },
   "outputs": [
    {
     "name": "stdout",
     "output_type": "stream",
     "text": [
      "<class 'pandas.core.series.Series'>\n",
      "RangeIndex: 7027431 entries, 0 to 7027430\n",
      "Series name: work_id\n",
      "Non-Null Count    Dtype\n",
      "--------------    -----\n",
      "7027431 non-null  int64\n",
      "dtypes: int64(1)\n",
      "memory usage: 53.6 MB\n"
     ]
    },
    {
     "data": {
      "text/plain": [
       "count    7.027431e+06\n",
       "mean     1.398533e+07\n",
       "std      1.535637e+07\n",
       "min      6.200000e+01\n",
       "25%      1.564717e+06\n",
       "50%      6.759579e+06\n",
       "75%      2.198795e+07\n",
       "max      8.972161e+07\n",
       "Name: work_id, dtype: float64"
      ]
     },
     "execution_count": 3,
     "metadata": {},
     "output_type": "execute_result"
    }
   ],
   "source": [
    "work_id=read_only_columns('/content/lighter_books.json' ,'work_id')\n",
    "work_id.info()\n",
    "work_id.describe()"
   ]
  },
  {
   "cell_type": "code",
   "execution_count": 7,
   "metadata": {
    "colab": {
     "base_uri": "https://localhost:8080/"
    },
    "executionInfo": {
     "elapsed": 482683,
     "status": "ok",
     "timestamp": 1699203913152,
     "user": {
      "displayName": "erika ioana zetu",
      "userId": "15910750416664226910"
     },
     "user_tz": -60
    },
    "id": "vBWIH6dp9gAy",
    "outputId": "14de2703-d66e-41b4-dbdf-61ee1d0d93d5"
   },
   "outputs": [
    {
     "name": "stdout",
     "output_type": "stream",
     "text": [
      "<class 'pandas.core.series.Series'>\n",
      "RangeIndex: 7027431 entries, 0 to 7027430\n",
      "Series name: ratings_count\n",
      "Non-Null Count    Dtype\n",
      "--------------    -----\n",
      "7027431 non-null  int64\n",
      "dtypes: int64(1)\n",
      "memory usage: 53.6 MB\n"
     ]
    },
    {
     "data": {
      "text/plain": [
       "count    7.027431e+06\n",
       "mean     1.945861e+04\n",
       "std      1.609008e+05\n",
       "min      0.000000e+00\n",
       "25%      3.000000e+00\n",
       "50%      4.500000e+01\n",
       "75%      7.710000e+02\n",
       "max      7.400639e+06\n",
       "Name: ratings_count, dtype: float64"
      ]
     },
     "execution_count": 7,
     "metadata": {},
     "output_type": "execute_result"
    }
   ],
   "source": [
    "ratings_count=read_only_columns('/content/lighter_books.json' ,'ratings_count')\n",
    "ratings_count.info()\n",
    "ratings_count.describe()"
   ]
  },
  {
   "cell_type": "code",
   "execution_count": 4,
   "metadata": {
    "colab": {
     "base_uri": "https://localhost:8080/"
    },
    "executionInfo": {
     "elapsed": 453898,
     "status": "ok",
     "timestamp": 1699203321610,
     "user": {
      "displayName": "erika ioana zetu",
      "userId": "15910750416664226910"
     },
     "user_tz": -60
    },
    "id": "zTCKhN809f60",
    "outputId": "dc0da90a-6598-4a8e-d568-742556376c61"
   },
   "outputs": [
    {
     "name": "stdout",
     "output_type": "stream",
     "text": [
      "<class 'pandas.core.series.Series'>\n",
      "RangeIndex: 7027431 entries, 0 to 7027430\n",
      "Series name: average_rating\n",
      "Non-Null Count    Dtype  \n",
      "--------------    -----  \n",
      "7027431 non-null  float64\n",
      "dtypes: float64(1)\n",
      "memory usage: 53.6 MB\n"
     ]
    },
    {
     "data": {
      "text/plain": [
       "count    7.027431e+06\n",
       "mean     3.306188e+00\n",
       "std      1.435734e+00\n",
       "min      0.000000e+00\n",
       "25%      3.360000e+00\n",
       "50%      3.810000e+00\n",
       "75%      4.080000e+00\n",
       "max      5.000000e+00\n",
       "Name: average_rating, dtype: float64"
      ]
     },
     "execution_count": 4,
     "metadata": {},
     "output_type": "execute_result"
    }
   ],
   "source": [
    "average_rating=read_only_columns('/content/lighter_books.json' ,'average_rating')\n",
    "average_rating.info()\n",
    "average_rating.describe()"
   ]
  },
  {
   "cell_type": "code",
   "execution_count": 8,
   "metadata": {
    "colab": {
     "base_uri": "https://localhost:8080/"
    },
    "executionInfo": {
     "elapsed": 449246,
     "status": "ok",
     "timestamp": 1699204365235,
     "user": {
      "displayName": "erika ioana zetu",
      "userId": "15910750416664226910"
     },
     "user_tz": -60
    },
    "id": "J8T_5vxQ9gEQ",
    "outputId": "edc60033-30b8-4351-d348-dd42cd6d0506"
   },
   "outputs": [
    {
     "name": "stdout",
     "output_type": "stream",
     "text": [
      "<class 'pandas.core.series.Series'>\n",
      "RangeIndex: 7027431 entries, 0 to 7027430\n",
      "Series name: text_reviews_count\n",
      "Non-Null Count    Dtype\n",
      "--------------    -----\n",
      "7027431 non-null  int64\n",
      "dtypes: int64(1)\n",
      "memory usage: 53.6 MB\n"
     ]
    },
    {
     "data": {
      "text/plain": [
       "count    7.027431e+06\n",
       "mean     6.417258e+02\n",
       "std      4.169806e+03\n",
       "min      0.000000e+00\n",
       "25%      0.000000e+00\n",
       "50%      5.000000e+00\n",
       "75%      6.400000e+01\n",
       "max      1.745240e+05\n",
       "Name: text_reviews_count, dtype: float64"
      ]
     },
     "execution_count": 8,
     "metadata": {},
     "output_type": "execute_result"
    }
   ],
   "source": [
    "text_reviews_count=read_only_columns('/content/lighter_books.json' ,'text_reviews_count')\n",
    "text_reviews_count.info()\n",
    "text_reviews_count.describe()"
   ]
  },
  {
   "cell_type": "markdown",
   "metadata": {
    "id": "9ya_wGEI5c9Q"
   },
   "source": [
    "# DA QUI IN POI VANNO RANNATE TUTTE LE VAR CATEGORICHE CON\n",
    "# INFO()"
   ]
  },
  {
   "cell_type": "code",
   "execution_count": null,
   "metadata": {
    "id": "udYF3KNL9Q0j"
   },
   "outputs": [],
   "source": [
    "title=read_only_columns('/content/lighter_books.json' ,'title')\n",
    "title.info()"
   ]
  },
  {
   "cell_type": "code",
   "execution_count": null,
   "metadata": {
    "id": "sX9jWAW29SsM"
   },
   "outputs": [],
   "source": [
    "authors=read_only_columns('/content/lighter_books.json' ,'authors')\n",
    "authors.info()"
   ]
  },
  {
   "cell_type": "code",
   "execution_count": null,
   "metadata": {
    "id": "GO82h97W9V3b"
   },
   "outputs": [],
   "source": [
    "author_name=read_only_columns('/content/lighter_books.json' ,'author_name')\n",
    "author_name.info()"
   ]
  },
  {
   "cell_type": "code",
   "execution_count": null,
   "metadata": {
    "id": "fcdF3pm59WqI"
   },
   "outputs": [],
   "source": [
    "isbn=read_only_columns('/content/lighter_books.json' ,'isbn')\n",
    "isbn.info()"
   ]
  },
  {
   "cell_type": "code",
   "execution_count": null,
   "metadata": {
    "id": "sIvVZDpH9bGw"
   },
   "outputs": [],
   "source": [
    "isbn13=read_only_columns('/content/lighter_books.json' ,'isbn13')\n",
    "isbn13.info()\n"
   ]
  },
  {
   "cell_type": "code",
   "execution_count": null,
   "metadata": {
    "id": "8k2EovaF9bKa"
   },
   "outputs": [],
   "source": [
    "asin=read_only_columns('/content/lighter_books.json' ,'asin')\n",
    "asin.info()"
   ]
  },
  {
   "cell_type": "code",
   "execution_count": null,
   "metadata": {
    "id": "NK2k8hcu9bP1"
   },
   "outputs": [],
   "source": [
    "language=read_only_columns('/content/lighter_books.json' ,'language')\n",
    "language.info()"
   ]
  },
  {
   "cell_type": "code",
   "execution_count": null,
   "metadata": {
    "id": "fcMlH3469f96"
   },
   "outputs": [],
   "source": [
    "rating_dist=read_only_columns('/content/lighter_books.json' ,'rating_dist')\n",
    "rating_dist.info()"
   ]
  },
  {
   "cell_type": "code",
   "execution_count": null,
   "metadata": {
    "id": "JGyHJKll9gJJ"
   },
   "outputs": [],
   "source": [
    "publication_date=read_only_columns('/content/lighter_books.json' ,'publication_date')\n",
    "publication_date.info()"
   ]
  },
  {
   "cell_type": "code",
   "execution_count": null,
   "metadata": {
    "id": "3CPwLbe_9bWF"
   },
   "outputs": [],
   "source": [
    "original_publication_date=read_only_columns('/content/lighter_books.json' ,'original_publication_date')\n",
    "original_publication_date.info()"
   ]
  },
  {
   "cell_type": "code",
   "execution_count": null,
   "metadata": {
    "id": "p0KzNWmD9poi"
   },
   "outputs": [],
   "source": [
    "format=read_only_columns('/content/lighter_books.json' ,'format')\n",
    "format.info()\n"
   ]
  },
  {
   "cell_type": "code",
   "execution_count": null,
   "metadata": {
    "id": "6uKy1kyX9puA"
   },
   "outputs": [],
   "source": [
    "edition_information=read_only_columns('/content/lighter_books.json' ,'edition_information')\n",
    "edition_information.info()"
   ]
  },
  {
   "cell_type": "code",
   "execution_count": null,
   "metadata": {
    "id": "AefyiSNR9pxR"
   },
   "outputs": [],
   "source": [
    "image_url=read_only_columns('/content/lighter_books.json' ,'image_url')\n",
    "image_url.info()\n"
   ]
  },
  {
   "cell_type": "code",
   "execution_count": null,
   "metadata": {
    "id": "9obuk-J39p0U"
   },
   "outputs": [],
   "source": [
    "publisher=read_only_columns('/content/lighter_books.json' ,'publisher')\n",
    "publisher.info()\n"
   ]
  },
  {
   "cell_type": "code",
   "execution_count": null,
   "metadata": {
    "id": "08JQNMpu9p3U"
   },
   "outputs": [],
   "source": [
    "num_pages=read_only_columns('/content/lighter_books.json' ,'num_pages')\n",
    "num_pages.info()"
   ]
  },
  {
   "cell_type": "code",
   "execution_count": null,
   "metadata": {
    "id": "esENDMqD9p6X"
   },
   "outputs": [],
   "source": [
    "series_id=read_only_columns('/content/lighter_books.json' ,'series_id')\n",
    "series_id.info()"
   ]
  },
  {
   "cell_type": "code",
   "execution_count": null,
   "metadata": {
    "id": "nZ651O_w9yw1"
   },
   "outputs": [],
   "source": [
    "series_name=read_only_columns('/content/lighter_books.json' ,'series_name')\n",
    "series_name.info()"
   ]
  },
  {
   "cell_type": "code",
   "execution_count": null,
   "metadata": {
    "id": "80eKIBGm9y2R"
   },
   "outputs": [],
   "source": [
    "series_position=read_only_columns('/content/lighter_books.json' ,'series_position')\n",
    "series_position.info()\n"
   ]
  },
  {
   "cell_type": "code",
   "execution_count": null,
   "metadata": {
    "id": "oXTyUBvA9y6_"
   },
   "outputs": [],
   "source": [
    "shelves=read_only_columns('/content/lighter_books.json' ,'shelves')\n",
    "shelves.info()\n"
   ]
  },
  {
   "cell_type": "code",
   "execution_count": null,
   "metadata": {
    "id": "WXW5Hsee9y-3"
   },
   "outputs": [],
   "source": [
    "description=read_only_columns('/content/lighter_books.json' ,'description')\n",
    "description.info()"
   ]
  },
  {
   "cell_type": "code",
   "execution_count": 5,
   "metadata": {
    "colab": {
     "base_uri": "https://localhost:8080/",
     "height": 462
    },
    "executionInfo": {
     "elapsed": 1397,
     "status": "ok",
     "timestamp": 1699203413114,
     "user": {
      "displayName": "erika ioana zetu",
      "userId": "15910750416664226910"
     },
     "user_tz": -60
    },
    "id": "2w2NBYHI9zGP",
    "outputId": "236617e9-64bf-4630-93cd-99faeabe5156"
   },
   "outputs": [
    {
     "data": {
      "text/plain": [
       "<Axes: ylabel='Frequency'>"
      ]
     },
     "execution_count": 5,
     "metadata": {},
     "output_type": "execute_result"
    },
    {
     "data": {
      "image/png": "[encoded data removed]",
      "text/plain": [
       "<Figure size 640x480 with 1 Axes>"
      ]
     },
     "metadata": {},
     "output_type": "display_data"
    }
   ],
   "source": [
    "#Histogram of the variable average_rating\n",
    "average_rating.plot.hist()"
   ]
  },
  {
   "cell_type": "code",
   "execution_count": 9,
   "metadata": {
    "colab": {
     "base_uri": "https://localhost:8080/",
     "height": 480
    },
    "executionInfo": {
     "elapsed": 1133,
     "status": "ok",
     "timestamp": 1699204375983,
     "user": {
      "displayName": "erika ioana zetu",
      "userId": "15910750416664226910"
     },
     "user_tz": -60
    },
    "id": "QPyPpKOf97QC",
    "outputId": "f2df7b07-9a59-4171-9ea9-c4b0b5fa553c"
   },
   "outputs": [
    {
     "data": {
      "text/plain": [
       "<Axes: ylabel='Frequency'>"
      ]
     },
     "execution_count": 9,
     "metadata": {},
     "output_type": "execute_result"
    },
    {
     "data": {
      "image/png": "[encoded data removed]",
      "text/plain": [
       "<Figure size 640x480 with 1 Axes>"
      ]
     },
     "metadata": {},
     "output_type": "display_data"
    }
   ],
   "source": [
    "#Histogram of the variable ratings_count\n",
    "ratings_count.plot.hist()"
   ]
  },
  {
   "cell_type": "code",
   "execution_count": 10,
   "metadata": {
    "colab": {
     "base_uri": "https://localhost:8080/",
     "height": 462
    },
    "executionInfo": {
     "elapsed": 1610,
     "status": "ok",
     "timestamp": 1699204384787,
     "user": {
      "displayName": "erika ioana zetu",
      "userId": "15910750416664226910"
     },
     "user_tz": -60
    },
    "id": "4Q6rNLND97T0",
    "outputId": "9f6ef489-c9aa-4fa3-9782-2c8a16898fd9"
   },
   "outputs": [
    {
     "data": {
      "text/plain": [
       "<Axes: ylabel='Frequency'>"
      ]
     },
     "execution_count": 10,
     "metadata": {},
     "output_type": "execute_result"
    },
    {
     "data": {
      "image/png": "[encoded data removed]",
      "text/plain": [
       "<Figure size 640x480 with 1 Axes>"
      ]
     },
     "metadata": {},
     "output_type": "display_data"
    }
   ],
   "source": [
    "#Histogram of the variable text_reviews_count\n",
    "text_reviews_count.plot.hist()"
   ]
  },
  {
   "cell_type": "markdown",
   "metadata": {
    "id": "8ngH1_a24V5V"
   },
   "source": [
    "# QUI I BARPLOT FANNO RIFERIMENTO ALLE VARIABILI CATEGORICHE:\n",
    "# QUINDI SE HAI IMPORTATO QUELLE RUNNA"
   ]
  },
  {
   "cell_type": "code",
   "execution_count": null,
   "metadata": {
    "id": "gAUi4rDV97XJ"
   },
   "outputs": [],
   "source": [
    "#Barplot of the variable language\n",
    "freq_language=language.value_counts()\n",
    "\n",
    "freq_language.plot(kind='bar', color='green')\n",
    "plt.title('Frequency of each language')\n",
    "plt.xlabel('Language')\n",
    "plt.ylabel('Freq')"
   ]
  },
  {
   "cell_type": "code",
   "execution_count": null,
   "metadata": {
    "id": "V6SEaiYA97ai"
   },
   "outputs": [],
   "source": [
    "#Barplot of the variable format\n",
    "freq_format=format.value_counts()\n",
    "\n",
    "freq_format.plot(kind='bar', color='green')\n",
    "plt.title('Frequency of each format')\n",
    "plt.xlabel('Format')\n",
    "plt.ylabel('Freq')"
   ]
  },
  {
   "cell_type": "code",
   "execution_count": null,
   "metadata": {
    "id": "Dv6kRoQJ97eQ"
   },
   "outputs": [],
   "source": [
    "#Barplot of the variable publisher\n",
    "freq_publisher=language.value_counts()\n",
    "\n",
    "freq_publisher.plot(kind='bar', color='green')\n",
    "plt.title('Frequency of each publisher')\n",
    "plt.xlabel('Publisher')\n",
    "plt.ylabel('Freq')"
   ]
  },
  {
   "cell_type": "code",
   "execution_count": null,
   "metadata": {
    "id": "_lVHnywF-Dlw"
   },
   "outputs": [],
   "source": [
    "#Barplot of the variable num_pages\n",
    "freq_num_pages=num_pages.value_counts()\n",
    "\n",
    "freq_num_pages.plot(kind='bar', color='green')\n",
    "plt.title('Frequency of each num_pages')\n",
    "plt.xlabel('Num_pages')\n",
    "plt.ylabel('Freq')"
   ]
  },
  {
   "cell_type": "code",
   "execution_count": 13,
   "metadata": {
    "colab": {
     "base_uri": "https://localhost:8080/"
    },
    "executionInfo": {
     "elapsed": 1194,
     "status": "ok",
     "timestamp": 1699205168129,
     "user": {
      "displayName": "erika ioana zetu",
      "userId": "15910750416664226910"
     },
     "user_tz": -60
    },
    "id": "S7PmiSxR-DpR",
    "outputId": "d0a0917f-fd87-441e-d635-a290ad40c59a"
   },
   "outputs": [
    {
     "name": "stdout",
     "output_type": "stream",
     "text": [
      "                                             authors   work_id        isbn  \\\n",
      "0  [{'id': '1077326', 'name': 'J.K. Rowling', 'ro...   2809203  0439358078   \n",
      "1  [{'id': '1077326', 'name': 'J.K. Rowling', 'ro...   4640799               \n",
      "2                                               None   6231171  0439554896   \n",
      "3  [{'id': '1077326', 'name': 'J.K. Rowling', 'ro...   2402163  043965548X   \n",
      "4  [{'id': '1077326', 'name': 'J.K. Rowling', 'ro...   3046572               \n",
      "5  [{'id': '1077326', 'name': 'J.K. Rowling', 'ro...  21457570  0439887453   \n",
      "6  [{'id': '1077326', 'name': 'J.K. Rowling', 'ro...  21457576  0439682584   \n",
      "7                                               None  21457570  0439827604   \n",
      "8                                               None   3078186               \n",
      "9                                               None    135328  0517226952   \n",
      "\n",
      "          isbn13 asin                                        description  \n",
      "0  9780439358071       There is a door at the end of a silent corrido...  \n",
      "1                      Harry Potter's life is miserable. His parents ...  \n",
      "2  9780439554893       The Dursleys were so mean and hideous that sum...  \n",
      "3  9780439655484       For twelve long years, the dread fortress of A...  \n",
      "4                      Harry Potter is midway through his training as...  \n",
      "5  9780439887458       <div>Six years of magic, adventure, and myster...  \n",
      "6  9780439682589       Box Set containing Harry Potter and the Sorcer...  \n",
      "7  9780439827607       Six years of magic, adventure, and mystery mak...  \n",
      "8                      Seconds before the Earth is demolished to make...  \n",
      "9  9780517226957       At last in paperback in one complete volume, h...  \n"
     ]
    }
   ],
   "source": [
    "#Here are some considerations we can make by taking a look at the variables and the statistics:\n",
    "#Authors doesn't give us useful additional information, and also repeats information already provided by other variables, so we can exclude it;\n",
    "#We have 4 different identificative numbers for each book: work_id, isbn, isbn13, and asin, so we could drop some of them in order to exclude unnecessary information.\n",
    "#Also the variable description could be useless to the dataset analysis or book comparisons.\n",
    "#Let's see sono exemples of this variales:\n",
    "import pandas as pd\n",
    "for chunk in pd.read_json('/content/lighter_books.json', lines = True, chunksize=10000):\n",
    "  print(chunk[['authors', 'work_id', 'isbn', 'isbn13', 'asin', 'description']].head(10))\n",
    "  break"
   ]
  },
  {
   "cell_type": "code",
   "execution_count": 14,
   "metadata": {
    "colab": {
     "base_uri": "https://localhost:8080/"
    },
    "executionInfo": {
     "elapsed": 19346,
     "status": "ok",
     "timestamp": 1699205191616,
     "user": {
      "displayName": "erika ioana zetu",
      "userId": "15910750416664226910"
     },
     "user_tz": -60
    },
    "id": "2GzdT7gW-Dsk",
    "outputId": "95bab26a-05c0-4127-d57c-554d840e994d"
   },
   "outputs": [
    {
     "name": "stdout",
     "output_type": "stream",
     "text": [
      "0\n"
     ]
    }
   ],
   "source": [
    "#This variables also have some empty str.\n",
    "#Let's determine which of the identification number variables to keep among the four provided by the dataset:\n",
    "import pandas as pd\n",
    "num_missing=0\n",
    "for chunk in pd.read_json('/content/lighter_books.json', lines = True, chunksize=200000):\n",
    "  for i in chunk['work_id']:\n",
    "    if i=='':\n",
    "      num_missing+=1\n",
    "  break\n",
    "print(num_missing)\n"
   ]
  },
  {
   "cell_type": "code",
   "execution_count": 15,
   "metadata": {
    "colab": {
     "base_uri": "https://localhost:8080/"
    },
    "executionInfo": {
     "elapsed": 21756,
     "status": "ok",
     "timestamp": 1699205220288,
     "user": {
      "displayName": "erika ioana zetu",
      "userId": "15910750416664226910"
     },
     "user_tz": -60
    },
    "id": "aoPP45KF-Dvj",
    "outputId": "d69c2339-6199-4008-c936-cef71f0ae7b1"
   },
   "outputs": [
    {
     "name": "stdout",
     "output_type": "stream",
     "text": [
      "3229\n"
     ]
    }
   ],
   "source": [
    "import pandas as pd\n",
    "num_missing=0\n",
    "for chunk in pd.read_json('/content/lighter_books.json', lines = True, chunksize=200000):\n",
    "  for i in chunk['isbn']:\n",
    "    if i=='':\n",
    "      num_missing+=1\n",
    "  break\n",
    "print(num_missing)"
   ]
  },
  {
   "cell_type": "code",
   "execution_count": 16,
   "metadata": {
    "colab": {
     "base_uri": "https://localhost:8080/"
    },
    "executionInfo": {
     "elapsed": 20151,
     "status": "ok",
     "timestamp": 1699205244561,
     "user": {
      "displayName": "erika ioana zetu",
      "userId": "15910750416664226910"
     },
     "user_tz": -60
    },
    "id": "VsSTyliz-Dys",
    "outputId": "6e16c331-d45b-4093-db00-4f0bd31dce01"
   },
   "outputs": [
    {
     "name": "stdout",
     "output_type": "stream",
     "text": [
      "3501\n"
     ]
    }
   ],
   "source": [
    "import pandas as pd\n",
    "num_missing=0\n",
    "for chunk in pd.read_json('/content/lighter_books.json', lines = True, chunksize=200000):\n",
    "  for i in chunk['isbn13']:\n",
    "    if i=='':\n",
    "      num_missing+=1\n",
    "  break\n",
    "print(num_missing)"
   ]
  },
  {
   "cell_type": "code",
   "execution_count": 17,
   "metadata": {
    "colab": {
     "base_uri": "https://localhost:8080/"
    },
    "executionInfo": {
     "elapsed": 18222,
     "status": "ok",
     "timestamp": 1699205264587,
     "user": {
      "displayName": "erika ioana zetu",
      "userId": "15910750416664226910"
     },
     "user_tz": -60
    },
    "id": "99qoqSvh-D17",
    "outputId": "094375a9-77dd-44d2-8f14-19b36cf0c1eb"
   },
   "outputs": [
    {
     "name": "stdout",
     "output_type": "stream",
     "text": [
      "199915\n"
     ]
    }
   ],
   "source": [
    "import pandas as pd\n",
    "num_missing=0\n",
    "for chunk in pd.read_json('/content/lighter_books.json', lines = True, chunksize=200000):\n",
    "  for i in chunk['asin']:\n",
    "    if i=='':\n",
    "      num_missing+=1\n",
    "  break\n",
    "print(num_missing)"
   ]
  },
  {
   "cell_type": "code",
   "execution_count": null,
   "metadata": {
    "id": "U0BtnKmI-c69"
   },
   "outputs": [],
   "source": [
    "#In the first 200.000 rows we have that:\n",
    "#the variable work_id has 0 empty str;\n",
    "#isbn has 3229 empty str;\n",
    "#isbn13 has 3501 empty str;\n",
    "#asin has 199915 empty str.\n",
    "\n",
    "#We can choose to keep work_id and drop the others."
   ]
  },
  {
   "cell_type": "markdown",
   "metadata": {
    "id": "l06SZDSn-gWS"
   },
   "source": [
    "AUTHORS:"
   ]
  },
  {
   "cell_type": "code",
   "execution_count": 11,
   "metadata": {
    "executionInfo": {
     "elapsed": 18166,
     "status": "ok",
     "timestamp": 1699208861290,
     "user": {
      "displayName": "erika ioana zetu",
      "userId": "15910750416664226910"
     },
     "user_tz": -60
    },
    "id": "bfj4QEtB-hwC"
   },
   "outputs": [],
   "source": [
    "import pandas as pd\n",
    "\n",
    "df_authors = pd.read_json('/content/lighter_authors.json', lines = True)"
   ]
  },
  {
   "cell_type": "code",
   "execution_count": 12,
   "metadata": {
    "colab": {
     "base_uri": "https://localhost:8080/",
     "height": 620
    },
    "executionInfo": {
     "elapsed": 844,
     "status": "ok",
     "timestamp": 1699208863740,
     "user": {
      "displayName": "erika ioana zetu",
      "userId": "15910750416664226910"
     },
     "user_tz": -60
    },
    "id": "EVaik90q-hzP",
    "outputId": "8bb4f19a-26bf-40fb-cd9f-c6ee6fd56ac5"
   },
   "outputs": [
    {
     "name": "stdout",
     "output_type": "stream",
     "text": [
      "<class 'pandas.core.frame.DataFrame'>\n",
      "RangeIndex: 351767 entries, 0 to 351766\n",
      "Data columns (total 12 columns):\n",
      " #   Column              Non-Null Count   Dtype  \n",
      "---  ------              --------------   -----  \n",
      " 0   ratings_count       351767 non-null  int64  \n",
      " 1   average_rating      351767 non-null  float64\n",
      " 2   text_reviews_count  351767 non-null  int64  \n",
      " 3   work_ids            351767 non-null  object \n",
      " 4   book_ids            351767 non-null  object \n",
      " 5   works_count         351767 non-null  int64  \n",
      " 6   id                  351767 non-null  int64  \n",
      " 7   name                351767 non-null  object \n",
      " 8   gender              351767 non-null  object \n",
      " 9   image_url           351767 non-null  object \n",
      " 10  about               351767 non-null  object \n",
      " 11  fans_count          351767 non-null  int64  \n",
      "dtypes: float64(1), int64(5), object(6)\n",
      "memory usage: 32.2+ MB\n"
     ]
    },
    {
     "data": {
      "text/html": [
       "\n",
       "  <div id=\"df-95a4e05c-51ac-4304-8c38-09927ca3d893\" class=\"colab-df-container\">\n",
       "    <div>\n",
       "<style scoped>\n",
       "    .dataframe tbody tr th:only-of-type {\n",
       "        vertical-align: middle;\n",
       "    }\n",
       "\n",
       "    .dataframe tbody tr th {\n",
       "        vertical-align: top;\n",
       "    }\n",
       "\n",
       "    .dataframe thead th {\n",
       "        text-align: right;\n",
       "    }\n",
       "</style>\n",
       "<table border=\"1\" class=\"dataframe\">\n",
       "  <thead>\n",
       "    <tr style=\"text-align: right;\">\n",
       "      <th></th>\n",
       "      <th>ratings_count</th>\n",
       "      <th>average_rating</th>\n",
       "      <th>text_reviews_count</th>\n",
       "      <th>works_count</th>\n",
       "      <th>id</th>\n",
       "      <th>fans_count</th>\n",
       "    </tr>\n",
       "  </thead>\n",
       "  <tbody>\n",
       "    <tr>\n",
       "      <th>count</th>\n",
       "      <td>3.517670e+05</td>\n",
       "      <td>351767.000000</td>\n",
       "      <td>351767.000000</td>\n",
       "      <td>3.517670e+05</td>\n",
       "      <td>3.517670e+05</td>\n",
       "      <td>351767.000000</td>\n",
       "    </tr>\n",
       "    <tr>\n",
       "      <th>mean</th>\n",
       "      <td>4.770586e+03</td>\n",
       "      <td>3.651194</td>\n",
       "      <td>330.993243</td>\n",
       "      <td>2.593714e+01</td>\n",
       "      <td>7.751861e+06</td>\n",
       "      <td>111.615731</td>\n",
       "    </tr>\n",
       "    <tr>\n",
       "      <th>std</th>\n",
       "      <td>9.769395e+04</td>\n",
       "      <td>1.211482</td>\n",
       "      <td>3857.539191</td>\n",
       "      <td>3.066083e+03</td>\n",
       "      <td>6.578409e+06</td>\n",
       "      <td>2661.018139</td>\n",
       "    </tr>\n",
       "    <tr>\n",
       "      <th>min</th>\n",
       "      <td>-4.100000e+01</td>\n",
       "      <td>-31.000000</td>\n",
       "      <td>0.000000</td>\n",
       "      <td>0.000000e+00</td>\n",
       "      <td>4.000000e+00</td>\n",
       "      <td>-33.000000</td>\n",
       "    </tr>\n",
       "    <tr>\n",
       "      <th>25%</th>\n",
       "      <td>6.000000e+00</td>\n",
       "      <td>3.600000</td>\n",
       "      <td>1.000000</td>\n",
       "      <td>2.000000e+00</td>\n",
       "      <td>1.535315e+06</td>\n",
       "      <td>1.000000</td>\n",
       "    </tr>\n",
       "    <tr>\n",
       "      <th>50%</th>\n",
       "      <td>3.900000e+01</td>\n",
       "      <td>3.950000</td>\n",
       "      <td>8.000000</td>\n",
       "      <td>6.000000e+00</td>\n",
       "      <td>6.470396e+06</td>\n",
       "      <td>4.000000</td>\n",
       "    </tr>\n",
       "    <tr>\n",
       "      <th>75%</th>\n",
       "      <td>3.100000e+02</td>\n",
       "      <td>4.250000</td>\n",
       "      <td>53.000000</td>\n",
       "      <td>1.500000e+01</td>\n",
       "      <td>1.434041e+07</td>\n",
       "      <td>20.000000</td>\n",
       "    </tr>\n",
       "    <tr>\n",
       "      <th>max</th>\n",
       "      <td>2.700375e+07</td>\n",
       "      <td>5.000000</td>\n",
       "      <td>608956.000000</td>\n",
       "      <td>1.775176e+06</td>\n",
       "      <td>2.124802e+07</td>\n",
       "      <td>766035.000000</td>\n",
       "    </tr>\n",
       "  </tbody>\n",
       "</table>\n",
       "</div>\n",
       "    <div class=\"colab-df-buttons\">\n",
       "\n",
       "  <div class=\"colab-df-container\">\n",
       "    <button class=\"colab-df-convert\" onclick=\"convertToInteractive('df-95a4e05c-51ac-4304-8c38-09927ca3d893')\"\n",
       "            title=\"Convert this dataframe to an interactive table.\"\n",
       "            style=\"display:none;\">\n",
       "\n",
       "  <svg xmlns=\"http://www.w3.org/2000/svg\" height=\"24px\" viewBox=\"0 -960 960 960\">\n",
       "    <path d=\"M120-120v-720h720v720H120Zm60-500h600v-160H180v160Zm220 220h160v-160H400v160Zm0 220h160v-160H400v160ZM180-400h160v-160H180v160Zm440 0h160v-160H620v160ZM180-180h160v-160H180v160Zm440 0h160v-160H620v160Z\"/>\n",
       "  </svg>\n",
       "    </button>\n",
       "\n",
       "  <style>\n",
       "    .colab-df-container {\n",
       "      display:flex;\n",
       "      gap: 12px;\n",
       "    }\n",
       "\n",
       "    .colab-df-convert {\n",
       "      background-color: #E8F0FE;\n",
       "      border: none;\n",
       "      border-radius: 50%;\n",
       "      cursor: pointer;\n",
       "      display: none;\n",
       "      fill: #1967D2;\n",
       "      height: 32px;\n",
       "      padding: 0 0 0 0;\n",
       "      width: 32px;\n",
       "    }\n",
       "\n",
       "    .colab-df-convert:hover {\n",
       "      background-color: #E2EBFA;\n",
       "      box-shadow: 0px 1px 2px rgba(60, 64, 67, 0.3), 0px 1px 3px 1px rgba(60, 64, 67, 0.15);\n",
       "      fill: #174EA6;\n",
       "    }\n",
       "\n",
       "    .colab-df-buttons div {\n",
       "      margin-bottom: 4px;\n",
       "    }\n",
       "\n",
       "    [theme=dark] .colab-df-convert {\n",
       "      background-color: #3B4455;\n",
       "      fill: #D2E3FC;\n",
       "    }\n",
       "\n",
       "    [theme=dark] .colab-df-convert:hover {\n",
       "      background-color: #434B5C;\n",
       "      box-shadow: 0px 1px 3px 1px rgba(0, 0, 0, 0.15);\n",
       "      filter: drop-shadow(0px 1px 2px rgba(0, 0, 0, 0.3));\n",
       "      fill: #FFFFFF;\n",
       "    }\n",
       "  </style>\n",
       "\n",
       "    <script>\n",
       "      const buttonEl =\n",
       "        document.querySelector('#df-95a4e05c-51ac-4304-8c38-09927ca3d893 button.colab-df-convert');\n",
       "      buttonEl.style.display =\n",
       "        google.colab.kernel.accessAllowed ? 'block' : 'none';\n",
       "\n",
       "      async function convertToInteractive(key) {\n",
       "        const element = document.querySelector('#df-95a4e05c-51ac-4304-8c38-09927ca3d893');\n",
       "        const dataTable =\n",
       "          await google.colab.kernel.invokeFunction('convertToInteractive',\n",
       "                                                    [key], {});\n",
       "        if (!dataTable) return;\n",
       "\n",
       "        const docLinkHtml = 'Like what you see? Visit the ' +\n",
       "          '<a target=\"_blank\" href=https://colab.research.google.com/notebooks/data_table.ipynb>data table notebook</a>'\n",
       "          + ' to learn more about interactive tables.';\n",
       "        element.innerHTML = '';\n",
       "        dataTable['output_type'] = 'display_data';\n",
       "        await google.colab.output.renderOutput(dataTable, element);\n",
       "        const docLink = document.createElement('div');\n",
       "        docLink.innerHTML = docLinkHtml;\n",
       "        element.appendChild(docLink);\n",
       "      }\n",
       "    </script>\n",
       "  </div>\n",
       "\n",
       "\n",
       "<div id=\"df-87239166-685a-4470-a2fa-f321c0fcdaa6\">\n",
       "  <button class=\"colab-df-quickchart\" onclick=\"quickchart('df-87239166-685a-4470-a2fa-f321c0fcdaa6')\"\n",
       "            title=\"Suggest charts.\"\n",
       "            style=\"display:none;\">\n",
       "\n",
       "<svg xmlns=\"http://www.w3.org/2000/svg\" height=\"24px\"viewBox=\"0 0 24 24\"\n",
       "     width=\"24px\">\n",
       "    <g>\n",
       "        <path d=\"M19 3H5c-1.1 0-2 .9-2 2v14c0 1.1.9 2 2 2h14c1.1 0 2-.9 2-2V5c0-1.1-.9-2-2-2zM9 17H7v-7h2v7zm4 0h-2V7h2v10zm4 0h-2v-4h2v4z\"/>\n",
       "    </g>\n",
       "</svg>\n",
       "  </button>\n",
       "\n",
       "<style>\n",
       "  .colab-df-quickchart {\n",
       "      --bg-color: #E8F0FE;\n",
       "      --fill-color: #1967D2;\n",
       "      --hover-bg-color: #E2EBFA;\n",
       "      --hover-fill-color: #174EA6;\n",
       "      --disabled-fill-color: #AAA;\n",
       "      --disabled-bg-color: #DDD;\n",
       "  }\n",
       "\n",
       "  [theme=dark] .colab-df-quickchart {\n",
       "      --bg-color: #3B4455;\n",
       "      --fill-color: #D2E3FC;\n",
       "      --hover-bg-color: #434B5C;\n",
       "      --hover-fill-color: #FFFFFF;\n",
       "      --disabled-bg-color: #3B4455;\n",
       "      --disabled-fill-color: #666;\n",
       "  }\n",
       "\n",
       "  .colab-df-quickchart {\n",
       "    background-color: var(--bg-color);\n",
       "    border: none;\n",
       "    border-radius: 50%;\n",
       "    cursor: pointer;\n",
       "    display: none;\n",
       "    fill: var(--fill-color);\n",
       "    height: 32px;\n",
       "    padding: 0;\n",
       "    width: 32px;\n",
       "  }\n",
       "\n",
       "  .colab-df-quickchart:hover {\n",
       "    background-color: var(--hover-bg-color);\n",
       "    box-shadow: 0 1px 2px rgba(60, 64, 67, 0.3), 0 1px 3px 1px rgba(60, 64, 67, 0.15);\n",
       "    fill: var(--button-hover-fill-color);\n",
       "  }\n",
       "\n",
       "  .colab-df-quickchart-complete:disabled,\n",
       "  .colab-df-quickchart-complete:disabled:hover {\n",
       "    background-color: var(--disabled-bg-color);\n",
       "    fill: var(--disabled-fill-color);\n",
       "    box-shadow: none;\n",
       "  }\n",
       "\n",
       "  .colab-df-spinner {\n",
       "    border: 2px solid var(--fill-color);\n",
       "    border-color: transparent;\n",
       "    border-bottom-color: var(--fill-color);\n",
       "    animation:\n",
       "      spin 1s steps(1) infinite;\n",
       "  }\n",
       "\n",
       "  @keyframes spin {\n",
       "    0% {\n",
       "      border-color: transparent;\n",
       "      border-bottom-color: var(--fill-color);\n",
       "      border-left-color: var(--fill-color);\n",
       "    }\n",
       "    20% {\n",
       "      border-color: transparent;\n",
       "      border-left-color: var(--fill-color);\n",
       "      border-top-color: var(--fill-color);\n",
       "    }\n",
       "    30% {\n",
       "      border-color: transparent;\n",
       "      border-left-color: var(--fill-color);\n",
       "      border-top-color: var(--fill-color);\n",
       "      border-right-color: var(--fill-color);\n",
       "    }\n",
       "    40% {\n",
       "      border-color: transparent;\n",
       "      border-right-color: var(--fill-color);\n",
       "      border-top-color: var(--fill-color);\n",
       "    }\n",
       "    60% {\n",
       "      border-color: transparent;\n",
       "      border-right-color: var(--fill-color);\n",
       "    }\n",
       "    80% {\n",
       "      border-color: transparent;\n",
       "      border-right-color: var(--fill-color);\n",
       "      border-bottom-color: var(--fill-color);\n",
       "    }\n",
       "    90% {\n",
       "      border-color: transparent;\n",
       "      border-bottom-color: var(--fill-color);\n",
       "    }\n",
       "  }\n",
       "</style>\n",
       "\n",
       "  <script>\n",
       "    async function quickchart(key) {\n",
       "      const quickchartButtonEl =\n",
       "        document.querySelector('#' + key + ' button');\n",
       "      quickchartButtonEl.disabled = true;  // To prevent multiple clicks.\n",
       "      quickchartButtonEl.classList.add('colab-df-spinner');\n",
       "      try {\n",
       "        const charts = await google.colab.kernel.invokeFunction(\n",
       "            'suggestCharts', [key], {});\n",
       "      } catch (error) {\n",
       "        console.error('Error during call to suggestCharts:', error);\n",
       "      }\n",
       "      quickchartButtonEl.classList.remove('colab-df-spinner');\n",
       "      quickchartButtonEl.classList.add('colab-df-quickchart-complete');\n",
       "    }\n",
       "    (() => {\n",
       "      let quickchartButtonEl =\n",
       "        document.querySelector('#df-87239166-685a-4470-a2fa-f321c0fcdaa6 button');\n",
       "      quickchartButtonEl.style.display =\n",
       "        google.colab.kernel.accessAllowed ? 'block' : 'none';\n",
       "    })();\n",
       "  </script>\n",
       "</div>\n",
       "    </div>\n",
       "  </div>\n"
      ],
      "text/plain": [
       "       ratings_count  average_rating  text_reviews_count   works_count  \\\n",
       "count   3.517670e+05   351767.000000       351767.000000  3.517670e+05   \n",
       "mean    4.770586e+03        3.651194          330.993243  2.593714e+01   \n",
       "std     9.769395e+04        1.211482         3857.539191  3.066083e+03   \n",
       "min    -4.100000e+01      -31.000000            0.000000  0.000000e+00   \n",
       "25%     6.000000e+00        3.600000            1.000000  2.000000e+00   \n",
       "50%     3.900000e+01        3.950000            8.000000  6.000000e+00   \n",
       "75%     3.100000e+02        4.250000           53.000000  1.500000e+01   \n",
       "max     2.700375e+07        5.000000       608956.000000  1.775176e+06   \n",
       "\n",
       "                 id     fans_count  \n",
       "count  3.517670e+05  351767.000000  \n",
       "mean   7.751861e+06     111.615731  \n",
       "std    6.578409e+06    2661.018139  \n",
       "min    4.000000e+00     -33.000000  \n",
       "25%    1.535315e+06       1.000000  \n",
       "50%    6.470396e+06       4.000000  \n",
       "75%    1.434041e+07      20.000000  \n",
       "max    2.124802e+07  766035.000000  "
      ]
     },
     "execution_count": 12,
     "metadata": {},
     "output_type": "execute_result"
    }
   ],
   "source": [
    "df_authors.info()\n",
    "df_authors.describe()"
   ]
  },
  {
   "cell_type": "code",
   "execution_count": 13,
   "metadata": {
    "colab": {
     "base_uri": "https://localhost:8080/"
    },
    "executionInfo": {
     "elapsed": 508,
     "status": "ok",
     "timestamp": 1699208870815,
     "user": {
      "displayName": "erika ioana zetu",
      "userId": "15910750416664226910"
     },
     "user_tz": -60
    },
    "id": "9n6Z6He1-h2k",
    "outputId": "a8af5fa5-c596-4e01-ac1d-2b402458146f"
   },
   "outputs": [
    {
     "data": {
      "text/plain": [
       "0    Douglas Noël Adams was an English author, comi...\n",
       "1    William McGuire \"Bill\" Bryson, OBE, FRS was bo...\n",
       "2    Jude Fisher is the pseudonym for <a href=\"http...\n",
       "3    James Hamilton-Paterson's work has been transl...\n",
       "4    Mark Andrew Watson (born 13 February 1980) is ...\n",
       "5    Edith Newbold Jones was born into such wealth ...\n",
       "6    <a target=\"_blank\" rel=\"noopener nofollow\" hre...\n",
       "7    Although he was never a dedicated student, Pau...\n",
       "8    Dale Peck (born 1967 on Long Island, New York)...\n",
       "9    Angela Knight is an American author of mostly ...\n",
       "Name: about, dtype: object"
      ]
     },
     "execution_count": 13,
     "metadata": {},
     "output_type": "execute_result"
    }
   ],
   "source": [
    "#Let's take a look to some of the variables in particular\n",
    "\n",
    "df_authors.about.head(10)"
   ]
  },
  {
   "cell_type": "code",
   "execution_count": 14,
   "metadata": {
    "colab": {
     "base_uri": "https://localhost:8080/"
    },
    "executionInfo": {
     "elapsed": 324,
     "status": "ok",
     "timestamp": 1699208873466,
     "user": {
      "displayName": "erika ioana zetu",
      "userId": "15910750416664226910"
     },
     "user_tz": -60
    },
    "id": "FfjTd9DL-h8y",
    "outputId": "4da33308-dc55-4172-9912-fac219c9871a"
   },
   "outputs": [
    {
     "data": {
      "text/plain": [
       "0    [386162, 13, 8695, 8694, 6091075, 365, 569429,...\n",
       "1    [9791, 21, 28, 24, 7507825, 27, 10538, 25, 26,...\n",
       "2    [349254, 15222, 14833682, 15221, 18126815, 152...\n",
       "3    [40, 9416484, 12482, 3753106, 26889789, 104764...\n",
       "4    [8466327, 15739968, 22756778, 51026133, 260451...\n",
       "5    [53835, 5246, 17728, 212525, 26950, 269528, 85...\n",
       "6    [49, 20035, 1070349, 20029, 1070347, 20031, 20...\n",
       "7    [50, 141372, 2915, 141371, 2913, 6795756, 6694...\n",
       "8    [6217775, 19979, 19983, 8325686, 195506, 19551...\n",
       "9    [1708127, 7044446, 519655, 19909, 19910, 19916...\n",
       "Name: book_ids, dtype: object"
      ]
     },
     "execution_count": 14,
     "metadata": {},
     "output_type": "execute_result"
    }
   ],
   "source": [
    "df_authors.book_ids.head(10)"
   ]
  },
  {
   "cell_type": "code",
   "execution_count": 15,
   "metadata": {
    "colab": {
     "base_uri": "https://localhost:8080/"
    },
    "executionInfo": {
     "elapsed": 305,
     "status": "ok",
     "timestamp": 1699208877394,
     "user": {
      "displayName": "erika ioana zetu",
      "userId": "15910750416664226910"
     },
     "user_tz": -60
    },
    "id": "lnVicyr7-z5U",
    "outputId": "15ac38bc-cb84-4e7d-b76c-387be9892949"
   },
   "outputs": [
    {
     "data": {
      "text/plain": [
       "0    [3078186, 135328, 1877624, 74123, 3078120, 104...\n",
       "1    [613469, 2305997, 940892, 2611786, 7800569, 31...\n",
       "2    [17150, 808427, 20487307, 90550, 25460625, 171...\n",
       "3    [4417, 14300808, 14780, 3796968, 44703121, 103...\n",
       "4    [13330815, 19109351, 42306244, 72694240, 26291...\n",
       "5    [1959512, 132919, 1652564, 4708346, 2536975, 3...\n",
       "6    [4420, 21232, 1057034, 21226, 1057032, 21228, ...\n",
       "7    [1158125, 241811, 6815, 3182664, 6813, 7000800...\n",
       "8    [6398423, 21178, 1931660, 13273040, 189082, 24...\n",
       "9    [1705297, 7294256, 507563, 21108, 21109, 21115...\n",
       "Name: work_ids, dtype: object"
      ]
     },
     "execution_count": 15,
     "metadata": {},
     "output_type": "execute_result"
    }
   ],
   "source": [
    "df_authors.work_ids.head(10)"
   ]
  },
  {
   "cell_type": "code",
   "execution_count": null,
   "metadata": {
    "id": "xfIGJRjj-1nJ"
   },
   "outputs": [],
   "source": [
    "#In lighter_authors we have 351767 units representing authors, and 12 variables for each of them.\n",
    "#In particular we have:\n",
    "#ratings_count: numeric variable indicating the number of ratings received by the author;\n",
    "#average_rating: numeric variable indicating the mean of the ratings received by the author;\n",
    "#text_reviews_count: numeric variable indicating the total number of written reviews received, excluding ratings without a comment;\n",
    "#work_ids: categorical variable made of lists containing work ids made by the author;\n",
    "#book_ids: categorical variable made of lists containing book ids written by the author;\n",
    "#works_count: numeric variable indicating the number of works written by the author;\n",
    "#id: numeric variable indicating the author's identification number;\n",
    "#name: categorical variable indicating the author's name;\n",
    "#gender: categorical variable indicating the author's gender;\n",
    "#image_url: categorical variable indicating a link pointing to an image associated with the author;\n",
    "#about: categorical variable containing additional information about the author, such as the date or place of birth, or where he has worked, etc;\n",
    "#fans_count: numeric variable indicating the author's number of fans."
   ]
  },
  {
   "cell_type": "code",
   "execution_count": 16,
   "metadata": {
    "colab": {
     "base_uri": "https://localhost:8080/"
    },
    "executionInfo": {
     "elapsed": 1370,
     "status": "ok",
     "timestamp": 1699208890925,
     "user": {
      "displayName": "erika ioana zetu",
      "userId": "15910750416664226910"
     },
     "user_tz": -60
    },
    "id": "iES-avh5-3xS",
    "outputId": "979f8daf-b8af-465a-b578-7622cbb74087"
   },
   "outputs": [
    {
     "name": "stdout",
     "output_type": "stream",
     "text": [
      "351767\n"
     ]
    }
   ],
   "source": [
    "#As we can see, in the original dataset we have some outliers.\n",
    "#For exemple the min of ratings_count is -41, but an author can have a minimum of zero ratings;\n",
    "#the min of fans_count is -33, which can't be since an author can't have -33 fans;\n",
    "#the average_rating has min -31, but the minimum rating you can give to a book is zero.\n",
    "\n",
    "#Let's first drop all the null variables:\n",
    "df_authors = df_authors.dropna()\n",
    "print(len(df_authors2))\n",
    "#It has the same number of rows, so there were no null values."
   ]
  },
  {
   "cell_type": "code",
   "execution_count": 17,
   "metadata": {
    "colab": {
     "base_uri": "https://localhost:8080/"
    },
    "executionInfo": {
     "elapsed": 371,
     "status": "ok",
     "timestamp": 1699208903792,
     "user": {
      "displayName": "erika ioana zetu",
      "userId": "15910750416664226910"
     },
     "user_tz": -60
    },
    "id": "uIR77u67-304",
    "outputId": "ebf57f2c-228f-41b1-9287-65e954c0929b"
   },
   "outputs": [
    {
     "name": "stdout",
     "output_type": "stream",
     "text": [
      "351740\n"
     ]
    }
   ],
   "source": [
    "#Let's drop the negative values of ratings_count, fans_count and average_rating.\n",
    "df_authors= df_authors[(df_authors['ratings_count'] >= 0) & (df_authors['fans_count'] >= 0) & (df_authors['average_rating'] >= 0)]\n",
    "print(len(df_authors))\n",
    "#Now we have 351740 rows."
   ]
  },
  {
   "cell_type": "code",
   "execution_count": 18,
   "metadata": {
    "colab": {
     "base_uri": "https://localhost:8080/",
     "height": 620
    },
    "executionInfo": {
     "elapsed": 645,
     "status": "ok",
     "timestamp": 1699208907219,
     "user": {
      "displayName": "erika ioana zetu",
      "userId": "15910750416664226910"
     },
     "user_tz": -60
    },
    "id": "pe3jZ3Ov-34X",
    "outputId": "75713750-6820-4257-d1c8-6b66e4ea83f6"
   },
   "outputs": [
    {
     "name": "stdout",
     "output_type": "stream",
     "text": [
      "<class 'pandas.core.frame.DataFrame'>\n",
      "Int64Index: 351740 entries, 0 to 351766\n",
      "Data columns (total 12 columns):\n",
      " #   Column              Non-Null Count   Dtype  \n",
      "---  ------              --------------   -----  \n",
      " 0   ratings_count       351740 non-null  int64  \n",
      " 1   average_rating      351740 non-null  float64\n",
      " 2   text_reviews_count  351740 non-null  int64  \n",
      " 3   work_ids            351740 non-null  object \n",
      " 4   book_ids            351740 non-null  object \n",
      " 5   works_count         351740 non-null  int64  \n",
      " 6   id                  351740 non-null  int64  \n",
      " 7   name                351740 non-null  object \n",
      " 8   gender              351740 non-null  object \n",
      " 9   image_url           351740 non-null  object \n",
      " 10  about               351740 non-null  object \n",
      " 11  fans_count          351740 non-null  int64  \n",
      "dtypes: float64(1), int64(5), object(6)\n",
      "memory usage: 34.9+ MB\n"
     ]
    },
    {
     "data": {
      "text/html": [
       "\n",
       "  <div id=\"df-b7e700bf-cbaa-4f8d-8fc5-7c9e3f58f972\" class=\"colab-df-container\">\n",
       "    <div>\n",
       "<style scoped>\n",
       "    .dataframe tbody tr th:only-of-type {\n",
       "        vertical-align: middle;\n",
       "    }\n",
       "\n",
       "    .dataframe tbody tr th {\n",
       "        vertical-align: top;\n",
       "    }\n",
       "\n",
       "    .dataframe thead th {\n",
       "        text-align: right;\n",
       "    }\n",
       "</style>\n",
       "<table border=\"1\" class=\"dataframe\">\n",
       "  <thead>\n",
       "    <tr style=\"text-align: right;\">\n",
       "      <th></th>\n",
       "      <th>ratings_count</th>\n",
       "      <th>average_rating</th>\n",
       "      <th>text_reviews_count</th>\n",
       "      <th>works_count</th>\n",
       "      <th>id</th>\n",
       "      <th>fans_count</th>\n",
       "    </tr>\n",
       "  </thead>\n",
       "  <tbody>\n",
       "    <tr>\n",
       "      <th>count</th>\n",
       "      <td>3.517400e+05</td>\n",
       "      <td>351740.000000</td>\n",
       "      <td>351740.000000</td>\n",
       "      <td>3.517400e+05</td>\n",
       "      <td>3.517400e+05</td>\n",
       "      <td>351740.000000</td>\n",
       "    </tr>\n",
       "    <tr>\n",
       "      <th>mean</th>\n",
       "      <td>4.770952e+03</td>\n",
       "      <td>3.651283</td>\n",
       "      <td>331.018414</td>\n",
       "      <td>2.593874e+01</td>\n",
       "      <td>7.751783e+06</td>\n",
       "      <td>111.624663</td>\n",
       "    </tr>\n",
       "    <tr>\n",
       "      <th>std</th>\n",
       "      <td>9.769769e+04</td>\n",
       "      <td>1.210085</td>\n",
       "      <td>3857.686173</td>\n",
       "      <td>3.066201e+03</td>\n",
       "      <td>6.578581e+06</td>\n",
       "      <td>2661.120073</td>\n",
       "    </tr>\n",
       "    <tr>\n",
       "      <th>min</th>\n",
       "      <td>0.000000e+00</td>\n",
       "      <td>0.000000</td>\n",
       "      <td>0.000000</td>\n",
       "      <td>0.000000e+00</td>\n",
       "      <td>4.000000e+00</td>\n",
       "      <td>0.000000</td>\n",
       "    </tr>\n",
       "    <tr>\n",
       "      <th>25%</th>\n",
       "      <td>6.000000e+00</td>\n",
       "      <td>3.600000</td>\n",
       "      <td>1.000000</td>\n",
       "      <td>2.000000e+00</td>\n",
       "      <td>1.534690e+06</td>\n",
       "      <td>1.000000</td>\n",
       "    </tr>\n",
       "    <tr>\n",
       "      <th>50%</th>\n",
       "      <td>3.900000e+01</td>\n",
       "      <td>3.950000</td>\n",
       "      <td>8.000000</td>\n",
       "      <td>6.000000e+00</td>\n",
       "      <td>6.470274e+06</td>\n",
       "      <td>4.000000</td>\n",
       "    </tr>\n",
       "    <tr>\n",
       "      <th>75%</th>\n",
       "      <td>3.100000e+02</td>\n",
       "      <td>4.250000</td>\n",
       "      <td>53.000000</td>\n",
       "      <td>1.500000e+01</td>\n",
       "      <td>1.434083e+07</td>\n",
       "      <td>20.000000</td>\n",
       "    </tr>\n",
       "    <tr>\n",
       "      <th>max</th>\n",
       "      <td>2.700375e+07</td>\n",
       "      <td>5.000000</td>\n",
       "      <td>608956.000000</td>\n",
       "      <td>1.775176e+06</td>\n",
       "      <td>2.124802e+07</td>\n",
       "      <td>766035.000000</td>\n",
       "    </tr>\n",
       "  </tbody>\n",
       "</table>\n",
       "</div>\n",
       "    <div class=\"colab-df-buttons\">\n",
       "\n",
       "  <div class=\"colab-df-container\">\n",
       "    <button class=\"colab-df-convert\" onclick=\"convertToInteractive('df-b7e700bf-cbaa-4f8d-8fc5-7c9e3f58f972')\"\n",
       "            title=\"Convert this dataframe to an interactive table.\"\n",
       "            style=\"display:none;\">\n",
       "\n",
       "  <svg xmlns=\"http://www.w3.org/2000/svg\" height=\"24px\" viewBox=\"0 -960 960 960\">\n",
       "    <path d=\"M120-120v-720h720v720H120Zm60-500h600v-160H180v160Zm220 220h160v-160H400v160Zm0 220h160v-160H400v160ZM180-400h160v-160H180v160Zm440 0h160v-160H620v160ZM180-180h160v-160H180v160Zm440 0h160v-160H620v160Z\"/>\n",
       "  </svg>\n",
       "    </button>\n",
       "\n",
       "  <style>\n",
       "    .colab-df-container {\n",
       "      display:flex;\n",
       "      gap: 12px;\n",
       "    }\n",
       "\n",
       "    .colab-df-convert {\n",
       "      background-color: #E8F0FE;\n",
       "      border: none;\n",
       "      border-radius: 50%;\n",
       "      cursor: pointer;\n",
       "      display: none;\n",
       "      fill: #1967D2;\n",
       "      height: 32px;\n",
       "      padding: 0 0 0 0;\n",
       "      width: 32px;\n",
       "    }\n",
       "\n",
       "    .colab-df-convert:hover {\n",
       "      background-color: #E2EBFA;\n",
       "      box-shadow: 0px 1px 2px rgba(60, 64, 67, 0.3), 0px 1px 3px 1px rgba(60, 64, 67, 0.15);\n",
       "      fill: #174EA6;\n",
       "    }\n",
       "\n",
       "    .colab-df-buttons div {\n",
       "      margin-bottom: 4px;\n",
       "    }\n",
       "\n",
       "    [theme=dark] .colab-df-convert {\n",
       "      background-color: #3B4455;\n",
       "      fill: #D2E3FC;\n",
       "    }\n",
       "\n",
       "    [theme=dark] .colab-df-convert:hover {\n",
       "      background-color: #434B5C;\n",
       "      box-shadow: 0px 1px 3px 1px rgba(0, 0, 0, 0.15);\n",
       "      filter: drop-shadow(0px 1px 2px rgba(0, 0, 0, 0.3));\n",
       "      fill: #FFFFFF;\n",
       "    }\n",
       "  </style>\n",
       "\n",
       "    <script>\n",
       "      const buttonEl =\n",
       "        document.querySelector('#df-b7e700bf-cbaa-4f8d-8fc5-7c9e3f58f972 button.colab-df-convert');\n",
       "      buttonEl.style.display =\n",
       "        google.colab.kernel.accessAllowed ? 'block' : 'none';\n",
       "\n",
       "      async function convertToInteractive(key) {\n",
       "        const element = document.querySelector('#df-b7e700bf-cbaa-4f8d-8fc5-7c9e3f58f972');\n",
       "        const dataTable =\n",
       "          await google.colab.kernel.invokeFunction('convertToInteractive',\n",
       "                                                    [key], {});\n",
       "        if (!dataTable) return;\n",
       "\n",
       "        const docLinkHtml = 'Like what you see? Visit the ' +\n",
       "          '<a target=\"_blank\" href=https://colab.research.google.com/notebooks/data_table.ipynb>data table notebook</a>'\n",
       "          + ' to learn more about interactive tables.';\n",
       "        element.innerHTML = '';\n",
       "        dataTable['output_type'] = 'display_data';\n",
       "        await google.colab.output.renderOutput(dataTable, element);\n",
       "        const docLink = document.createElement('div');\n",
       "        docLink.innerHTML = docLinkHtml;\n",
       "        element.appendChild(docLink);\n",
       "      }\n",
       "    </script>\n",
       "  </div>\n",
       "\n",
       "\n",
       "<div id=\"df-8397d542-f28f-4922-84ca-c3ded72340ca\">\n",
       "  <button class=\"colab-df-quickchart\" onclick=\"quickchart('df-8397d542-f28f-4922-84ca-c3ded72340ca')\"\n",
       "            title=\"Suggest charts.\"\n",
       "            style=\"display:none;\">\n",
       "\n",
       "<svg xmlns=\"http://www.w3.org/2000/svg\" height=\"24px\"viewBox=\"0 0 24 24\"\n",
       "     width=\"24px\">\n",
       "    <g>\n",
       "        <path d=\"M19 3H5c-1.1 0-2 .9-2 2v14c0 1.1.9 2 2 2h14c1.1 0 2-.9 2-2V5c0-1.1-.9-2-2-2zM9 17H7v-7h2v7zm4 0h-2V7h2v10zm4 0h-2v-4h2v4z\"/>\n",
       "    </g>\n",
       "</svg>\n",
       "  </button>\n",
       "\n",
       "<style>\n",
       "  .colab-df-quickchart {\n",
       "      --bg-color: #E8F0FE;\n",
       "      --fill-color: #1967D2;\n",
       "      --hover-bg-color: #E2EBFA;\n",
       "      --hover-fill-color: #174EA6;\n",
       "      --disabled-fill-color: #AAA;\n",
       "      --disabled-bg-color: #DDD;\n",
       "  }\n",
       "\n",
       "  [theme=dark] .colab-df-quickchart {\n",
       "      --bg-color: #3B4455;\n",
       "      --fill-color: #D2E3FC;\n",
       "      --hover-bg-color: #434B5C;\n",
       "      --hover-fill-color: #FFFFFF;\n",
       "      --disabled-bg-color: #3B4455;\n",
       "      --disabled-fill-color: #666;\n",
       "  }\n",
       "\n",
       "  .colab-df-quickchart {\n",
       "    background-color: var(--bg-color);\n",
       "    border: none;\n",
       "    border-radius: 50%;\n",
       "    cursor: pointer;\n",
       "    display: none;\n",
       "    fill: var(--fill-color);\n",
       "    height: 32px;\n",
       "    padding: 0;\n",
       "    width: 32px;\n",
       "  }\n",
       "\n",
       "  .colab-df-quickchart:hover {\n",
       "    background-color: var(--hover-bg-color);\n",
       "    box-shadow: 0 1px 2px rgba(60, 64, 67, 0.3), 0 1px 3px 1px rgba(60, 64, 67, 0.15);\n",
       "    fill: var(--button-hover-fill-color);\n",
       "  }\n",
       "\n",
       "  .colab-df-quickchart-complete:disabled,\n",
       "  .colab-df-quickchart-complete:disabled:hover {\n",
       "    background-color: var(--disabled-bg-color);\n",
       "    fill: var(--disabled-fill-color);\n",
       "    box-shadow: none;\n",
       "  }\n",
       "\n",
       "  .colab-df-spinner {\n",
       "    border: 2px solid var(--fill-color);\n",
       "    border-color: transparent;\n",
       "    border-bottom-color: var(--fill-color);\n",
       "    animation:\n",
       "      spin 1s steps(1) infinite;\n",
       "  }\n",
       "\n",
       "  @keyframes spin {\n",
       "    0% {\n",
       "      border-color: transparent;\n",
       "      border-bottom-color: var(--fill-color);\n",
       "      border-left-color: var(--fill-color);\n",
       "    }\n",
       "    20% {\n",
       "      border-color: transparent;\n",
       "      border-left-color: var(--fill-color);\n",
       "      border-top-color: var(--fill-color);\n",
       "    }\n",
       "    30% {\n",
       "      border-color: transparent;\n",
       "      border-left-color: var(--fill-color);\n",
       "      border-top-color: var(--fill-color);\n",
       "      border-right-color: var(--fill-color);\n",
       "    }\n",
       "    40% {\n",
       "      border-color: transparent;\n",
       "      border-right-color: var(--fill-color);\n",
       "      border-top-color: var(--fill-color);\n",
       "    }\n",
       "    60% {\n",
       "      border-color: transparent;\n",
       "      border-right-color: var(--fill-color);\n",
       "    }\n",
       "    80% {\n",
       "      border-color: transparent;\n",
       "      border-right-color: var(--fill-color);\n",
       "      border-bottom-color: var(--fill-color);\n",
       "    }\n",
       "    90% {\n",
       "      border-color: transparent;\n",
       "      border-bottom-color: var(--fill-color);\n",
       "    }\n",
       "  }\n",
       "</style>\n",
       "\n",
       "  <script>\n",
       "    async function quickchart(key) {\n",
       "      const quickchartButtonEl =\n",
       "        document.querySelector('#' + key + ' button');\n",
       "      quickchartButtonEl.disabled = true;  // To prevent multiple clicks.\n",
       "      quickchartButtonEl.classList.add('colab-df-spinner');\n",
       "      try {\n",
       "        const charts = await google.colab.kernel.invokeFunction(\n",
       "            'suggestCharts', [key], {});\n",
       "      } catch (error) {\n",
       "        console.error('Error during call to suggestCharts:', error);\n",
       "      }\n",
       "      quickchartButtonEl.classList.remove('colab-df-spinner');\n",
       "      quickchartButtonEl.classList.add('colab-df-quickchart-complete');\n",
       "    }\n",
       "    (() => {\n",
       "      let quickchartButtonEl =\n",
       "        document.querySelector('#df-8397d542-f28f-4922-84ca-c3ded72340ca button');\n",
       "      quickchartButtonEl.style.display =\n",
       "        google.colab.kernel.accessAllowed ? 'block' : 'none';\n",
       "    })();\n",
       "  </script>\n",
       "</div>\n",
       "    </div>\n",
       "  </div>\n"
      ],
      "text/plain": [
       "       ratings_count  average_rating  text_reviews_count   works_count  \\\n",
       "count   3.517400e+05   351740.000000       351740.000000  3.517400e+05   \n",
       "mean    4.770952e+03        3.651283          331.018414  2.593874e+01   \n",
       "std     9.769769e+04        1.210085         3857.686173  3.066201e+03   \n",
       "min     0.000000e+00        0.000000            0.000000  0.000000e+00   \n",
       "25%     6.000000e+00        3.600000            1.000000  2.000000e+00   \n",
       "50%     3.900000e+01        3.950000            8.000000  6.000000e+00   \n",
       "75%     3.100000e+02        4.250000           53.000000  1.500000e+01   \n",
       "max     2.700375e+07        5.000000       608956.000000  1.775176e+06   \n",
       "\n",
       "                 id     fans_count  \n",
       "count  3.517400e+05  351740.000000  \n",
       "mean   7.751783e+06     111.624663  \n",
       "std    6.578581e+06    2661.120073  \n",
       "min    4.000000e+00       0.000000  \n",
       "25%    1.534690e+06       1.000000  \n",
       "50%    6.470274e+06       4.000000  \n",
       "75%    1.434083e+07      20.000000  \n",
       "max    2.124802e+07  766035.000000  "
      ]
     },
     "execution_count": 18,
     "metadata": {},
     "output_type": "execute_result"
    }
   ],
   "source": [
    "#Let's do again the statistics.\n",
    "df_authors.info()\n",
    "df_authors.describe()"
   ]
  },
  {
   "cell_type": "code",
   "execution_count": 19,
   "metadata": {
    "colab": {
     "base_uri": "https://localhost:8080/",
     "height": 447
    },
    "executionInfo": {
     "elapsed": 851,
     "status": "ok",
     "timestamp": 1699208915282,
     "user": {
      "displayName": "erika ioana zetu",
      "userId": "15910750416664226910"
     },
     "user_tz": -60
    },
    "id": "C-3Azvcg-4AJ",
    "outputId": "0ff54e48-4990-4e7c-8a35-98e240056b8a"
   },
   "outputs": [
    {
     "data": {
      "text/plain": [
       "<Axes: ylabel='Frequency'>"
      ]
     },
     "execution_count": 19,
     "metadata": {},
     "output_type": "execute_result"
    },
    {
     "data": {
      "image/png": "[encoded data removed]",
      "text/plain": [
       "<Figure size 640x480 with 1 Axes>"
      ]
     },
     "metadata": {},
     "output_type": "display_data"
    }
   ],
   "source": [
    "#Histogram of average rating\n",
    "df_authors['average_rating'].plot.hist()"
   ]
  },
  {
   "cell_type": "code",
   "execution_count": 23,
   "metadata": {
    "colab": {
     "base_uri": "https://localhost:8080/",
     "height": 1000
    },
    "executionInfo": {
     "elapsed": 3839,
     "status": "ok",
     "timestamp": 1699208988080,
     "user": {
      "displayName": "erika ioana zetu",
      "userId": "15910750416664226910"
     },
     "user_tz": -60
    },
    "id": "OdeevjVf_EQv",
    "outputId": "4975feb9-0971-44ea-fa12-a31b1593f082"
   },
   "outputs": [
    {
     "name": "stdout",
     "output_type": "stream",
     "text": [
      "male                138169\n",
      "female              109871\n",
      "                    103367\n",
      "non-binary              48\n",
      "genderqueer             28\n",
      "                     ...  \n",
      "Unsolved                 1\n",
      "Husband and Wife         1\n",
      "AMAB                     1\n",
      "Master                   1\n",
      "Tomboy                   1\n",
      "Name: gender, Length: 150, dtype: int64\n"
     ]
    },
    {
     "data": {
      "text/plain": [
       "Text(0, 0.5, 'Freq')"
      ]
     },
     "execution_count": 23,
     "metadata": {},
     "output_type": "execute_result"
    },
    {
     "data": {
      "image/png": "[encoded data removed]",
      "text/plain": [
       "<Figure size 640x480 with 1 Axes>"
      ]
     },
     "metadata": {},
     "output_type": "display_data"
    }
   ],
   "source": [
    "#Barplot of the variable gender\n",
    "import matplotlib.pyplot as plt\n",
    "gender=df_authors['gender'].value_counts()\n",
    "print(gender)\n",
    "\n",
    "gender.plot(kind='bar', color='green')\n",
    "plt.xlabel('Gender')\n",
    "plt.ylabel('Freq')\n",
    "\n",
    "#As we can see, we have the first two columns rapresenting male (freq: 138169) and female (freq: 109871), and then we have\n",
    "#a lot of other modes of the variable, such as non-binary, genderqueer, unsolved, etc.\n"
   ]
  },
  {
   "cell_type": "markdown",
   "metadata": {
    "id": "fSAZrgsi4m5p"
   },
   "source": [
    "# RUNNA QUESTI ULTIMI GRAFICI"
   ]
  },
  {
   "cell_type": "code",
   "execution_count": null,
   "metadata": {
    "id": "mWgImazn-38c"
   },
   "outputs": [],
   "source": [
    "#Scatterplot of ratings count\n",
    "import matplotlib.pyplot as plt\n",
    "\n",
    "plt.scatter(df_authors['names'], df_authors['ratings_count'], color='green')\n",
    "plt.xlabel('Authors')\n",
    "plt.ylabel('Ratings count')"
   ]
  },
  {
   "cell_type": "code",
   "execution_count": null,
   "metadata": {
    "id": "sgxSpkZy-4EB"
   },
   "outputs": [],
   "source": [
    "#Scatterplot of ratings text reviews count\n",
    "import matplotlib.pyplot as plt\n",
    "\n",
    "plt.scatter(df_authors['names'], df_authors['text_reviews_count'], color='green')\n",
    "plt.xlabel('Authors')\n",
    "plt.ylabel('Text reviews count')"
   ]
  },
  {
   "cell_type": "code",
   "execution_count": null,
   "metadata": {
    "id": "LARWEqmd_EIw"
   },
   "outputs": [],
   "source": [
    "#Scatterplot of works count\n",
    "import matplotlib.pyplot as plt\n",
    "\n",
    "plt.scatter(df_authors['names'], df_authors['works_count'], color='green')\n",
    "plt.xlabel('Authors')\n",
    "plt.ylabel('Works count')"
   ]
  },
  {
   "cell_type": "code",
   "execution_count": null,
   "metadata": {
    "id": "VmBLNL1L_EM_"
   },
   "outputs": [],
   "source": [
    "#Scatterplot of fans count\n",
    "import matplotlib.pyplot as plt\n",
    "\n",
    "plt.scatter(df_authors['names'], df_authors['fans_count'], color='green')\n",
    "plt.xlabel('Authors')\n",
    "plt.ylabel('Fans count')"
   ]
  },
  {
   "cell_type": "markdown",
   "metadata": {
    "id": "T9_AV8Wh_OWS"
   },
   "source": [
    "**[RQ2]** Let’s finally dig into this vast dataset, retrieving some vital information:"
   ]
  },
  {
   "cell_type": "markdown",
   "metadata": {
    "id": "G68K93vd50VQ"
   },
   "source": [
    "# RUN TUTTO RQ2"
   ]
  },
  {
   "cell_type": "code",
   "execution_count": null,
   "metadata": {
    "id": "u6LqWtcc_EYu"
   },
   "outputs": [],
   "source": [
    "#RQ2.1\n",
    "#Plot the number of books for each author in descending order.\n",
    "num_books_byauthor = {}\n",
    "for chunk in pd.read_json('lighter_books.json', lines = True, chunksize=10000):\n",
    "  for author in chunk['author_name']:\n",
    "    if author in num_books_byauthor:\n",
    "      num_books_byauthor[author] += 1\n",
    "    else:\n",
    "      num_books_byauthor[author] = 1\n",
    "\n",
    "sorted_authors = dict(sorted(num_books_byauthor.items(), key=lambda x: x[1], reverse=True))\n",
    "\n",
    "import matplotlib.pyplot as plt\n",
    "author_names = list(sorted_authors.keys())\n",
    "num_books = list(sorted_authors.values())\n",
    "\n",
    "plt.bar(author_names, num_books)\n",
    "plt.xticks(rotation=90, fontsize=2)"
   ]
  },
  {
   "cell_type": "code",
   "execution_count": null,
   "metadata": {
    "colab": {
     "base_uri": "https://localhost:8080/",
     "height": 242
    },
    "executionInfo": {
     "elapsed": 347,
     "status": "error",
     "timestamp": 1699210336840,
     "user": {
      "displayName": "erika ioana zetu",
      "userId": "15910750416664226910"
     },
     "user_tz": -60
    },
    "id": "aWFpvc7k_Ecf",
    "outputId": "2f9b8b57-9b19-4370-f0ad-ef7e9945c3d9"
   },
   "outputs": [],
   "source": [
    "#RQ2.2\n",
    "#Which book has the highest number of reviews?\n",
    "max_ratingscount=0\n",
    "title=None\n",
    "for chunk in pd.read_json('lighter_books.json', lines = True, chunksize=10000):\n",
    "  v=chunk[chunk.ratings_count == chunk.ratings_count.max()].head(1)\n",
    "  if v.ratings_count.max() > max_ratingscount:\n",
    "    max_ratingscount=v.ratings_count.max()\n",
    "    title=v.title\n",
    "print(title)\n"
   ]
  },
  {
   "cell_type": "code",
   "execution_count": null,
   "metadata": {
    "id": "V5YMVLgm-4IP"
   },
   "outputs": [],
   "source": [
    "#RQ2.3\n",
    "#Which are the top ten and ten worst books concerning the average score?\n",
    "import pandas as pd\n",
    "\n",
    "top10_titles = []\n",
    "top10_ratings = []\n",
    "worst10_titles = []\n",
    "worst10_ratings = []\n",
    "\n",
    "for chunk in pd.read_json('lighter_books.json', lines=True, chunksize=10000):\n",
    "  sorted_chunk = chunk.sort_values(by='average_rating', ascending=False)\n",
    "  top10_books = sorted_chunk.head(10)\n",
    "  worst10_books = sorted_chunk.tail(10)\n",
    "  top10_titles.extend(top10_books['title'])\n",
    "  top10_ratings.extend(top10_books['average_rating'])\n",
    "  worst10_titles.extend(worst10_books['title'])\n",
    "  worst10_ratings.extend(worst10_books['average_rating'])\n",
    "\n",
    "top10_books = list(zip(top10_titles, top10_ratings))\n",
    "worst10_books = list(zip(worst10_titles, worst10_ratings))\n",
    "\n",
    "\n",
    "top10_books.sort(key=lambda x: x[1], reverse=True)\n",
    "worst10_books.sort(key=lambda x: x[1])\n",
    "\n",
    "print('TOP 10')\n",
    "for title, rating in top10_books[:10]:\n",
    "    print(f\"Title: {title}, Average Rating: {rating}\")\n",
    "print('WORST 10')\n",
    "for title, rating in worst10_books[:10]:\n",
    "    print(f\"Title: {title}, Average Rating: {rating}\")\n"
   ]
  },
  {
   "cell_type": "code",
   "execution_count": 7,
   "metadata": {
    "id": "dHJuzzOK_ZXb"
   },
   "outputs": [
    {
     "ename": "FileNotFoundError",
     "evalue": "File /content/lighter_books.json does not exist",
     "output_type": "error",
     "traceback": [
      "\u001b[1;31m---------------------------------------------------------------------------\u001b[0m",
      "\u001b[1;31mFileNotFoundError\u001b[0m                         Traceback (most recent call last)",
      "Cell \u001b[1;32mIn[7], line 6\u001b[0m\n\u001b[0;32m      4\u001b[0m \u001b[38;5;28;01mimport\u001b[39;00m \u001b[38;5;21;01mpandas\u001b[39;00m \u001b[38;5;28;01mas\u001b[39;00m \u001b[38;5;21;01mpd\u001b[39;00m\n\u001b[0;32m      5\u001b[0m num_languages \u001b[38;5;241m=\u001b[39m {}\n\u001b[1;32m----> 6\u001b[0m \u001b[38;5;28;01mfor\u001b[39;00m chunk \u001b[38;5;129;01min\u001b[39;00m pd\u001b[38;5;241m.\u001b[39mread_json(\u001b[38;5;124m'\u001b[39m\u001b[38;5;124m/content/lighter_books.json\u001b[39m\u001b[38;5;124m'\u001b[39m, lines \u001b[38;5;241m=\u001b[39m \u001b[38;5;28;01mTrue\u001b[39;00m, chunksize\u001b[38;5;241m=\u001b[39m\u001b[38;5;241m10000\u001b[39m):\n\u001b[0;32m      7\u001b[0m   \u001b[38;5;28;01mfor\u001b[39;00m language \u001b[38;5;129;01min\u001b[39;00m chunk[\u001b[38;5;124m'\u001b[39m\u001b[38;5;124mlanguage\u001b[39m\u001b[38;5;124m'\u001b[39m]:\n\u001b[0;32m      8\u001b[0m     \u001b[38;5;28;01mif\u001b[39;00m language \u001b[38;5;129;01min\u001b[39;00m num_languages:\n",
      "File \u001b[1;32m~\\anaconda3\\Lib\\site-packages\\pandas\\util\\_decorators.py:211\u001b[0m, in \u001b[0;36mdeprecate_kwarg.<locals>._deprecate_kwarg.<locals>.wrapper\u001b[1;34m(*args, **kwargs)\u001b[0m\n\u001b[0;32m    209\u001b[0m     \u001b[38;5;28;01melse\u001b[39;00m:\n\u001b[0;32m    210\u001b[0m         kwargs[new_arg_name] \u001b[38;5;241m=\u001b[39m new_arg_value\n\u001b[1;32m--> 211\u001b[0m \u001b[38;5;28;01mreturn\u001b[39;00m func(\u001b[38;5;241m*\u001b[39margs, \u001b[38;5;241m*\u001b[39m\u001b[38;5;241m*\u001b[39mkwargs)\n",
      "File \u001b[1;32m~\\anaconda3\\Lib\\site-packages\\pandas\\util\\_decorators.py:331\u001b[0m, in \u001b[0;36mdeprecate_nonkeyword_arguments.<locals>.decorate.<locals>.wrapper\u001b[1;34m(*args, **kwargs)\u001b[0m\n\u001b[0;32m    325\u001b[0m \u001b[38;5;28;01mif\u001b[39;00m \u001b[38;5;28mlen\u001b[39m(args) \u001b[38;5;241m>\u001b[39m num_allow_args:\n\u001b[0;32m    326\u001b[0m     warnings\u001b[38;5;241m.\u001b[39mwarn(\n\u001b[0;32m    327\u001b[0m         msg\u001b[38;5;241m.\u001b[39mformat(arguments\u001b[38;5;241m=\u001b[39m_format_argument_list(allow_args)),\n\u001b[0;32m    328\u001b[0m         \u001b[38;5;167;01mFutureWarning\u001b[39;00m,\n\u001b[0;32m    329\u001b[0m         stacklevel\u001b[38;5;241m=\u001b[39mfind_stack_level(),\n\u001b[0;32m    330\u001b[0m     )\n\u001b[1;32m--> 331\u001b[0m \u001b[38;5;28;01mreturn\u001b[39;00m func(\u001b[38;5;241m*\u001b[39margs, \u001b[38;5;241m*\u001b[39m\u001b[38;5;241m*\u001b[39mkwargs)\n",
      "File \u001b[1;32m~\\anaconda3\\Lib\\site-packages\\pandas\\io\\json\\_json.py:733\u001b[0m, in \u001b[0;36mread_json\u001b[1;34m(path_or_buf, orient, typ, dtype, convert_axes, convert_dates, keep_default_dates, numpy, precise_float, date_unit, encoding, encoding_errors, lines, chunksize, compression, nrows, storage_options)\u001b[0m\n\u001b[0;32m    730\u001b[0m \u001b[38;5;28;01mif\u001b[39;00m convert_axes \u001b[38;5;129;01mis\u001b[39;00m \u001b[38;5;28;01mNone\u001b[39;00m \u001b[38;5;129;01mand\u001b[39;00m orient \u001b[38;5;241m!=\u001b[39m \u001b[38;5;124m\"\u001b[39m\u001b[38;5;124mtable\u001b[39m\u001b[38;5;124m\"\u001b[39m:\n\u001b[0;32m    731\u001b[0m     convert_axes \u001b[38;5;241m=\u001b[39m \u001b[38;5;28;01mTrue\u001b[39;00m\n\u001b[1;32m--> 733\u001b[0m json_reader \u001b[38;5;241m=\u001b[39m JsonReader(\n\u001b[0;32m    734\u001b[0m     path_or_buf,\n\u001b[0;32m    735\u001b[0m     orient\u001b[38;5;241m=\u001b[39morient,\n\u001b[0;32m    736\u001b[0m     typ\u001b[38;5;241m=\u001b[39mtyp,\n\u001b[0;32m    737\u001b[0m     dtype\u001b[38;5;241m=\u001b[39mdtype,\n\u001b[0;32m    738\u001b[0m     convert_axes\u001b[38;5;241m=\u001b[39mconvert_axes,\n\u001b[0;32m    739\u001b[0m     convert_dates\u001b[38;5;241m=\u001b[39mconvert_dates,\n\u001b[0;32m    740\u001b[0m     keep_default_dates\u001b[38;5;241m=\u001b[39mkeep_default_dates,\n\u001b[0;32m    741\u001b[0m     numpy\u001b[38;5;241m=\u001b[39mnumpy,\n\u001b[0;32m    742\u001b[0m     precise_float\u001b[38;5;241m=\u001b[39mprecise_float,\n\u001b[0;32m    743\u001b[0m     date_unit\u001b[38;5;241m=\u001b[39mdate_unit,\n\u001b[0;32m    744\u001b[0m     encoding\u001b[38;5;241m=\u001b[39mencoding,\n\u001b[0;32m    745\u001b[0m     lines\u001b[38;5;241m=\u001b[39mlines,\n\u001b[0;32m    746\u001b[0m     chunksize\u001b[38;5;241m=\u001b[39mchunksize,\n\u001b[0;32m    747\u001b[0m     compression\u001b[38;5;241m=\u001b[39mcompression,\n\u001b[0;32m    748\u001b[0m     nrows\u001b[38;5;241m=\u001b[39mnrows,\n\u001b[0;32m    749\u001b[0m     storage_options\u001b[38;5;241m=\u001b[39mstorage_options,\n\u001b[0;32m    750\u001b[0m     encoding_errors\u001b[38;5;241m=\u001b[39mencoding_errors,\n\u001b[0;32m    751\u001b[0m )\n\u001b[0;32m    753\u001b[0m \u001b[38;5;28;01mif\u001b[39;00m chunksize:\n\u001b[0;32m    754\u001b[0m     \u001b[38;5;28;01mreturn\u001b[39;00m json_reader\n",
      "File \u001b[1;32m~\\anaconda3\\Lib\\site-packages\\pandas\\io\\json\\_json.py:818\u001b[0m, in \u001b[0;36mJsonReader.__init__\u001b[1;34m(self, filepath_or_buffer, orient, typ, dtype, convert_axes, convert_dates, keep_default_dates, numpy, precise_float, date_unit, encoding, lines, chunksize, compression, nrows, storage_options, encoding_errors)\u001b[0m\n\u001b[0;32m    815\u001b[0m     \u001b[38;5;28;01mif\u001b[39;00m \u001b[38;5;129;01mnot\u001b[39;00m \u001b[38;5;28mself\u001b[39m\u001b[38;5;241m.\u001b[39mlines:\n\u001b[0;32m    816\u001b[0m         \u001b[38;5;28;01mraise\u001b[39;00m \u001b[38;5;167;01mValueError\u001b[39;00m(\u001b[38;5;124m\"\u001b[39m\u001b[38;5;124mnrows can only be passed if lines=True\u001b[39m\u001b[38;5;124m\"\u001b[39m)\n\u001b[1;32m--> 818\u001b[0m data \u001b[38;5;241m=\u001b[39m \u001b[38;5;28mself\u001b[39m\u001b[38;5;241m.\u001b[39m_get_data_from_filepath(filepath_or_buffer)\n\u001b[0;32m    819\u001b[0m \u001b[38;5;28mself\u001b[39m\u001b[38;5;241m.\u001b[39mdata \u001b[38;5;241m=\u001b[39m \u001b[38;5;28mself\u001b[39m\u001b[38;5;241m.\u001b[39m_preprocess_data(data)\n",
      "File \u001b[1;32m~\\anaconda3\\Lib\\site-packages\\pandas\\io\\json\\_json.py:874\u001b[0m, in \u001b[0;36mJsonReader._get_data_from_filepath\u001b[1;34m(self, filepath_or_buffer)\u001b[0m\n\u001b[0;32m    866\u001b[0m     filepath_or_buffer \u001b[38;5;241m=\u001b[39m \u001b[38;5;28mself\u001b[39m\u001b[38;5;241m.\u001b[39mhandles\u001b[38;5;241m.\u001b[39mhandle\n\u001b[0;32m    867\u001b[0m \u001b[38;5;28;01melif\u001b[39;00m (\n\u001b[0;32m    868\u001b[0m     \u001b[38;5;28misinstance\u001b[39m(filepath_or_buffer, \u001b[38;5;28mstr\u001b[39m)\n\u001b[0;32m    869\u001b[0m     \u001b[38;5;129;01mand\u001b[39;00m filepath_or_buffer\u001b[38;5;241m.\u001b[39mlower()\u001b[38;5;241m.\u001b[39mendswith(\n\u001b[1;32m   (...)\u001b[0m\n\u001b[0;32m    872\u001b[0m     \u001b[38;5;129;01mand\u001b[39;00m \u001b[38;5;129;01mnot\u001b[39;00m file_exists(filepath_or_buffer)\n\u001b[0;32m    873\u001b[0m ):\n\u001b[1;32m--> 874\u001b[0m     \u001b[38;5;28;01mraise\u001b[39;00m \u001b[38;5;167;01mFileNotFoundError\u001b[39;00m(\u001b[38;5;124mf\u001b[39m\u001b[38;5;124m\"\u001b[39m\u001b[38;5;124mFile \u001b[39m\u001b[38;5;132;01m{\u001b[39;00mfilepath_or_buffer\u001b[38;5;132;01m}\u001b[39;00m\u001b[38;5;124m does not exist\u001b[39m\u001b[38;5;124m\"\u001b[39m)\n\u001b[0;32m    876\u001b[0m \u001b[38;5;28;01mreturn\u001b[39;00m filepath_or_buffer\n",
      "\u001b[1;31mFileNotFoundError\u001b[0m: File /content/lighter_books.json does not exist"
     ]
    }
   ],
   "source": [
    "#RQ2.4\n",
    "#Explore the different languages in the book’s dataset,\n",
    "#providing a proper chart summarizing how these languages are distributed throughout our virtual library.\n",
    "import pandas as pd\n",
    "num_languages = {}\n",
    "for chunk in pd.read_json('lighter_books.json', lines = True, chunksize=10000):\n",
    "  for language in chunk['language']:\n",
    "    if language in num_languages:\n",
    "      num_languages[language] += 1\n",
    "    else:\n",
    "      num_languages[language] = 1\n",
    "\n",
    "sorted_languages = dict(sorted(num_languages.items(), key=lambda x: x[1], reverse=True))\n",
    "print(sorted_languages)\n",
    "\n",
    "import matplotlib.pyplot as plt\n",
    "plt.figure(figsize=(10, 6))\n",
    "plt.bar(sorted_languages.keys(), sorted_languages.values(), color='green')\n",
    "plt.title('Distribution of languages')\n",
    "plt.xlabel('Language')\n",
    "plt.ylabel('Number of Books')\n",
    "plt.xticks(rotation=45)\n",
    "\n",
    "#As we can see, the most frequent language is english.\n",
    "#Also, we have a lot of books with unidentified language."
   ]
  },
  {
   "cell_type": "code",
   "execution_count": null,
   "metadata": {
    "id": "bwFKjUUR_Zbk"
   },
   "outputs": [],
   "source": [
    "#RQ2.5\n",
    "#How many books have more than 250 pages?\n",
    "\n",
    "import pandas as pd\n",
    "num_books = 0\n",
    "for chunk in pd.read_json('lighter_books.json', lines=True, chunksize=10000):\n",
    "  for pages in chunk['num_pages']:\n",
    "    if pages and int(pages) > 250:\n",
    "      num_books += 1\n",
    "\n",
    "print(num_books)\n",
    "\n"
   ]
  },
  {
   "cell_type": "code",
   "execution_count": null,
   "metadata": {
    "id": "uYjMSFcc_Zfu"
   },
   "outputs": [],
   "source": [
    "#RQ2.6\n",
    "#Plot the distribution of the fans count for the 50 most prolific authors (the ones who have written more books).\n",
    "top50_authors = df_authors.sort_values(by='works_count', ascending=False).head(50)\n",
    "fans_counts_top50 = list(zip(top50_authors['name'], top50_authors['fans_count']))\n",
    "\n",
    "import matplotlib.pyplot as plt\n",
    "authors, fan_counts = zip(*fans_counts_top50)\n",
    "\n",
    "plt.bar(authors, fan_counts, color='green')\n",
    "plt.xlabel('Authors')\n",
    "plt.ylabel('Fans Count')\n",
    "plt.title('Fans Count for Top 50 Authors')\n",
    "plt.xticks(rotation=90)\n",
    "plt.ylim(0, max(fan_counts) + 1000)"
   ]
  },
  {
   "cell_type": "markdown",
   "metadata": {
    "id": "agkYcJ1qnKPB"
   },
   "source": [
    "### RQ3"
   ]
  },
  {
   "cell_type": "markdown",
   "metadata": {
    "id": "VRXWW6m8oWey"
   },
   "source": [
    "#### RQ3.1\n",
    "Write a function that takes as input a year and returns as output the following information:\n",
    "\n",
    "The number of books published that year.\n",
    "\n",
    "The total number of pages written that year.\n",
    "\n",
    "The most prolific month of that year.\n",
    "\n",
    "The longest book written that year.\n",
    "\n"
   ]
  },
  {
   "cell_type": "code",
   "execution_count": null,
   "metadata": {
    "id": "mbfqYm3RnNiF"
   },
   "outputs": [],
   "source": [
    "def preprocess_data(df):\n",
    "    \"\"\"\n",
    "    Preprocesses the input DataFrame by cleaning and transforming the data.\n",
    "\n",
    "    Args:\n",
    "        df (pandas.DataFrame): The input DataFrame containing the data to be preprocessed.\n",
    "\n",
    "    Returns:\n",
    "        df (pandas.DataFrame): The preprocessed DataFrame after performing the following operations:\n",
    "            - Drops the 'authors' column from the DataFrame.\n",
    "            - Removes rows with missing values.\n",
    "            - Converts all columns to string type.\n",
    "            - Splits the 'publication_date' column into separate 'year', 'month', and 'day' columns based on the '-' delimiter.\n",
    "            - Converts 'year' and 'month' columns to numeric type.\n",
    "            - Removes rows with NaN values in 'year' and 'month'.\n",
    "            - Filters the DataFrame to include records with a 'year' less than or equal to 2023.\n",
    "            - Converts 'year', 'month', and 'num_pages' columns to 'Int64' type.\n",
    "            - Removes rows with missing values in the 'num_pages' column.\n",
    "    \"\"\"\n",
    "    columns_to_drop = ['authors', 'work_id', 'isbn',\n",
    "       'isbn13', 'asin', 'language', 'rating_dist',\n",
    "       'ratings_count', 'text_reviews_count',\n",
    "       'original_publication_date', 'format', 'edition_information',\n",
    "       'image_url', 'publisher', 'series_id', 'series_name',\n",
    "       'series_position', 'shelves', 'description']\n",
    "    df = df.drop(columns_to_drop, axis=1)\n",
    "    df.dropna(inplace=True)\n",
    "    df = df.astype(str)\n",
    "    df.drop_duplicates(inplace=True)\n",
    "\n",
    "    # Split 'publication_date' into 'year' and 'month' based on '-'\n",
    "    df[['year', 'month', 'day']] = df['publication_date'].str.split('-', expand=True)\n",
    "\n",
    "    # Convert year and month to numeric\n",
    "    df['year'] = pd.to_numeric(df['year'], errors='coerce')\n",
    "    df['month'] = pd.to_numeric(df['month'], errors='coerce')\n",
    "    df.dropna(inplace=True)\n",
    "\n",
    "    df = df[df['year'] <= 2023]\n",
    "\n",
    "    # Convert 'year', 'month' and 'num_pages' to Int64\n",
    "    df['year'] = df['year'].astype('Int64')\n",
    "    df['month'] = df['month'].astype('Int64')\n",
    "    df['num_pages'] = pd.to_numeric(df['num_pages'], errors='coerce').astype('Int64')\n",
    "    df = df[pd.notnull(df['num_pages'])]\n",
    "\n",
    "    return df\n"
   ]
  },
  {
   "cell_type": "code",
   "execution_count": null,
   "metadata": {
    "id": "Dc6liKWJlvO-"
   },
   "outputs": [],
   "source": [
    "def RQ3(df, year):\n",
    "    \"\"\"\n",
    "    Analyzes a DataFrame to extract insights for a specific year.\n",
    "\n",
    "    Args:\n",
    "        df (pandas.DataFrame): The input DataFrame containing book-related data.\n",
    "        year (int): The specific year for which data analysis is conducted.\n",
    "\n",
    "    Returns:\n",
    "        Tuple containing the following elements:\n",
    "        - number_books (int): The number of unique books published in the provided year.\n",
    "        - number_pages (int): The total number of pages from all books published in the provided year.\n",
    "        - prolific_month (int): The month with the highest number of books published in the provided year.\n",
    "        - book_with_max_pages (str): The title of the book with the highest number of pages published in the provided year.\n",
    "        - num_book_with_max_pages (int): The number of pages of the book with the highest number of pages published in the provided year.\n",
    "        - books_per_month (pandas.DataFrame): DataFrame showing the count of books published per month in the provided year.\n",
    "\n",
    "    \"\"\"\n",
    "    df_year = df[df['year'] == year]\n",
    "    number_books = df_year['id'].nunique()\n",
    "    number_pages = df_year['num_pages'].sum()\n",
    "    books_per_month = df_year.groupby('month').size().reset_index(name='books_published')\n",
    "\n",
    "    prolific_month = books_per_month[books_per_month['books_published'] == books_per_month['books_published'].max()]['month'].values[0]\n",
    "\n",
    "    max_page_index = df_year['num_pages'].idxmax()\n",
    "    num_book_with_max_pages = df_year.loc[max_page_index, 'num_pages']\n",
    "    book_with_max_pages = df_year.loc[max_page_index, 'title']\n",
    "\n",
    "    return number_books, number_pages, prolific_month, book_with_max_pages, num_book_with_max_pages, books_per_month\n",
    "\n"
   ]
  },
  {
   "cell_type": "markdown",
   "metadata": {
    "id": "nlAfVGFkolAX"
   },
   "source": [
    "#### RQ3.2\n",
    "Use this function to build your data frame: the primary key will be a year, and the required information will be the attributes within the row. Finally, show the head and the tail of this new data frame considering the first ten years registered and the last ten years."
   ]
  },
  {
   "cell_type": "code",
   "execution_count": null,
   "metadata": {
    "id": "8HHNM-P3mPx4"
   },
   "outputs": [],
   "source": [
    "def build_df(df):\n",
    "    \"\"\"\n",
    "    Builds a summary DataFrame containing yearly book-related statistics.\n",
    "\n",
    "    Args:\n",
    "        df (pandas.DataFrame): The input DataFrame containing book-related data for different years.\n",
    "\n",
    "    Returns:\n",
    "        pandas.DataFrame: A summary DataFrame with yearly statistics based on the provided data. The DataFrame includes the following columns:\n",
    "        - 'year': The year corresponding to the statistics.\n",
    "        - 'number_books': The total number of unique books published in each year.\n",
    "        - 'number_pages': The total number of pages from all books published in each year.\n",
    "        - 'prolific_month': The month with the highest number of books published in each year.\n",
    "        - 'book_with_max_pages': The title of the book with the highest number of pages published in each year.\n",
    "        - 'num_book_with_max_pages': The number of pages of the book with the highest page count published in each year.\n",
    "        - Columns '1' to '12' (representing months): The count of books published per month in each year.\n",
    "\n",
    "    Note:\n",
    "        This function utilizes the 'RQ3' function to compute statistics for each year and creates a summary DataFrame. Ensure the input DataFrame 'df' contains relevant columns such as 'year', 'id', 'num_pages', 'month', and 'title' for accurate analysis.\n",
    "    \"\"\"\n",
    "\n",
    "    years = df['year'].unique()\n",
    "    new_df = pd.DataFrame(columns=['year', 'number_books', 'number_pages', 'prolific_month', 'book_with_max_pages', 'num_book_with_max_pages', '1', '2', '3', '4', '5', '6', '7', '8', '9', '10', '11', '12'])\n",
    "\n",
    "    for i in range(len(years)):\n",
    "        number_books, number_pages, prolific_month, book_with_max_pages, num_book_with_max_pages, books_per_month = RQ3(df, years[i])\n",
    "\n",
    "        new_row = {'year': years[i],\n",
    "                   'number_books': number_books,\n",
    "                   'number_pages': number_pages,\n",
    "                   'prolific_month': prolific_month,\n",
    "                   'book_with_max_pages': book_with_max_pages,\n",
    "                   'num_book_with_max_pages': num_book_with_max_pages}\n",
    "\n",
    "        # Add columns for books published per month\n",
    "        for index, row in books_per_month.iterrows():\n",
    "            month = row['month']\n",
    "            books_published = row['books_published']\n",
    "            new_row[str(month)] = books_published\n",
    "\n",
    "        new_df = pd.concat([new_df, pd.DataFrame([new_row])], ignore_index=True)\n",
    "\n",
    "    new_df = new_df.fillna(0)\n",
    "    new_df = new_df.sort_values(by=['year'])\n",
    "    return new_df\n"
   ]
  },
  {
   "cell_type": "code",
   "execution_count": null,
   "metadata": {
    "id": "R0sccbGTl3N6"
   },
   "outputs": [],
   "source": [
    "def merge_dataframes(new_df1, new_df2):\n",
    "    \"\"\"\n",
    "    Merges and consolidates two DataFrames containing book-related statistics into a single comprehensive DataFrame.\n",
    "\n",
    "    Args:\n",
    "        new_df1 (pandas.DataFrame): The first DataFrame containing book-related statistics.\n",
    "        new_df2 (pandas.DataFrame): The second DataFrame containing book-related statistics.\n",
    "\n",
    "    Returns:\n",
    "        pandas.DataFrame: A merged DataFrame consolidating statistics from 'new_df1' and 'new_df2'. The merged DataFrame includes columns representing combined statistics, such as:\n",
    "        - 'year': The year corresponding to the statistics.\n",
    "        - 'number_books': Total number of unique books published for each year in both DataFrames.\n",
    "        - 'number_pages': Total number of pages from all books published for each year in both DataFrames.\n",
    "        - 'prolific_month': The most prolific month in each year based on combined data.\n",
    "        - 'book_with_max_pages': The title of the book with the highest number of pages published in each year from both DataFrames.\n",
    "        - 'num_book_with_max_pages': The number of pages of the book with the highest page count in each year from both DataFrames.\n",
    "        - Columns '1' to '12' (representing months): Total count of books published per month in each year from both DataFrames.\n",
    "\n",
    "    Note:\n",
    "        This function performs an outer merge of 'new_df1' and 'new_df2' DataFrames based on the 'year' column. It then consolidates and computes combined statistics to generate a single DataFrame.\n",
    "    \"\"\"\n",
    "\n",
    "    merged_df = pd.merge(new_df1, new_df2, on='year', how='outer', suffixes=('_df1', '_df2'))\n",
    "\n",
    "    merged_df['number_books'] = merged_df['number_books_df1'].fillna(0) + merged_df['number_books_df2'].fillna(0)\n",
    "    merged_df['number_pages'] = merged_df['number_pages_df1'].fillna(0) + merged_df['number_pages_df2'].fillna(0)\n",
    "\n",
    "    merged_df['book_with_max_pages'] = np.where(\n",
    "        merged_df['num_book_with_max_pages_df1'].fillna(0) >= merged_df['num_book_with_max_pages_df2'].fillna(0),\n",
    "        merged_df['book_with_max_pages_df1'],\n",
    "        merged_df['book_with_max_pages_df2']\n",
    "    )\n",
    "\n",
    "    merged_df['num_book_with_max_pages'] = merged_df[['num_book_with_max_pages_df1', 'num_book_with_max_pages_df2']].max(axis=1)\n",
    "\n",
    "    months = ['1', '2', '3', '4', '5', '6', '7', '8', '9', '10', '11', '12']\n",
    "    for month in months:\n",
    "        merged_df[month] = merged_df[month + '_df1'].fillna(0) + merged_df[month + '_df2'].fillna(0)\n",
    "\n",
    "    merged_df['prolific_month'] = merged_df[['1', '2', '3', '4', '5', '6', '7', '8', '9', '10', '11', '12']].idxmax(axis=1)\n",
    "\n",
    "    cols_to_drop = [col for col in merged_df.columns if '_df1' in col or '_df2' in col]\n",
    "    merged_df.drop(columns=cols_to_drop, inplace=True)\n",
    "\n",
    "    columns_to_convert = ['number_books', 'number_pages', 'prolific_month', 'num_book_with_max_pages', '1', '2', '3', '4', '5', '6', '7', '8', '9', '10', '11', '12']\n",
    "\n",
    "    merged_df[columns_to_convert] = merged_df[columns_to_convert].astype(int)\n",
    "\n",
    "    merged_df = merged_df.sort_values(by=['year'])\n",
    "\n",
    "    return merged_df\n"
   ]
  },
  {
   "cell_type": "code",
   "execution_count": null,
   "metadata": {
    "colab": {
     "base_uri": "https://localhost:8080/"
    },
    "id": "Y2fqmMSsl43c",
    "outputId": "6ad148ad-12ea-4652-9f56-9eedf311df45"
   },
   "outputs": [
    {
     "name": "stderr",
     "output_type": "stream",
     "text": [
      "<ipython-input-2-e0c8be33e35c>:36: SettingWithCopyWarning: \n",
      "A value is trying to be set on a copy of a slice from a DataFrame.\n",
      "Try using .loc[row_indexer,col_indexer] = value instead\n",
      "\n",
      "See the caveats in the documentation: https://pandas.pydata.org/pandas-docs/stable/user_guide/indexing.html#returning-a-view-versus-a-copy\n",
      "  df['year'] = df['year'].astype('Int64')\n",
      "<ipython-input-2-e0c8be33e35c>:36: SettingWithCopyWarning: \n",
      "A value is trying to be set on a copy of a slice from a DataFrame.\n",
      "Try using .loc[row_indexer,col_indexer] = value instead\n",
      "\n",
      "See the caveats in the documentation: https://pandas.pydata.org/pandas-docs/stable/user_guide/indexing.html#returning-a-view-versus-a-copy\n",
      "  df['year'] = df['year'].astype('Int64')\n"
     ]
    }
   ],
   "source": [
    "# Define the chunk size\n",
    "chunk_size = 10000\n",
    "\n",
    "json_reader = pd.read_json('/content/drive/MyDrive/Dataset HW2/lighter_books.json', lines=True, chunksize=chunk_size)\n",
    "\n",
    "is_first = True\n",
    "for chunk in json_reader:\n",
    "    if is_first:\n",
    "        main = preprocess_data(chunk)\n",
    "        main = build_df(main)\n",
    "        is_first = False\n",
    "\n",
    "    current = preprocess_data(chunk)\n",
    "    current = build_df(current)\n",
    "    main = merge_dataframes(main, current)"
   ]
  },
  {
   "cell_type": "code",
   "execution_count": null,
   "metadata": {
    "id": "099DnuYiuO75"
   },
   "outputs": [],
   "source": [
    "main.to_pickle('books_data_final.pkl')"
   ]
  },
  {
   "cell_type": "code",
   "execution_count": null,
   "metadata": {
    "id": "iTp84xRAuoBy"
   },
   "outputs": [],
   "source": [
    "import shutil\n",
    "\n",
    "# Source path\n",
    "source_books = '/content/books_data_final.pkl'\n",
    "\n",
    "# Destination path\n",
    "destination = '/content/drive/MyDrive/Dataset HW2'\n",
    "\n",
    "# Move the content of\n",
    "# source to destination\n",
    "dest = shutil.move(source_books, destination)"
   ]
  },
  {
   "cell_type": "code",
   "execution_count": null,
   "metadata": {
    "colab": {
     "base_uri": "https://localhost:8080/",
     "height": 398
    },
    "id": "hmbfbrL-ztMv",
    "outputId": "2f35e9c6-c86e-4d46-e50a-c463e8908452"
   },
   "outputs": [
    {
     "data": {
      "text/html": [
       "\n",
       "  <div id=\"df-adbc7460-814b-4627-82f9-bc10aca5c6aa\" class=\"colab-df-container\">\n",
       "    <div>\n",
       "<style scoped>\n",
       "    .dataframe tbody tr th:only-of-type {\n",
       "        vertical-align: middle;\n",
       "    }\n",
       "\n",
       "    .dataframe tbody tr th {\n",
       "        vertical-align: top;\n",
       "    }\n",
       "\n",
       "    .dataframe thead th {\n",
       "        text-align: right;\n",
       "    }\n",
       "</style>\n",
       "<table border=\"1\" class=\"dataframe\">\n",
       "  <thead>\n",
       "    <tr style=\"text-align: right;\">\n",
       "      <th></th>\n",
       "      <th>year</th>\n",
       "      <th>number_books</th>\n",
       "      <th>number_pages</th>\n",
       "      <th>book_with_max_pages</th>\n",
       "      <th>num_book_with_max_pages</th>\n",
       "      <th>1</th>\n",
       "      <th>2</th>\n",
       "      <th>3</th>\n",
       "      <th>4</th>\n",
       "      <th>5</th>\n",
       "      <th>6</th>\n",
       "      <th>7</th>\n",
       "      <th>8</th>\n",
       "      <th>9</th>\n",
       "      <th>10</th>\n",
       "      <th>11</th>\n",
       "      <th>12</th>\n",
       "      <th>prolific_month</th>\n",
       "    </tr>\n",
       "  </thead>\n",
       "  <tbody>\n",
       "    <tr>\n",
       "      <th>0</th>\n",
       "      <td>1</td>\n",
       "      <td>11</td>\n",
       "      <td>2923</td>\n",
       "      <td>The Cambridge History of Russia, Vol 2</td>\n",
       "      <td>806</td>\n",
       "      <td>6</td>\n",
       "      <td>2</td>\n",
       "      <td>1</td>\n",
       "      <td>1</td>\n",
       "      <td>0</td>\n",
       "      <td>1</td>\n",
       "      <td>0</td>\n",
       "      <td>0</td>\n",
       "      <td>0</td>\n",
       "      <td>0</td>\n",
       "      <td>0</td>\n",
       "      <td>0</td>\n",
       "      <td>1</td>\n",
       "    </tr>\n",
       "    <tr>\n",
       "      <th>1</th>\n",
       "      <td>2</td>\n",
       "      <td>10</td>\n",
       "      <td>884</td>\n",
       "      <td>The Coach's Wife</td>\n",
       "      <td>270</td>\n",
       "      <td>0</td>\n",
       "      <td>1</td>\n",
       "      <td>1</td>\n",
       "      <td>2</td>\n",
       "      <td>0</td>\n",
       "      <td>0</td>\n",
       "      <td>2</td>\n",
       "      <td>0</td>\n",
       "      <td>0</td>\n",
       "      <td>3</td>\n",
       "      <td>0</td>\n",
       "      <td>1</td>\n",
       "      <td>10</td>\n",
       "    </tr>\n",
       "    <tr>\n",
       "      <th>2</th>\n",
       "      <td>3</td>\n",
       "      <td>2</td>\n",
       "      <td>404</td>\n",
       "      <td>Sprängaren (Annika Bengtzon, #4)</td>\n",
       "      <td>376</td>\n",
       "      <td>0</td>\n",
       "      <td>1</td>\n",
       "      <td>0</td>\n",
       "      <td>0</td>\n",
       "      <td>1</td>\n",
       "      <td>0</td>\n",
       "      <td>0</td>\n",
       "      <td>0</td>\n",
       "      <td>0</td>\n",
       "      <td>0</td>\n",
       "      <td>0</td>\n",
       "      <td>0</td>\n",
       "      <td>2</td>\n",
       "    </tr>\n",
       "    <tr>\n",
       "      <th>3</th>\n",
       "      <td>4</td>\n",
       "      <td>1</td>\n",
       "      <td>100</td>\n",
       "      <td>These Peripheries</td>\n",
       "      <td>100</td>\n",
       "      <td>0</td>\n",
       "      <td>0</td>\n",
       "      <td>0</td>\n",
       "      <td>1</td>\n",
       "      <td>0</td>\n",
       "      <td>0</td>\n",
       "      <td>0</td>\n",
       "      <td>0</td>\n",
       "      <td>0</td>\n",
       "      <td>0</td>\n",
       "      <td>0</td>\n",
       "      <td>0</td>\n",
       "      <td>4</td>\n",
       "    </tr>\n",
       "    <tr>\n",
       "      <th>4</th>\n",
       "      <td>5</td>\n",
       "      <td>2</td>\n",
       "      <td>471</td>\n",
       "      <td>The Killer App</td>\n",
       "      <td>366</td>\n",
       "      <td>0</td>\n",
       "      <td>0</td>\n",
       "      <td>1</td>\n",
       "      <td>0</td>\n",
       "      <td>1</td>\n",
       "      <td>0</td>\n",
       "      <td>0</td>\n",
       "      <td>0</td>\n",
       "      <td>0</td>\n",
       "      <td>0</td>\n",
       "      <td>0</td>\n",
       "      <td>0</td>\n",
       "      <td>3</td>\n",
       "    </tr>\n",
       "    <tr>\n",
       "      <th>5</th>\n",
       "      <td>6</td>\n",
       "      <td>3</td>\n",
       "      <td>327</td>\n",
       "      <td>قتلة</td>\n",
       "      <td>192</td>\n",
       "      <td>0</td>\n",
       "      <td>0</td>\n",
       "      <td>0</td>\n",
       "      <td>0</td>\n",
       "      <td>1</td>\n",
       "      <td>1</td>\n",
       "      <td>0</td>\n",
       "      <td>0</td>\n",
       "      <td>0</td>\n",
       "      <td>1</td>\n",
       "      <td>0</td>\n",
       "      <td>0</td>\n",
       "      <td>5</td>\n",
       "    </tr>\n",
       "    <tr>\n",
       "      <th>6</th>\n",
       "      <td>8</td>\n",
       "      <td>5</td>\n",
       "      <td>869</td>\n",
       "      <td>The Electric Chair; Journals of H.H. The Most ...</td>\n",
       "      <td>474</td>\n",
       "      <td>0</td>\n",
       "      <td>0</td>\n",
       "      <td>0</td>\n",
       "      <td>0</td>\n",
       "      <td>0</td>\n",
       "      <td>0</td>\n",
       "      <td>0</td>\n",
       "      <td>3</td>\n",
       "      <td>2</td>\n",
       "      <td>0</td>\n",
       "      <td>0</td>\n",
       "      <td>0</td>\n",
       "      <td>8</td>\n",
       "    </tr>\n",
       "    <tr>\n",
       "      <th>7</th>\n",
       "      <td>9</td>\n",
       "      <td>9</td>\n",
       "      <td>1772</td>\n",
       "      <td>Songs of Milkweed; A Gift From the Fields I</td>\n",
       "      <td>715</td>\n",
       "      <td>0</td>\n",
       "      <td>0</td>\n",
       "      <td>2</td>\n",
       "      <td>0</td>\n",
       "      <td>1</td>\n",
       "      <td>1</td>\n",
       "      <td>0</td>\n",
       "      <td>0</td>\n",
       "      <td>2</td>\n",
       "      <td>1</td>\n",
       "      <td>1</td>\n",
       "      <td>1</td>\n",
       "      <td>3</td>\n",
       "    </tr>\n",
       "    <tr>\n",
       "      <th>8</th>\n",
       "      <td>10</td>\n",
       "      <td>5</td>\n",
       "      <td>726</td>\n",
       "      <td>Rogue Wave</td>\n",
       "      <td>244</td>\n",
       "      <td>1</td>\n",
       "      <td>1</td>\n",
       "      <td>0</td>\n",
       "      <td>0</td>\n",
       "      <td>0</td>\n",
       "      <td>0</td>\n",
       "      <td>0</td>\n",
       "      <td>0</td>\n",
       "      <td>0</td>\n",
       "      <td>2</td>\n",
       "      <td>1</td>\n",
       "      <td>0</td>\n",
       "      <td>10</td>\n",
       "    </tr>\n",
       "    <tr>\n",
       "      <th>9</th>\n",
       "      <td>11</td>\n",
       "      <td>15</td>\n",
       "      <td>2802</td>\n",
       "      <td>Alltför nära</td>\n",
       "      <td>404</td>\n",
       "      <td>0</td>\n",
       "      <td>1</td>\n",
       "      <td>1</td>\n",
       "      <td>1</td>\n",
       "      <td>1</td>\n",
       "      <td>1</td>\n",
       "      <td>2</td>\n",
       "      <td>1</td>\n",
       "      <td>1</td>\n",
       "      <td>1</td>\n",
       "      <td>3</td>\n",
       "      <td>2</td>\n",
       "      <td>11</td>\n",
       "    </tr>\n",
       "  </tbody>\n",
       "</table>\n",
       "</div>\n",
       "    <div class=\"colab-df-buttons\">\n",
       "\n",
       "  <div class=\"colab-df-container\">\n",
       "    <button class=\"colab-df-convert\" onclick=\"convertToInteractive('df-adbc7460-814b-4627-82f9-bc10aca5c6aa')\"\n",
       "            title=\"Convert this dataframe to an interactive table.\"\n",
       "            style=\"display:none;\">\n",
       "\n",
       "  <svg xmlns=\"http://www.w3.org/2000/svg\" height=\"24px\" viewBox=\"0 -960 960 960\">\n",
       "    <path d=\"M120-120v-720h720v720H120Zm60-500h600v-160H180v160Zm220 220h160v-160H400v160Zm0 220h160v-160H400v160ZM180-400h160v-160H180v160Zm440 0h160v-160H620v160ZM180-180h160v-160H180v160Zm440 0h160v-160H620v160Z\"/>\n",
       "  </svg>\n",
       "    </button>\n",
       "\n",
       "  <style>\n",
       "    .colab-df-container {\n",
       "      display:flex;\n",
       "      gap: 12px;\n",
       "    }\n",
       "\n",
       "    .colab-df-convert {\n",
       "      background-color: #E8F0FE;\n",
       "      border: none;\n",
       "      border-radius: 50%;\n",
       "      cursor: pointer;\n",
       "      display: none;\n",
       "      fill: #1967D2;\n",
       "      height: 32px;\n",
       "      padding: 0 0 0 0;\n",
       "      width: 32px;\n",
       "    }\n",
       "\n",
       "    .colab-df-convert:hover {\n",
       "      background-color: #E2EBFA;\n",
       "      box-shadow: 0px 1px 2px rgba(60, 64, 67, 0.3), 0px 1px 3px 1px rgba(60, 64, 67, 0.15);\n",
       "      fill: #174EA6;\n",
       "    }\n",
       "\n",
       "    .colab-df-buttons div {\n",
       "      margin-bottom: 4px;\n",
       "    }\n",
       "\n",
       "    [theme=dark] .colab-df-convert {\n",
       "      background-color: #3B4455;\n",
       "      fill: #D2E3FC;\n",
       "    }\n",
       "\n",
       "    [theme=dark] .colab-df-convert:hover {\n",
       "      background-color: #434B5C;\n",
       "      box-shadow: 0px 1px 3px 1px rgba(0, 0, 0, 0.15);\n",
       "      filter: drop-shadow(0px 1px 2px rgba(0, 0, 0, 0.3));\n",
       "      fill: #FFFFFF;\n",
       "    }\n",
       "  </style>\n",
       "\n",
       "    <script>\n",
       "      const buttonEl =\n",
       "        document.querySelector('#df-adbc7460-814b-4627-82f9-bc10aca5c6aa button.colab-df-convert');\n",
       "      buttonEl.style.display =\n",
       "        google.colab.kernel.accessAllowed ? 'block' : 'none';\n",
       "\n",
       "      async function convertToInteractive(key) {\n",
       "        const element = document.querySelector('#df-adbc7460-814b-4627-82f9-bc10aca5c6aa');\n",
       "        const dataTable =\n",
       "          await google.colab.kernel.invokeFunction('convertToInteractive',\n",
       "                                                    [key], {});\n",
       "        if (!dataTable) return;\n",
       "\n",
       "        const docLinkHtml = 'Like what you see? Visit the ' +\n",
       "          '<a target=\"_blank\" href=https://colab.research.google.com/notebooks/data_table.ipynb>data table notebook</a>'\n",
       "          + ' to learn more about interactive tables.';\n",
       "        element.innerHTML = '';\n",
       "        dataTable['output_type'] = 'display_data';\n",
       "        await google.colab.output.renderOutput(dataTable, element);\n",
       "        const docLink = document.createElement('div');\n",
       "        docLink.innerHTML = docLinkHtml;\n",
       "        element.appendChild(docLink);\n",
       "      }\n",
       "    </script>\n",
       "  </div>\n",
       "\n",
       "\n",
       "<div id=\"df-6b7b321b-d580-48be-94a3-efe21d7dad00\">\n",
       "  <button class=\"colab-df-quickchart\" onclick=\"quickchart('df-6b7b321b-d580-48be-94a3-efe21d7dad00')\"\n",
       "            title=\"Suggest charts.\"\n",
       "            style=\"display:none;\">\n",
       "\n",
       "<svg xmlns=\"http://www.w3.org/2000/svg\" height=\"24px\"viewBox=\"0 0 24 24\"\n",
       "     width=\"24px\">\n",
       "    <g>\n",
       "        <path d=\"M19 3H5c-1.1 0-2 .9-2 2v14c0 1.1.9 2 2 2h14c1.1 0 2-.9 2-2V5c0-1.1-.9-2-2-2zM9 17H7v-7h2v7zm4 0h-2V7h2v10zm4 0h-2v-4h2v4z\"/>\n",
       "    </g>\n",
       "</svg>\n",
       "  </button>\n",
       "\n",
       "<style>\n",
       "  .colab-df-quickchart {\n",
       "      --bg-color: #E8F0FE;\n",
       "      --fill-color: #1967D2;\n",
       "      --hover-bg-color: #E2EBFA;\n",
       "      --hover-fill-color: #174EA6;\n",
       "      --disabled-fill-color: #AAA;\n",
       "      --disabled-bg-color: #DDD;\n",
       "  }\n",
       "\n",
       "  [theme=dark] .colab-df-quickchart {\n",
       "      --bg-color: #3B4455;\n",
       "      --fill-color: #D2E3FC;\n",
       "      --hover-bg-color: #434B5C;\n",
       "      --hover-fill-color: #FFFFFF;\n",
       "      --disabled-bg-color: #3B4455;\n",
       "      --disabled-fill-color: #666;\n",
       "  }\n",
       "\n",
       "  .colab-df-quickchart {\n",
       "    background-color: var(--bg-color);\n",
       "    border: none;\n",
       "    border-radius: 50%;\n",
       "    cursor: pointer;\n",
       "    display: none;\n",
       "    fill: var(--fill-color);\n",
       "    height: 32px;\n",
       "    padding: 0;\n",
       "    width: 32px;\n",
       "  }\n",
       "\n",
       "  .colab-df-quickchart:hover {\n",
       "    background-color: var(--hover-bg-color);\n",
       "    box-shadow: 0 1px 2px rgba(60, 64, 67, 0.3), 0 1px 3px 1px rgba(60, 64, 67, 0.15);\n",
       "    fill: var(--button-hover-fill-color);\n",
       "  }\n",
       "\n",
       "  .colab-df-quickchart-complete:disabled,\n",
       "  .colab-df-quickchart-complete:disabled:hover {\n",
       "    background-color: var(--disabled-bg-color);\n",
       "    fill: var(--disabled-fill-color);\n",
       "    box-shadow: none;\n",
       "  }\n",
       "\n",
       "  .colab-df-spinner {\n",
       "    border: 2px solid var(--fill-color);\n",
       "    border-color: transparent;\n",
       "    border-bottom-color: var(--fill-color);\n",
       "    animation:\n",
       "      spin 1s steps(1) infinite;\n",
       "  }\n",
       "\n",
       "  @keyframes spin {\n",
       "    0% {\n",
       "      border-color: transparent;\n",
       "      border-bottom-color: var(--fill-color);\n",
       "      border-left-color: var(--fill-color);\n",
       "    }\n",
       "    20% {\n",
       "      border-color: transparent;\n",
       "      border-left-color: var(--fill-color);\n",
       "      border-top-color: var(--fill-color);\n",
       "    }\n",
       "    30% {\n",
       "      border-color: transparent;\n",
       "      border-left-color: var(--fill-color);\n",
       "      border-top-color: var(--fill-color);\n",
       "      border-right-color: var(--fill-color);\n",
       "    }\n",
       "    40% {\n",
       "      border-color: transparent;\n",
       "      border-right-color: var(--fill-color);\n",
       "      border-top-color: var(--fill-color);\n",
       "    }\n",
       "    60% {\n",
       "      border-color: transparent;\n",
       "      border-right-color: var(--fill-color);\n",
       "    }\n",
       "    80% {\n",
       "      border-color: transparent;\n",
       "      border-right-color: var(--fill-color);\n",
       "      border-bottom-color: var(--fill-color);\n",
       "    }\n",
       "    90% {\n",
       "      border-color: transparent;\n",
       "      border-bottom-color: var(--fill-color);\n",
       "    }\n",
       "  }\n",
       "</style>\n",
       "\n",
       "  <script>\n",
       "    async function quickchart(key) {\n",
       "      const quickchartButtonEl =\n",
       "        document.querySelector('#' + key + ' button');\n",
       "      quickchartButtonEl.disabled = true;  // To prevent multiple clicks.\n",
       "      quickchartButtonEl.classList.add('colab-df-spinner');\n",
       "      try {\n",
       "        const charts = await google.colab.kernel.invokeFunction(\n",
       "            'suggestCharts', [key], {});\n",
       "      } catch (error) {\n",
       "        console.error('Error during call to suggestCharts:', error);\n",
       "      }\n",
       "      quickchartButtonEl.classList.remove('colab-df-spinner');\n",
       "      quickchartButtonEl.classList.add('colab-df-quickchart-complete');\n",
       "    }\n",
       "    (() => {\n",
       "      let quickchartButtonEl =\n",
       "        document.querySelector('#df-6b7b321b-d580-48be-94a3-efe21d7dad00 button');\n",
       "      quickchartButtonEl.style.display =\n",
       "        google.colab.kernel.accessAllowed ? 'block' : 'none';\n",
       "    })();\n",
       "  </script>\n",
       "</div>\n",
       "    </div>\n",
       "  </div>\n"
      ],
      "text/plain": [
       "   year  number_books  number_pages  \\\n",
       "0     1            11          2923   \n",
       "1     2            10           884   \n",
       "2     3             2           404   \n",
       "3     4             1           100   \n",
       "4     5             2           471   \n",
       "5     6             3           327   \n",
       "6     8             5           869   \n",
       "7     9             9          1772   \n",
       "8    10             5           726   \n",
       "9    11            15          2802   \n",
       "\n",
       "                                 book_with_max_pages  num_book_with_max_pages  \\\n",
       "0             The Cambridge History of Russia, Vol 2                      806   \n",
       "1                                   The Coach's Wife                      270   \n",
       "2                   Sprängaren (Annika Bengtzon, #4)                      376   \n",
       "3                                  These Peripheries                      100   \n",
       "4                                     The Killer App                      366   \n",
       "5                                               قتلة                      192   \n",
       "6  The Electric Chair; Journals of H.H. The Most ...                      474   \n",
       "7        Songs of Milkweed; A Gift From the Fields I                      715   \n",
       "8                                         Rogue Wave                      244   \n",
       "9                                       Alltför nära                      404   \n",
       "\n",
       "   1  2  3  4  5  6  7  8  9  10  11  12  prolific_month  \n",
       "0  6  2  1  1  0  1  0  0  0   0   0   0               1  \n",
       "1  0  1  1  2  0  0  2  0  0   3   0   1              10  \n",
       "2  0  1  0  0  1  0  0  0  0   0   0   0               2  \n",
       "3  0  0  0  1  0  0  0  0  0   0   0   0               4  \n",
       "4  0  0  1  0  1  0  0  0  0   0   0   0               3  \n",
       "5  0  0  0  0  1  1  0  0  0   1   0   0               5  \n",
       "6  0  0  0  0  0  0  0  3  2   0   0   0               8  \n",
       "7  0  0  2  0  1  1  0  0  2   1   1   1               3  \n",
       "8  1  1  0  0  0  0  0  0  0   2   1   0              10  \n",
       "9  0  1  1  1  1  1  2  1  1   1   3   2              11  "
      ]
     },
     "execution_count": 11,
     "metadata": {},
     "output_type": "execute_result"
    }
   ],
   "source": [
    "main.head(10)"
   ]
  },
  {
   "cell_type": "code",
   "execution_count": null,
   "metadata": {
    "colab": {
     "base_uri": "https://localhost:8080/",
     "height": 522
    },
    "id": "3Dj6eM1ezwNv",
    "outputId": "9a0cd279-34b2-4a69-c0e6-23b74c85635a"
   },
   "outputs": [
    {
     "data": {
      "text/html": [
       "\n",
       "  <div id=\"df-15951cc9-4584-4b88-a5b7-40e89ea93e5f\" class=\"colab-df-container\">\n",
       "    <div>\n",
       "<style scoped>\n",
       "    .dataframe tbody tr th:only-of-type {\n",
       "        vertical-align: middle;\n",
       "    }\n",
       "\n",
       "    .dataframe tbody tr th {\n",
       "        vertical-align: top;\n",
       "    }\n",
       "\n",
       "    .dataframe thead th {\n",
       "        text-align: right;\n",
       "    }\n",
       "</style>\n",
       "<table border=\"1\" class=\"dataframe\">\n",
       "  <thead>\n",
       "    <tr style=\"text-align: right;\">\n",
       "      <th></th>\n",
       "      <th>year</th>\n",
       "      <th>number_books</th>\n",
       "      <th>number_pages</th>\n",
       "      <th>book_with_max_pages</th>\n",
       "      <th>num_book_with_max_pages</th>\n",
       "      <th>1</th>\n",
       "      <th>2</th>\n",
       "      <th>3</th>\n",
       "      <th>4</th>\n",
       "      <th>5</th>\n",
       "      <th>6</th>\n",
       "      <th>7</th>\n",
       "      <th>8</th>\n",
       "      <th>9</th>\n",
       "      <th>10</th>\n",
       "      <th>11</th>\n",
       "      <th>12</th>\n",
       "      <th>prolific_month</th>\n",
       "    </tr>\n",
       "  </thead>\n",
       "  <tbody>\n",
       "    <tr>\n",
       "      <th>350</th>\n",
       "      <td>2014</td>\n",
       "      <td>301765</td>\n",
       "      <td>86088056</td>\n",
       "      <td>Fermata Qt8 - Storie Ripensate in Metropolitana</td>\n",
       "      <td>10000000</td>\n",
       "      <td>30819</td>\n",
       "      <td>22159</td>\n",
       "      <td>24035</td>\n",
       "      <td>26452</td>\n",
       "      <td>55515</td>\n",
       "      <td>26871</td>\n",
       "      <td>25744</td>\n",
       "      <td>21680</td>\n",
       "      <td>22885</td>\n",
       "      <td>18810</td>\n",
       "      <td>14580</td>\n",
       "      <td>12215</td>\n",
       "      <td>5</td>\n",
       "    </tr>\n",
       "    <tr>\n",
       "      <th>351</th>\n",
       "      <td>2015</td>\n",
       "      <td>77533</td>\n",
       "      <td>21929604</td>\n",
       "      <td>Buddenbrooks</td>\n",
       "      <td>109980</td>\n",
       "      <td>13297</td>\n",
       "      <td>10930</td>\n",
       "      <td>11508</td>\n",
       "      <td>10114</td>\n",
       "      <td>7095</td>\n",
       "      <td>5476</td>\n",
       "      <td>3799</td>\n",
       "      <td>3725</td>\n",
       "      <td>4300</td>\n",
       "      <td>3642</td>\n",
       "      <td>2246</td>\n",
       "      <td>1401</td>\n",
       "      <td>1</td>\n",
       "    </tr>\n",
       "    <tr>\n",
       "      <th>352</th>\n",
       "      <td>2016</td>\n",
       "      <td>5964</td>\n",
       "      <td>1827261</td>\n",
       "      <td>Homestuck</td>\n",
       "      <td>8124</td>\n",
       "      <td>1567</td>\n",
       "      <td>888</td>\n",
       "      <td>623</td>\n",
       "      <td>553</td>\n",
       "      <td>441</td>\n",
       "      <td>329</td>\n",
       "      <td>324</td>\n",
       "      <td>258</td>\n",
       "      <td>312</td>\n",
       "      <td>271</td>\n",
       "      <td>192</td>\n",
       "      <td>206</td>\n",
       "      <td>1</td>\n",
       "    </tr>\n",
       "    <tr>\n",
       "      <th>353</th>\n",
       "      <td>2017</td>\n",
       "      <td>1916</td>\n",
       "      <td>574768</td>\n",
       "      <td>Cuentos completos 1880 -1903 [Estuche]</td>\n",
       "      <td>5000</td>\n",
       "      <td>209</td>\n",
       "      <td>182</td>\n",
       "      <td>171</td>\n",
       "      <td>187</td>\n",
       "      <td>212</td>\n",
       "      <td>132</td>\n",
       "      <td>122</td>\n",
       "      <td>150</td>\n",
       "      <td>118</td>\n",
       "      <td>181</td>\n",
       "      <td>149</td>\n",
       "      <td>103</td>\n",
       "      <td>5</td>\n",
       "    </tr>\n",
       "    <tr>\n",
       "      <th>354</th>\n",
       "      <td>2018</td>\n",
       "      <td>2697</td>\n",
       "      <td>898843</td>\n",
       "      <td>Theory of Knowledge (Tok) (Student Book and Et...</td>\n",
       "      <td>9999</td>\n",
       "      <td>137</td>\n",
       "      <td>464</td>\n",
       "      <td>107</td>\n",
       "      <td>612</td>\n",
       "      <td>210</td>\n",
       "      <td>80</td>\n",
       "      <td>145</td>\n",
       "      <td>158</td>\n",
       "      <td>148</td>\n",
       "      <td>172</td>\n",
       "      <td>256</td>\n",
       "      <td>208</td>\n",
       "      <td>4</td>\n",
       "    </tr>\n",
       "    <tr>\n",
       "      <th>355</th>\n",
       "      <td>2019</td>\n",
       "      <td>1096</td>\n",
       "      <td>336852</td>\n",
       "      <td>Visions of America: A History of the United St...</td>\n",
       "      <td>9998</td>\n",
       "      <td>297</td>\n",
       "      <td>165</td>\n",
       "      <td>54</td>\n",
       "      <td>86</td>\n",
       "      <td>77</td>\n",
       "      <td>49</td>\n",
       "      <td>74</td>\n",
       "      <td>82</td>\n",
       "      <td>43</td>\n",
       "      <td>58</td>\n",
       "      <td>46</td>\n",
       "      <td>65</td>\n",
       "      <td>1</td>\n",
       "    </tr>\n",
       "    <tr>\n",
       "      <th>356</th>\n",
       "      <td>2020</td>\n",
       "      <td>648</td>\n",
       "      <td>199547</td>\n",
       "      <td>Negotiating and Drafting Office Leases</td>\n",
       "      <td>3260</td>\n",
       "      <td>79</td>\n",
       "      <td>40</td>\n",
       "      <td>71</td>\n",
       "      <td>35</td>\n",
       "      <td>51</td>\n",
       "      <td>71</td>\n",
       "      <td>78</td>\n",
       "      <td>42</td>\n",
       "      <td>52</td>\n",
       "      <td>62</td>\n",
       "      <td>35</td>\n",
       "      <td>32</td>\n",
       "      <td>1</td>\n",
       "    </tr>\n",
       "    <tr>\n",
       "      <th>357</th>\n",
       "      <td>2021</td>\n",
       "      <td>153</td>\n",
       "      <td>45600</td>\n",
       "      <td>Policing</td>\n",
       "      <td>1736</td>\n",
       "      <td>55</td>\n",
       "      <td>21</td>\n",
       "      <td>16</td>\n",
       "      <td>15</td>\n",
       "      <td>14</td>\n",
       "      <td>9</td>\n",
       "      <td>5</td>\n",
       "      <td>5</td>\n",
       "      <td>5</td>\n",
       "      <td>4</td>\n",
       "      <td>0</td>\n",
       "      <td>4</td>\n",
       "      <td>1</td>\n",
       "    </tr>\n",
       "    <tr>\n",
       "      <th>358</th>\n",
       "      <td>2022</td>\n",
       "      <td>7</td>\n",
       "      <td>2062</td>\n",
       "      <td>Weltgesellschaft: Raum - Kommunikation - Herrs...</td>\n",
       "      <td>500</td>\n",
       "      <td>2</td>\n",
       "      <td>2</td>\n",
       "      <td>0</td>\n",
       "      <td>2</td>\n",
       "      <td>1</td>\n",
       "      <td>0</td>\n",
       "      <td>0</td>\n",
       "      <td>0</td>\n",
       "      <td>0</td>\n",
       "      <td>0</td>\n",
       "      <td>0</td>\n",
       "      <td>0</td>\n",
       "      <td>1</td>\n",
       "    </tr>\n",
       "    <tr>\n",
       "      <th>359</th>\n",
       "      <td>2023</td>\n",
       "      <td>2</td>\n",
       "      <td>713</td>\n",
       "      <td>Apocalypse</td>\n",
       "      <td>463</td>\n",
       "      <td>0</td>\n",
       "      <td>0</td>\n",
       "      <td>0</td>\n",
       "      <td>0</td>\n",
       "      <td>0</td>\n",
       "      <td>0</td>\n",
       "      <td>0</td>\n",
       "      <td>0</td>\n",
       "      <td>2</td>\n",
       "      <td>0</td>\n",
       "      <td>0</td>\n",
       "      <td>0</td>\n",
       "      <td>9</td>\n",
       "    </tr>\n",
       "  </tbody>\n",
       "</table>\n",
       "</div>\n",
       "    <div class=\"colab-df-buttons\">\n",
       "\n",
       "  <div class=\"colab-df-container\">\n",
       "    <button class=\"colab-df-convert\" onclick=\"convertToInteractive('df-15951cc9-4584-4b88-a5b7-40e89ea93e5f')\"\n",
       "            title=\"Convert this dataframe to an interactive table.\"\n",
       "            style=\"display:none;\">\n",
       "\n",
       "  <svg xmlns=\"http://www.w3.org/2000/svg\" height=\"24px\" viewBox=\"0 -960 960 960\">\n",
       "    <path d=\"M120-120v-720h720v720H120Zm60-500h600v-160H180v160Zm220 220h160v-160H400v160Zm0 220h160v-160H400v160ZM180-400h160v-160H180v160Zm440 0h160v-160H620v160ZM180-180h160v-160H180v160Zm440 0h160v-160H620v160Z\"/>\n",
       "  </svg>\n",
       "    </button>\n",
       "\n",
       "  <style>\n",
       "    .colab-df-container {\n",
       "      display:flex;\n",
       "      gap: 12px;\n",
       "    }\n",
       "\n",
       "    .colab-df-convert {\n",
       "      background-color: #E8F0FE;\n",
       "      border: none;\n",
       "      border-radius: 50%;\n",
       "      cursor: pointer;\n",
       "      display: none;\n",
       "      fill: #1967D2;\n",
       "      height: 32px;\n",
       "      padding: 0 0 0 0;\n",
       "      width: 32px;\n",
       "    }\n",
       "\n",
       "    .colab-df-convert:hover {\n",
       "      background-color: #E2EBFA;\n",
       "      box-shadow: 0px 1px 2px rgba(60, 64, 67, 0.3), 0px 1px 3px 1px rgba(60, 64, 67, 0.15);\n",
       "      fill: #174EA6;\n",
       "    }\n",
       "\n",
       "    .colab-df-buttons div {\n",
       "      margin-bottom: 4px;\n",
       "    }\n",
       "\n",
       "    [theme=dark] .colab-df-convert {\n",
       "      background-color: #3B4455;\n",
       "      fill: #D2E3FC;\n",
       "    }\n",
       "\n",
       "    [theme=dark] .colab-df-convert:hover {\n",
       "      background-color: #434B5C;\n",
       "      box-shadow: 0px 1px 3px 1px rgba(0, 0, 0, 0.15);\n",
       "      filter: drop-shadow(0px 1px 2px rgba(0, 0, 0, 0.3));\n",
       "      fill: #FFFFFF;\n",
       "    }\n",
       "  </style>\n",
       "\n",
       "    <script>\n",
       "      const buttonEl =\n",
       "        document.querySelector('#df-15951cc9-4584-4b88-a5b7-40e89ea93e5f button.colab-df-convert');\n",
       "      buttonEl.style.display =\n",
       "        google.colab.kernel.accessAllowed ? 'block' : 'none';\n",
       "\n",
       "      async function convertToInteractive(key) {\n",
       "        const element = document.querySelector('#df-15951cc9-4584-4b88-a5b7-40e89ea93e5f');\n",
       "        const dataTable =\n",
       "          await google.colab.kernel.invokeFunction('convertToInteractive',\n",
       "                                                    [key], {});\n",
       "        if (!dataTable) return;\n",
       "\n",
       "        const docLinkHtml = 'Like what you see? Visit the ' +\n",
       "          '<a target=\"_blank\" href=https://colab.research.google.com/notebooks/data_table.ipynb>data table notebook</a>'\n",
       "          + ' to learn more about interactive tables.';\n",
       "        element.innerHTML = '';\n",
       "        dataTable['output_type'] = 'display_data';\n",
       "        await google.colab.output.renderOutput(dataTable, element);\n",
       "        const docLink = document.createElement('div');\n",
       "        docLink.innerHTML = docLinkHtml;\n",
       "        element.appendChild(docLink);\n",
       "      }\n",
       "    </script>\n",
       "  </div>\n",
       "\n",
       "\n",
       "<div id=\"df-dfbeb89e-2d02-4007-b098-e9493af26520\">\n",
       "  <button class=\"colab-df-quickchart\" onclick=\"quickchart('df-dfbeb89e-2d02-4007-b098-e9493af26520')\"\n",
       "            title=\"Suggest charts.\"\n",
       "            style=\"display:none;\">\n",
       "\n",
       "<svg xmlns=\"http://www.w3.org/2000/svg\" height=\"24px\"viewBox=\"0 0 24 24\"\n",
       "     width=\"24px\">\n",
       "    <g>\n",
       "        <path d=\"M19 3H5c-1.1 0-2 .9-2 2v14c0 1.1.9 2 2 2h14c1.1 0 2-.9 2-2V5c0-1.1-.9-2-2-2zM9 17H7v-7h2v7zm4 0h-2V7h2v10zm4 0h-2v-4h2v4z\"/>\n",
       "    </g>\n",
       "</svg>\n",
       "  </button>\n",
       "\n",
       "<style>\n",
       "  .colab-df-quickchart {\n",
       "      --bg-color: #E8F0FE;\n",
       "      --fill-color: #1967D2;\n",
       "      --hover-bg-color: #E2EBFA;\n",
       "      --hover-fill-color: #174EA6;\n",
       "      --disabled-fill-color: #AAA;\n",
       "      --disabled-bg-color: #DDD;\n",
       "  }\n",
       "\n",
       "  [theme=dark] .colab-df-quickchart {\n",
       "      --bg-color: #3B4455;\n",
       "      --fill-color: #D2E3FC;\n",
       "      --hover-bg-color: #434B5C;\n",
       "      --hover-fill-color: #FFFFFF;\n",
       "      --disabled-bg-color: #3B4455;\n",
       "      --disabled-fill-color: #666;\n",
       "  }\n",
       "\n",
       "  .colab-df-quickchart {\n",
       "    background-color: var(--bg-color);\n",
       "    border: none;\n",
       "    border-radius: 50%;\n",
       "    cursor: pointer;\n",
       "    display: none;\n",
       "    fill: var(--fill-color);\n",
       "    height: 32px;\n",
       "    padding: 0;\n",
       "    width: 32px;\n",
       "  }\n",
       "\n",
       "  .colab-df-quickchart:hover {\n",
       "    background-color: var(--hover-bg-color);\n",
       "    box-shadow: 0 1px 2px rgba(60, 64, 67, 0.3), 0 1px 3px 1px rgba(60, 64, 67, 0.15);\n",
       "    fill: var(--button-hover-fill-color);\n",
       "  }\n",
       "\n",
       "  .colab-df-quickchart-complete:disabled,\n",
       "  .colab-df-quickchart-complete:disabled:hover {\n",
       "    background-color: var(--disabled-bg-color);\n",
       "    fill: var(--disabled-fill-color);\n",
       "    box-shadow: none;\n",
       "  }\n",
       "\n",
       "  .colab-df-spinner {\n",
       "    border: 2px solid var(--fill-color);\n",
       "    border-color: transparent;\n",
       "    border-bottom-color: var(--fill-color);\n",
       "    animation:\n",
       "      spin 1s steps(1) infinite;\n",
       "  }\n",
       "\n",
       "  @keyframes spin {\n",
       "    0% {\n",
       "      border-color: transparent;\n",
       "      border-bottom-color: var(--fill-color);\n",
       "      border-left-color: var(--fill-color);\n",
       "    }\n",
       "    20% {\n",
       "      border-color: transparent;\n",
       "      border-left-color: var(--fill-color);\n",
       "      border-top-color: var(--fill-color);\n",
       "    }\n",
       "    30% {\n",
       "      border-color: transparent;\n",
       "      border-left-color: var(--fill-color);\n",
       "      border-top-color: var(--fill-color);\n",
       "      border-right-color: var(--fill-color);\n",
       "    }\n",
       "    40% {\n",
       "      border-color: transparent;\n",
       "      border-right-color: var(--fill-color);\n",
       "      border-top-color: var(--fill-color);\n",
       "    }\n",
       "    60% {\n",
       "      border-color: transparent;\n",
       "      border-right-color: var(--fill-color);\n",
       "    }\n",
       "    80% {\n",
       "      border-color: transparent;\n",
       "      border-right-color: var(--fill-color);\n",
       "      border-bottom-color: var(--fill-color);\n",
       "    }\n",
       "    90% {\n",
       "      border-color: transparent;\n",
       "      border-bottom-color: var(--fill-color);\n",
       "    }\n",
       "  }\n",
       "</style>\n",
       "\n",
       "  <script>\n",
       "    async function quickchart(key) {\n",
       "      const quickchartButtonEl =\n",
       "        document.querySelector('#' + key + ' button');\n",
       "      quickchartButtonEl.disabled = true;  // To prevent multiple clicks.\n",
       "      quickchartButtonEl.classList.add('colab-df-spinner');\n",
       "      try {\n",
       "        const charts = await google.colab.kernel.invokeFunction(\n",
       "            'suggestCharts', [key], {});\n",
       "      } catch (error) {\n",
       "        console.error('Error during call to suggestCharts:', error);\n",
       "      }\n",
       "      quickchartButtonEl.classList.remove('colab-df-spinner');\n",
       "      quickchartButtonEl.classList.add('colab-df-quickchart-complete');\n",
       "    }\n",
       "    (() => {\n",
       "      let quickchartButtonEl =\n",
       "        document.querySelector('#df-dfbeb89e-2d02-4007-b098-e9493af26520 button');\n",
       "      quickchartButtonEl.style.display =\n",
       "        google.colab.kernel.accessAllowed ? 'block' : 'none';\n",
       "    })();\n",
       "  </script>\n",
       "</div>\n",
       "    </div>\n",
       "  </div>\n"
      ],
      "text/plain": [
       "     year  number_books  number_pages  \\\n",
       "350  2014        301765      86088056   \n",
       "351  2015         77533      21929604   \n",
       "352  2016          5964       1827261   \n",
       "353  2017          1916        574768   \n",
       "354  2018          2697        898843   \n",
       "355  2019          1096        336852   \n",
       "356  2020           648        199547   \n",
       "357  2021           153         45600   \n",
       "358  2022             7          2062   \n",
       "359  2023             2           713   \n",
       "\n",
       "                                   book_with_max_pages  \\\n",
       "350    Fermata Qt8 - Storie Ripensate in Metropolitana   \n",
       "351                                       Buddenbrooks   \n",
       "352                                          Homestuck   \n",
       "353             Cuentos completos 1880 -1903 [Estuche]   \n",
       "354  Theory of Knowledge (Tok) (Student Book and Et...   \n",
       "355  Visions of America: A History of the United St...   \n",
       "356             Negotiating and Drafting Office Leases   \n",
       "357                                           Policing   \n",
       "358  Weltgesellschaft: Raum - Kommunikation - Herrs...   \n",
       "359                                         Apocalypse   \n",
       "\n",
       "     num_book_with_max_pages      1      2      3      4      5      6      7  \\\n",
       "350                 10000000  30819  22159  24035  26452  55515  26871  25744   \n",
       "351                   109980  13297  10930  11508  10114   7095   5476   3799   \n",
       "352                     8124   1567    888    623    553    441    329    324   \n",
       "353                     5000    209    182    171    187    212    132    122   \n",
       "354                     9999    137    464    107    612    210     80    145   \n",
       "355                     9998    297    165     54     86     77     49     74   \n",
       "356                     3260     79     40     71     35     51     71     78   \n",
       "357                     1736     55     21     16     15     14      9      5   \n",
       "358                      500      2      2      0      2      1      0      0   \n",
       "359                      463      0      0      0      0      0      0      0   \n",
       "\n",
       "         8      9     10     11     12  prolific_month  \n",
       "350  21680  22885  18810  14580  12215               5  \n",
       "351   3725   4300   3642   2246   1401               1  \n",
       "352    258    312    271    192    206               1  \n",
       "353    150    118    181    149    103               5  \n",
       "354    158    148    172    256    208               4  \n",
       "355     82     43     58     46     65               1  \n",
       "356     42     52     62     35     32               1  \n",
       "357      5      5      4      0      4               1  \n",
       "358      0      0      0      0      0               1  \n",
       "359      0      2      0      0      0               9  "
      ]
     },
     "execution_count": 12,
     "metadata": {},
     "output_type": "execute_result"
    }
   ],
   "source": [
    "main.tail(10)"
   ]
  },
  {
   "cell_type": "markdown",
   "metadata": {
    "id": "8_iouPx0ov5p"
   },
   "source": [
    "#### RQ3.3\n",
    "\n",
    "Ask ChatGPT or any other LLM chatbot tool to implement this function and compare your work with the one the bot gave you as an answer. Does the chatbot implementation work? Please test it out and verify the correctness of the implementation, explaining the process you followed to prove it.\n",
    "\n"
   ]
  },
  {
   "cell_type": "code",
   "execution_count": null,
   "metadata": {
    "id": "I0y8-IInpAJE"
   },
   "outputs": [],
   "source": [
    "chunk_size = 100\n",
    "\n",
    "json_reader = pd.read_json('/content/drive/MyDrive/Dataset HW2/lighter_books.json', lines=True, chunksize=chunk_size)\n",
    "df = next(json_reader)"
   ]
  },
  {
   "cell_type": "code",
   "execution_count": null,
   "metadata": {
    "colab": {
     "base_uri": "https://localhost:8080/",
     "height": 442
    },
    "id": "a-CCrV2XqnzB",
    "outputId": "ff35ea9a-af42-4cca-b9e6-e6c6d5b4ae3d"
   },
   "outputs": [
    {
     "ename": "KeyError",
     "evalue": "ignored",
     "output_type": "error",
     "traceback": [
      "\u001b[0;31m---------------------------------------------------------------------------\u001b[0m",
      "\u001b[0;31mValueError\u001b[0m                                Traceback (most recent call last)",
      "\u001b[0;32m/usr/local/lib/python3.10/dist-packages/pandas/core/indexes/range.py\u001b[0m in \u001b[0;36mget_loc\u001b[0;34m(self, key, method, tolerance)\u001b[0m\n\u001b[1;32m    390\u001b[0m                 \u001b[0;32mtry\u001b[0m\u001b[0;34m:\u001b[0m\u001b[0;34m\u001b[0m\u001b[0;34m\u001b[0m\u001b[0m\n\u001b[0;32m--> 391\u001b[0;31m                     \u001b[0;32mreturn\u001b[0m \u001b[0mself\u001b[0m\u001b[0;34m.\u001b[0m\u001b[0m_range\u001b[0m\u001b[0;34m.\u001b[0m\u001b[0mindex\u001b[0m\u001b[0;34m(\u001b[0m\u001b[0mnew_key\u001b[0m\u001b[0;34m)\u001b[0m\u001b[0;34m\u001b[0m\u001b[0;34m\u001b[0m\u001b[0m\n\u001b[0m\u001b[1;32m    392\u001b[0m                 \u001b[0;32mexcept\u001b[0m \u001b[0mValueError\u001b[0m \u001b[0;32mas\u001b[0m \u001b[0merr\u001b[0m\u001b[0;34m:\u001b[0m\u001b[0;34m\u001b[0m\u001b[0;34m\u001b[0m\u001b[0m\n",
      "\u001b[0;31mValueError\u001b[0m: 0 is not in range",
      "\nThe above exception was the direct cause of the following exception:\n",
      "\u001b[0;31mKeyError\u001b[0m                                  Traceback (most recent call last)",
      "\u001b[0;32m<ipython-input-40-1208bc1fd13a>\u001b[0m in \u001b[0;36m<cell line: 27>\u001b[0;34m()\u001b[0m\n\u001b[1;32m     25\u001b[0m \u001b[0;31m# Generating statistics for the available years after preprocessing\u001b[0m\u001b[0;34m\u001b[0m\u001b[0;34m\u001b[0m\u001b[0m\n\u001b[1;32m     26\u001b[0m \u001b[0myears\u001b[0m \u001b[0;34m=\u001b[0m \u001b[0mrange\u001b[0m\u001b[0;34m(\u001b[0m\u001b[0mmin_year\u001b[0m\u001b[0;34m,\u001b[0m \u001b[0mmax_year\u001b[0m \u001b[0;34m+\u001b[0m \u001b[0;36m1\u001b[0m\u001b[0;34m)\u001b[0m\u001b[0;34m\u001b[0m\u001b[0;34m\u001b[0m\u001b[0m\n\u001b[0;32m---> 27\u001b[0;31m \u001b[0myearly_statistics\u001b[0m \u001b[0;34m=\u001b[0m \u001b[0;34m[\u001b[0m\u001b[0mget_yearly_stats\u001b[0m\u001b[0;34m(\u001b[0m\u001b[0myear\u001b[0m\u001b[0;34m,\u001b[0m \u001b[0mdf_preprocessed\u001b[0m\u001b[0;34m)\u001b[0m \u001b[0;32mfor\u001b[0m \u001b[0myear\u001b[0m \u001b[0;32min\u001b[0m \u001b[0myears\u001b[0m\u001b[0;34m]\u001b[0m\u001b[0;34m\u001b[0m\u001b[0;34m\u001b[0m\u001b[0m\n\u001b[0m\u001b[1;32m     28\u001b[0m \u001b[0;34m\u001b[0m\u001b[0m\n\u001b[1;32m     29\u001b[0m \u001b[0;31m# Creating a DataFrame from the generated statistics\u001b[0m\u001b[0;34m\u001b[0m\u001b[0;34m\u001b[0m\u001b[0m\n",
      "\u001b[0;32m<ipython-input-40-1208bc1fd13a>\u001b[0m in \u001b[0;36m<listcomp>\u001b[0;34m(.0)\u001b[0m\n\u001b[1;32m     25\u001b[0m \u001b[0;31m# Generating statistics for the available years after preprocessing\u001b[0m\u001b[0;34m\u001b[0m\u001b[0;34m\u001b[0m\u001b[0m\n\u001b[1;32m     26\u001b[0m \u001b[0myears\u001b[0m \u001b[0;34m=\u001b[0m \u001b[0mrange\u001b[0m\u001b[0;34m(\u001b[0m\u001b[0mmin_year\u001b[0m\u001b[0;34m,\u001b[0m \u001b[0mmax_year\u001b[0m \u001b[0;34m+\u001b[0m \u001b[0;36m1\u001b[0m\u001b[0;34m)\u001b[0m\u001b[0;34m\u001b[0m\u001b[0;34m\u001b[0m\u001b[0m\n\u001b[0;32m---> 27\u001b[0;31m \u001b[0myearly_statistics\u001b[0m \u001b[0;34m=\u001b[0m \u001b[0;34m[\u001b[0m\u001b[0mget_yearly_stats\u001b[0m\u001b[0;34m(\u001b[0m\u001b[0myear\u001b[0m\u001b[0;34m,\u001b[0m \u001b[0mdf_preprocessed\u001b[0m\u001b[0;34m)\u001b[0m \u001b[0;32mfor\u001b[0m \u001b[0myear\u001b[0m \u001b[0;32min\u001b[0m \u001b[0myears\u001b[0m\u001b[0;34m]\u001b[0m\u001b[0;34m\u001b[0m\u001b[0;34m\u001b[0m\u001b[0m\n\u001b[0m\u001b[1;32m     28\u001b[0m \u001b[0;34m\u001b[0m\u001b[0m\n\u001b[1;32m     29\u001b[0m \u001b[0;31m# Creating a DataFrame from the generated statistics\u001b[0m\u001b[0;34m\u001b[0m\u001b[0;34m\u001b[0m\u001b[0m\n",
      "\u001b[0;32m<ipython-input-40-1208bc1fd13a>\u001b[0m in \u001b[0;36mget_yearly_stats\u001b[0;34m(year, data)\u001b[0m\n\u001b[1;32m      3\u001b[0m     \u001b[0mnum_books\u001b[0m \u001b[0;34m=\u001b[0m \u001b[0myear_data\u001b[0m\u001b[0;34m.\u001b[0m\u001b[0mshape\u001b[0m\u001b[0;34m[\u001b[0m\u001b[0;36m0\u001b[0m\u001b[0;34m]\u001b[0m\u001b[0;34m\u001b[0m\u001b[0;34m\u001b[0m\u001b[0m\n\u001b[1;32m      4\u001b[0m     \u001b[0mtotal_pages\u001b[0m \u001b[0;34m=\u001b[0m \u001b[0myear_data\u001b[0m\u001b[0;34m[\u001b[0m\u001b[0;34m'num_pages'\u001b[0m\u001b[0;34m]\u001b[0m\u001b[0;34m.\u001b[0m\u001b[0msum\u001b[0m\u001b[0;34m(\u001b[0m\u001b[0;34m)\u001b[0m\u001b[0;34m\u001b[0m\u001b[0;34m\u001b[0m\u001b[0m\n\u001b[0;32m----> 5\u001b[0;31m     \u001b[0mprolific_month\u001b[0m \u001b[0;34m=\u001b[0m \u001b[0mcalendar\u001b[0m\u001b[0;34m.\u001b[0m\u001b[0mmonth_name\u001b[0m\u001b[0;34m[\u001b[0m\u001b[0myear_data\u001b[0m\u001b[0;34m[\u001b[0m\u001b[0;34m'month'\u001b[0m\u001b[0;34m]\u001b[0m\u001b[0;34m.\u001b[0m\u001b[0mmode\u001b[0m\u001b[0;34m(\u001b[0m\u001b[0;34m)\u001b[0m\u001b[0;34m[\u001b[0m\u001b[0;36m0\u001b[0m\u001b[0;34m]\u001b[0m\u001b[0;34m]\u001b[0m\u001b[0;34m\u001b[0m\u001b[0;34m\u001b[0m\u001b[0m\n\u001b[0m\u001b[1;32m      6\u001b[0m     \u001b[0mlongest_book\u001b[0m \u001b[0;34m=\u001b[0m \u001b[0myear_data\u001b[0m\u001b[0;34m[\u001b[0m\u001b[0;34m'num_pages'\u001b[0m\u001b[0;34m]\u001b[0m\u001b[0;34m.\u001b[0m\u001b[0mmax\u001b[0m\u001b[0;34m(\u001b[0m\u001b[0;34m)\u001b[0m\u001b[0;34m\u001b[0m\u001b[0;34m\u001b[0m\u001b[0m\n\u001b[1;32m      7\u001b[0m     return {\n",
      "\u001b[0;32m/usr/local/lib/python3.10/dist-packages/pandas/core/series.py\u001b[0m in \u001b[0;36m__getitem__\u001b[0;34m(self, key)\u001b[0m\n\u001b[1;32m    979\u001b[0m \u001b[0;34m\u001b[0m\u001b[0m\n\u001b[1;32m    980\u001b[0m         \u001b[0;32melif\u001b[0m \u001b[0mkey_is_scalar\u001b[0m\u001b[0;34m:\u001b[0m\u001b[0;34m\u001b[0m\u001b[0;34m\u001b[0m\u001b[0m\n\u001b[0;32m--> 981\u001b[0;31m             \u001b[0;32mreturn\u001b[0m \u001b[0mself\u001b[0m\u001b[0;34m.\u001b[0m\u001b[0m_get_value\u001b[0m\u001b[0;34m(\u001b[0m\u001b[0mkey\u001b[0m\u001b[0;34m)\u001b[0m\u001b[0;34m\u001b[0m\u001b[0;34m\u001b[0m\u001b[0m\n\u001b[0m\u001b[1;32m    982\u001b[0m \u001b[0;34m\u001b[0m\u001b[0m\n\u001b[1;32m    983\u001b[0m         \u001b[0;32mif\u001b[0m \u001b[0mis_hashable\u001b[0m\u001b[0;34m(\u001b[0m\u001b[0mkey\u001b[0m\u001b[0;34m)\u001b[0m\u001b[0;34m:\u001b[0m\u001b[0;34m\u001b[0m\u001b[0;34m\u001b[0m\u001b[0m\n",
      "\u001b[0;32m/usr/local/lib/python3.10/dist-packages/pandas/core/series.py\u001b[0m in \u001b[0;36m_get_value\u001b[0;34m(self, label, takeable)\u001b[0m\n\u001b[1;32m   1087\u001b[0m \u001b[0;34m\u001b[0m\u001b[0m\n\u001b[1;32m   1088\u001b[0m         \u001b[0;31m# Similar to Index.get_value, but we do not fall back to positional\u001b[0m\u001b[0;34m\u001b[0m\u001b[0;34m\u001b[0m\u001b[0m\n\u001b[0;32m-> 1089\u001b[0;31m         \u001b[0mloc\u001b[0m \u001b[0;34m=\u001b[0m \u001b[0mself\u001b[0m\u001b[0;34m.\u001b[0m\u001b[0mindex\u001b[0m\u001b[0;34m.\u001b[0m\u001b[0mget_loc\u001b[0m\u001b[0;34m(\u001b[0m\u001b[0mlabel\u001b[0m\u001b[0;34m)\u001b[0m\u001b[0;34m\u001b[0m\u001b[0;34m\u001b[0m\u001b[0m\n\u001b[0m\u001b[1;32m   1090\u001b[0m         \u001b[0;32mreturn\u001b[0m \u001b[0mself\u001b[0m\u001b[0;34m.\u001b[0m\u001b[0mindex\u001b[0m\u001b[0;34m.\u001b[0m\u001b[0m_get_values_for_loc\u001b[0m\u001b[0;34m(\u001b[0m\u001b[0mself\u001b[0m\u001b[0;34m,\u001b[0m \u001b[0mloc\u001b[0m\u001b[0;34m,\u001b[0m \u001b[0mlabel\u001b[0m\u001b[0;34m)\u001b[0m\u001b[0;34m\u001b[0m\u001b[0;34m\u001b[0m\u001b[0m\n\u001b[1;32m   1091\u001b[0m \u001b[0;34m\u001b[0m\u001b[0m\n",
      "\u001b[0;32m/usr/local/lib/python3.10/dist-packages/pandas/core/indexes/range.py\u001b[0m in \u001b[0;36mget_loc\u001b[0;34m(self, key, method, tolerance)\u001b[0m\n\u001b[1;32m    391\u001b[0m                     \u001b[0;32mreturn\u001b[0m \u001b[0mself\u001b[0m\u001b[0;34m.\u001b[0m\u001b[0m_range\u001b[0m\u001b[0;34m.\u001b[0m\u001b[0mindex\u001b[0m\u001b[0;34m(\u001b[0m\u001b[0mnew_key\u001b[0m\u001b[0;34m)\u001b[0m\u001b[0;34m\u001b[0m\u001b[0;34m\u001b[0m\u001b[0m\n\u001b[1;32m    392\u001b[0m                 \u001b[0;32mexcept\u001b[0m \u001b[0mValueError\u001b[0m \u001b[0;32mas\u001b[0m \u001b[0merr\u001b[0m\u001b[0;34m:\u001b[0m\u001b[0;34m\u001b[0m\u001b[0;34m\u001b[0m\u001b[0m\n\u001b[0;32m--> 393\u001b[0;31m                     \u001b[0;32mraise\u001b[0m \u001b[0mKeyError\u001b[0m\u001b[0;34m(\u001b[0m\u001b[0mkey\u001b[0m\u001b[0;34m)\u001b[0m \u001b[0;32mfrom\u001b[0m \u001b[0merr\u001b[0m\u001b[0;34m\u001b[0m\u001b[0;34m\u001b[0m\u001b[0m\n\u001b[0m\u001b[1;32m    394\u001b[0m             \u001b[0mself\u001b[0m\u001b[0;34m.\u001b[0m\u001b[0m_check_indexing_error\u001b[0m\u001b[0;34m(\u001b[0m\u001b[0mkey\u001b[0m\u001b[0;34m)\u001b[0m\u001b[0;34m\u001b[0m\u001b[0;34m\u001b[0m\u001b[0m\n\u001b[1;32m    395\u001b[0m             \u001b[0;32mraise\u001b[0m \u001b[0mKeyError\u001b[0m\u001b[0;34m(\u001b[0m\u001b[0mkey\u001b[0m\u001b[0;34m)\u001b[0m\u001b[0;34m\u001b[0m\u001b[0;34m\u001b[0m\u001b[0m\n",
      "\u001b[0;31mKeyError\u001b[0m: 0"
     ]
    }
   ],
   "source": [
    "def get_yearly_stats(year, data):\n",
    "    year_data = data[data['year'] == year]\n",
    "    num_books = year_data.shape[0]\n",
    "    total_pages = year_data['num_pages'].sum()\n",
    "    prolific_month = calendar.month_name[year_data['month'].mode()[0]]\n",
    "    longest_book = year_data['num_pages'].max()\n",
    "    return {\n",
    "        'Year': year,\n",
    "        'Number of Books Published': num_books,\n",
    "        'Total Pages Written': total_pages,\n",
    "        'Most Prolific Month': prolific_month,\n",
    "        'Longest Book Written': longest_book\n",
    "    }\n",
    "\n",
    "\n",
    "# Your provided preprocessing steps\n",
    "# ... (Call preprocess_data function here)\n",
    "df_preprocessed = preprocess_data(df)\n",
    "# Assuming df_preprocessed is the preprocessed DataFrame\n",
    "\n",
    "# Get the range of years after preprocessing\n",
    "min_year = df_preprocessed['year'].min()\n",
    "max_year = df_preprocessed['year'].max()\n",
    "\n",
    "# Generating statistics for the available years after preprocessing\n",
    "years = range(min_year, max_year + 1)\n",
    "yearly_statistics = [get_yearly_stats(year, df_preprocessed) for year in years]\n",
    "\n",
    "# Creating a DataFrame from the generated statistics\n",
    "statistics_df = pd.DataFrame(yearly_statistics)\n",
    "statistics_df.set_index('Year', inplace=True)\n",
    "\n",
    "# Displaying the statistics DataFrame\n",
    "print(statistics_df)"
   ]
  },
  {
   "cell_type": "markdown",
   "metadata": {
    "id": "cByyBujEzTPm"
   },
   "source": [
    "As it can be seen, chatgpt can not solve the problem, it keeps giving the same error."
   ]
  },
  {
   "cell_type": "markdown",
   "metadata": {
    "id": "jc5DMoDSoL88"
   },
   "source": [
    "### RQ4"
   ]
  },
  {
   "cell_type": "markdown",
   "metadata": {
    "id": "54adtZenElzl"
   },
   "source": [
    "#### RQ4.1\n",
    "You should be sure there are no eponymous (different authors who have precisely the same name) in the author's dataset. Is it true?"
   ]
  },
  {
   "cell_type": "code",
   "execution_count": null,
   "metadata": {
    "id": "mBnVJHi2oO-O"
   },
   "outputs": [],
   "source": [
    "import pandas as pd\n",
    "pd.set_option('display.max_columns', None)\n",
    "pd.set_option('display.max_rows',None)\n",
    "df = pd.read_json('/content/drive/MyDrive/Dataset HW2/lighter_authors.json', lines=True)"
   ]
  },
  {
   "cell_type": "code",
   "execution_count": null,
   "metadata": {
    "colab": {
     "base_uri": "https://localhost:8080/",
     "height": 660
    },
    "id": "JM_Rn8iuBIYk",
    "outputId": "31cc8c87-1e3b-461d-da11-bb8aada96afe"
   },
   "outputs": [
    {
     "data": {
      "text/html": [
       "\n",
       "  <div id=\"df-be5f1ace-f023-4c20-82be-28c1329f5b96\" class=\"colab-df-container\">\n",
       "    <div>\n",
       "<style scoped>\n",
       "    .dataframe tbody tr th:only-of-type {\n",
       "        vertical-align: middle;\n",
       "    }\n",
       "\n",
       "    .dataframe tbody tr th {\n",
       "        vertical-align: top;\n",
       "    }\n",
       "\n",
       "    .dataframe thead th {\n",
       "        text-align: right;\n",
       "    }\n",
       "</style>\n",
       "<table border=\"1\" class=\"dataframe\">\n",
       "  <thead>\n",
       "    <tr style=\"text-align: right;\">\n",
       "      <th></th>\n",
       "      <th>ratings_count</th>\n",
       "      <th>average_rating</th>\n",
       "      <th>text_reviews_count</th>\n",
       "      <th>work_ids</th>\n",
       "      <th>book_ids</th>\n",
       "      <th>works_count</th>\n",
       "      <th>id</th>\n",
       "      <th>name</th>\n",
       "      <th>gender</th>\n",
       "      <th>image_url</th>\n",
       "      <th>about</th>\n",
       "      <th>fans_count</th>\n",
       "    </tr>\n",
       "  </thead>\n",
       "  <tbody>\n",
       "    <tr>\n",
       "      <th>0</th>\n",
       "      <td>2862064</td>\n",
       "      <td>4.19</td>\n",
       "      <td>62681</td>\n",
       "      <td>[3078186, 135328, 1877624, 74123, 3078120, 104...</td>\n",
       "      <td>[386162, 13, 8695, 8694, 6091075, 365, 569429,...</td>\n",
       "      <td>106</td>\n",
       "      <td>4</td>\n",
       "      <td>Douglas Adams</td>\n",
       "      <td>male</td>\n",
       "      <td>https://images.gr-assets.com/authors/159137433...</td>\n",
       "      <td>Douglas Noël Adams was an English author, comi...</td>\n",
       "      <td>19826</td>\n",
       "    </tr>\n",
       "    <tr>\n",
       "      <th>1</th>\n",
       "      <td>1417316</td>\n",
       "      <td>4.02</td>\n",
       "      <td>84176</td>\n",
       "      <td>[613469, 2305997, 940892, 2611786, 7800569, 31...</td>\n",
       "      <td>[9791, 21, 28, 24, 7507825, 27, 10538, 25, 26,...</td>\n",
       "      <td>75</td>\n",
       "      <td>7</td>\n",
       "      <td>Bill Bryson</td>\n",
       "      <td>male</td>\n",
       "      <td>https://images.gr-assets.com/authors/157859752...</td>\n",
       "      <td>William McGuire \"Bill\" Bryson, OBE, FRS was bo...</td>\n",
       "      <td>16144</td>\n",
       "    </tr>\n",
       "    <tr>\n",
       "      <th>2</th>\n",
       "      <td>56159</td>\n",
       "      <td>4.53</td>\n",
       "      <td>352</td>\n",
       "      <td>[17150, 808427, 20487307, 90550, 25460625, 171...</td>\n",
       "      <td>[349254, 15222, 14833682, 15221, 18126815, 152...</td>\n",
       "      <td>14</td>\n",
       "      <td>10</td>\n",
       "      <td>Jude Fisher</td>\n",
       "      <td>female</td>\n",
       "      <td>https://images.gr-assets.com/authors/141145711...</td>\n",
       "      <td>Jude Fisher is the pseudonym for &lt;a href=\"http...</td>\n",
       "      <td>60</td>\n",
       "    </tr>\n",
       "    <tr>\n",
       "      <th>3</th>\n",
       "      <td>3302</td>\n",
       "      <td>3.79</td>\n",
       "      <td>480</td>\n",
       "      <td>[4417, 14300808, 14780, 3796968, 44703121, 103...</td>\n",
       "      <td>[40, 9416484, 12482, 3753106, 26889789, 104764...</td>\n",
       "      <td>45</td>\n",
       "      <td>12</td>\n",
       "      <td>James Hamilton-Paterson</td>\n",
       "      <td>male</td>\n",
       "      <td>https://images.gr-assets.com/authors/127051738...</td>\n",
       "      <td>James Hamilton-Paterson's work has been transl...</td>\n",
       "      <td>72</td>\n",
       "    </tr>\n",
       "    <tr>\n",
       "      <th>4</th>\n",
       "      <td>7979</td>\n",
       "      <td>3.60</td>\n",
       "      <td>772</td>\n",
       "      <td>[13330815, 19109351, 42306244, 72694240, 26291...</td>\n",
       "      <td>[8466327, 15739968, 22756778, 51026133, 260451...</td>\n",
       "      <td>61</td>\n",
       "      <td>14</td>\n",
       "      <td>Mark Watson</td>\n",
       "      <td>male</td>\n",
       "      <td>https://images.gr-assets.com/authors/133175379...</td>\n",
       "      <td>Mark Andrew Watson (born 13 February 1980) is ...</td>\n",
       "      <td>179</td>\n",
       "    </tr>\n",
       "  </tbody>\n",
       "</table>\n",
       "</div>\n",
       "    <div class=\"colab-df-buttons\">\n",
       "\n",
       "  <div class=\"colab-df-container\">\n",
       "    <button class=\"colab-df-convert\" onclick=\"convertToInteractive('df-be5f1ace-f023-4c20-82be-28c1329f5b96')\"\n",
       "            title=\"Convert this dataframe to an interactive table.\"\n",
       "            style=\"display:none;\">\n",
       "\n",
       "  <svg xmlns=\"http://www.w3.org/2000/svg\" height=\"24px\" viewBox=\"0 -960 960 960\">\n",
       "    <path d=\"M120-120v-720h720v720H120Zm60-500h600v-160H180v160Zm220 220h160v-160H400v160Zm0 220h160v-160H400v160ZM180-400h160v-160H180v160Zm440 0h160v-160H620v160ZM180-180h160v-160H180v160Zm440 0h160v-160H620v160Z\"/>\n",
       "  </svg>\n",
       "    </button>\n",
       "\n",
       "  <style>\n",
       "    .colab-df-container {\n",
       "      display:flex;\n",
       "      gap: 12px;\n",
       "    }\n",
       "\n",
       "    .colab-df-convert {\n",
       "      background-color: #E8F0FE;\n",
       "      border: none;\n",
       "      border-radius: 50%;\n",
       "      cursor: pointer;\n",
       "      display: none;\n",
       "      fill: #1967D2;\n",
       "      height: 32px;\n",
       "      padding: 0 0 0 0;\n",
       "      width: 32px;\n",
       "    }\n",
       "\n",
       "    .colab-df-convert:hover {\n",
       "      background-color: #E2EBFA;\n",
       "      box-shadow: 0px 1px 2px rgba(60, 64, 67, 0.3), 0px 1px 3px 1px rgba(60, 64, 67, 0.15);\n",
       "      fill: #174EA6;\n",
       "    }\n",
       "\n",
       "    .colab-df-buttons div {\n",
       "      margin-bottom: 4px;\n",
       "    }\n",
       "\n",
       "    [theme=dark] .colab-df-convert {\n",
       "      background-color: #3B4455;\n",
       "      fill: #D2E3FC;\n",
       "    }\n",
       "\n",
       "    [theme=dark] .colab-df-convert:hover {\n",
       "      background-color: #434B5C;\n",
       "      box-shadow: 0px 1px 3px 1px rgba(0, 0, 0, 0.15);\n",
       "      filter: drop-shadow(0px 1px 2px rgba(0, 0, 0, 0.3));\n",
       "      fill: #FFFFFF;\n",
       "    }\n",
       "  </style>\n",
       "\n",
       "    <script>\n",
       "      const buttonEl =\n",
       "        document.querySelector('#df-be5f1ace-f023-4c20-82be-28c1329f5b96 button.colab-df-convert');\n",
       "      buttonEl.style.display =\n",
       "        google.colab.kernel.accessAllowed ? 'block' : 'none';\n",
       "\n",
       "      async function convertToInteractive(key) {\n",
       "        const element = document.querySelector('#df-be5f1ace-f023-4c20-82be-28c1329f5b96');\n",
       "        const dataTable =\n",
       "          await google.colab.kernel.invokeFunction('convertToInteractive',\n",
       "                                                    [key], {});\n",
       "        if (!dataTable) return;\n",
       "\n",
       "        const docLinkHtml = 'Like what you see? Visit the ' +\n",
       "          '<a target=\"_blank\" href=https://colab.research.google.com/notebooks/data_table.ipynb>data table notebook</a>'\n",
       "          + ' to learn more about interactive tables.';\n",
       "        element.innerHTML = '';\n",
       "        dataTable['output_type'] = 'display_data';\n",
       "        await google.colab.output.renderOutput(dataTable, element);\n",
       "        const docLink = document.createElement('div');\n",
       "        docLink.innerHTML = docLinkHtml;\n",
       "        element.appendChild(docLink);\n",
       "      }\n",
       "    </script>\n",
       "  </div>\n",
       "\n",
       "\n",
       "<div id=\"df-33aeee5e-866a-4ce5-9555-255a62422146\">\n",
       "  <button class=\"colab-df-quickchart\" onclick=\"quickchart('df-33aeee5e-866a-4ce5-9555-255a62422146')\"\n",
       "            title=\"Suggest charts.\"\n",
       "            style=\"display:none;\">\n",
       "\n",
       "<svg xmlns=\"http://www.w3.org/2000/svg\" height=\"24px\"viewBox=\"0 0 24 24\"\n",
       "     width=\"24px\">\n",
       "    <g>\n",
       "        <path d=\"M19 3H5c-1.1 0-2 .9-2 2v14c0 1.1.9 2 2 2h14c1.1 0 2-.9 2-2V5c0-1.1-.9-2-2-2zM9 17H7v-7h2v7zm4 0h-2V7h2v10zm4 0h-2v-4h2v4z\"/>\n",
       "    </g>\n",
       "</svg>\n",
       "  </button>\n",
       "\n",
       "<style>\n",
       "  .colab-df-quickchart {\n",
       "      --bg-color: #E8F0FE;\n",
       "      --fill-color: #1967D2;\n",
       "      --hover-bg-color: #E2EBFA;\n",
       "      --hover-fill-color: #174EA6;\n",
       "      --disabled-fill-color: #AAA;\n",
       "      --disabled-bg-color: #DDD;\n",
       "  }\n",
       "\n",
       "  [theme=dark] .colab-df-quickchart {\n",
       "      --bg-color: #3B4455;\n",
       "      --fill-color: #D2E3FC;\n",
       "      --hover-bg-color: #434B5C;\n",
       "      --hover-fill-color: #FFFFFF;\n",
       "      --disabled-bg-color: #3B4455;\n",
       "      --disabled-fill-color: #666;\n",
       "  }\n",
       "\n",
       "  .colab-df-quickchart {\n",
       "    background-color: var(--bg-color);\n",
       "    border: none;\n",
       "    border-radius: 50%;\n",
       "    cursor: pointer;\n",
       "    display: none;\n",
       "    fill: var(--fill-color);\n",
       "    height: 32px;\n",
       "    padding: 0;\n",
       "    width: 32px;\n",
       "  }\n",
       "\n",
       "  .colab-df-quickchart:hover {\n",
       "    background-color: var(--hover-bg-color);\n",
       "    box-shadow: 0 1px 2px rgba(60, 64, 67, 0.3), 0 1px 3px 1px rgba(60, 64, 67, 0.15);\n",
       "    fill: var(--button-hover-fill-color);\n",
       "  }\n",
       "\n",
       "  .colab-df-quickchart-complete:disabled,\n",
       "  .colab-df-quickchart-complete:disabled:hover {\n",
       "    background-color: var(--disabled-bg-color);\n",
       "    fill: var(--disabled-fill-color);\n",
       "    box-shadow: none;\n",
       "  }\n",
       "\n",
       "  .colab-df-spinner {\n",
       "    border: 2px solid var(--fill-color);\n",
       "    border-color: transparent;\n",
       "    border-bottom-color: var(--fill-color);\n",
       "    animation:\n",
       "      spin 1s steps(1) infinite;\n",
       "  }\n",
       "\n",
       "  @keyframes spin {\n",
       "    0% {\n",
       "      border-color: transparent;\n",
       "      border-bottom-color: var(--fill-color);\n",
       "      border-left-color: var(--fill-color);\n",
       "    }\n",
       "    20% {\n",
       "      border-color: transparent;\n",
       "      border-left-color: var(--fill-color);\n",
       "      border-top-color: var(--fill-color);\n",
       "    }\n",
       "    30% {\n",
       "      border-color: transparent;\n",
       "      border-left-color: var(--fill-color);\n",
       "      border-top-color: var(--fill-color);\n",
       "      border-right-color: var(--fill-color);\n",
       "    }\n",
       "    40% {\n",
       "      border-color: transparent;\n",
       "      border-right-color: var(--fill-color);\n",
       "      border-top-color: var(--fill-color);\n",
       "    }\n",
       "    60% {\n",
       "      border-color: transparent;\n",
       "      border-right-color: var(--fill-color);\n",
       "    }\n",
       "    80% {\n",
       "      border-color: transparent;\n",
       "      border-right-color: var(--fill-color);\n",
       "      border-bottom-color: var(--fill-color);\n",
       "    }\n",
       "    90% {\n",
       "      border-color: transparent;\n",
       "      border-bottom-color: var(--fill-color);\n",
       "    }\n",
       "  }\n",
       "</style>\n",
       "\n",
       "  <script>\n",
       "    async function quickchart(key) {\n",
       "      const quickchartButtonEl =\n",
       "        document.querySelector('#' + key + ' button');\n",
       "      quickchartButtonEl.disabled = true;  // To prevent multiple clicks.\n",
       "      quickchartButtonEl.classList.add('colab-df-spinner');\n",
       "      try {\n",
       "        const charts = await google.colab.kernel.invokeFunction(\n",
       "            'suggestCharts', [key], {});\n",
       "      } catch (error) {\n",
       "        console.error('Error during call to suggestCharts:', error);\n",
       "      }\n",
       "      quickchartButtonEl.classList.remove('colab-df-spinner');\n",
       "      quickchartButtonEl.classList.add('colab-df-quickchart-complete');\n",
       "    }\n",
       "    (() => {\n",
       "      let quickchartButtonEl =\n",
       "        document.querySelector('#df-33aeee5e-866a-4ce5-9555-255a62422146 button');\n",
       "      quickchartButtonEl.style.display =\n",
       "        google.colab.kernel.accessAllowed ? 'block' : 'none';\n",
       "    })();\n",
       "  </script>\n",
       "</div>\n",
       "    </div>\n",
       "  </div>\n"
      ],
      "text/plain": [
       "   ratings_count  average_rating  text_reviews_count  \\\n",
       "0        2862064            4.19               62681   \n",
       "1        1417316            4.02               84176   \n",
       "2          56159            4.53                 352   \n",
       "3           3302            3.79                 480   \n",
       "4           7979            3.60                 772   \n",
       "\n",
       "                                            work_ids  \\\n",
       "0  [3078186, 135328, 1877624, 74123, 3078120, 104...   \n",
       "1  [613469, 2305997, 940892, 2611786, 7800569, 31...   \n",
       "2  [17150, 808427, 20487307, 90550, 25460625, 171...   \n",
       "3  [4417, 14300808, 14780, 3796968, 44703121, 103...   \n",
       "4  [13330815, 19109351, 42306244, 72694240, 26291...   \n",
       "\n",
       "                                            book_ids  works_count  id  \\\n",
       "0  [386162, 13, 8695, 8694, 6091075, 365, 569429,...          106   4   \n",
       "1  [9791, 21, 28, 24, 7507825, 27, 10538, 25, 26,...           75   7   \n",
       "2  [349254, 15222, 14833682, 15221, 18126815, 152...           14  10   \n",
       "3  [40, 9416484, 12482, 3753106, 26889789, 104764...           45  12   \n",
       "4  [8466327, 15739968, 22756778, 51026133, 260451...           61  14   \n",
       "\n",
       "                      name  gender  \\\n",
       "0            Douglas Adams    male   \n",
       "1              Bill Bryson    male   \n",
       "2              Jude Fisher  female   \n",
       "3  James Hamilton-Paterson    male   \n",
       "4              Mark Watson    male   \n",
       "\n",
       "                                           image_url  \\\n",
       "0  https://images.gr-assets.com/authors/159137433...   \n",
       "1  https://images.gr-assets.com/authors/157859752...   \n",
       "2  https://images.gr-assets.com/authors/141145711...   \n",
       "3  https://images.gr-assets.com/authors/127051738...   \n",
       "4  https://images.gr-assets.com/authors/133175379...   \n",
       "\n",
       "                                               about  fans_count  \n",
       "0  Douglas Noël Adams was an English author, comi...       19826  \n",
       "1  William McGuire \"Bill\" Bryson, OBE, FRS was bo...       16144  \n",
       "2  Jude Fisher is the pseudonym for <a href=\"http...          60  \n",
       "3  James Hamilton-Paterson's work has been transl...          72  \n",
       "4  Mark Andrew Watson (born 13 February 1980) is ...         179  "
      ]
     },
     "execution_count": 34,
     "metadata": {},
     "output_type": "execute_result"
    }
   ],
   "source": [
    "df.head()"
   ]
  },
  {
   "cell_type": "code",
   "execution_count": null,
   "metadata": {
    "id": "59GQql3Tor_5"
   },
   "outputs": [],
   "source": [
    "columns_to_drop = ['text_reviews_count', 'work_ids',\n",
    "       'book_ids', 'works_count', 'gender', 'image_url', 'about',\n",
    "       'fans_count']\n",
    "df = df.drop(columns=columns_to_drop)\n",
    "df['name'] = df['name'].str.lower().str.replace(r'[_\\,]', '', regex=True)\n",
    "df['name'] = df['name'].str.replace(r'\\s+', ' ', regex=True)\n"
   ]
  },
  {
   "cell_type": "code",
   "execution_count": null,
   "metadata": {
    "id": "VWu0LWoEZ995"
   },
   "outputs": [],
   "source": [
    "# Find duplicated names\n",
    "duplicated_names = df[df.duplicated(subset='name', keep=False)]\n",
    "\n",
    "# Get a list of names that are duplicated\n",
    "list_of_duplicated_names = duplicated_names['name'].unique()\n",
    "\n",
    "drop_ids = []\n",
    "for name in list_of_duplicated_names:\n",
    "    # Find duplicated rows for a particular name and sort by ratings_count\n",
    "    duplicated_name_rows = df[df['name'] == name].sort_values('average_rating', ascending=False)\n",
    "\n",
    "    # Identify the duplicated rows after the first one and get their IDs\n",
    "    drop_ids.extend(duplicated_name_rows.iloc[1:]['id'].tolist())\n",
    "\n",
    "# Filter the DataFrame to remove rows with IDs present in drop_ids\n",
    "df = df[~df['id'].isin(drop_ids)]\n"
   ]
  },
  {
   "cell_type": "code",
   "execution_count": null,
   "metadata": {
    "id": "c4GiBG2XtTs5"
   },
   "outputs": [],
   "source": [
    "df.to_pickle('authors_data_final.pkl')"
   ]
  },
  {
   "cell_type": "code",
   "execution_count": null,
   "metadata": {
    "id": "JUSqX_rDuEvf"
   },
   "outputs": [],
   "source": [
    "import shutil\n",
    "\n",
    "# Source path\n",
    "source_authors = '/content/authors_data_final.pkl'\n",
    "\n",
    "# Destination path\n",
    "destination = '/content/drive/MyDrive/Dataset HW2'\n",
    "\n",
    "# Move the content of\n",
    "# source to destination\n",
    "dest = shutil.move(source_authors, destination)"
   ]
  },
  {
   "cell_type": "code",
   "execution_count": null,
   "metadata": {
    "id": "zYzg_bGCMqZi"
   },
   "outputs": [],
   "source": [
    "df_authors = pd.read_pickle('/content/drive/MyDrive/Dataset HW2/authors_data_final.pkl')"
   ]
  },
  {
   "cell_type": "markdown",
   "metadata": {
    "id": "9YRIz2VbFEf8"
   },
   "source": [
    "#### RQ4.2\n",
    "Write a function that, given a list of author_id, outputs a dictionary where each author_id is a key, and the related value is a list with the names of all the books the author has written."
   ]
  },
  {
   "cell_type": "code",
   "execution_count": null,
   "metadata": {
    "id": "HgUTolN9pBMO"
   },
   "outputs": [],
   "source": [
    "def get_books_of_the_author(chunk, list_of_authors_ids, d):\n",
    "    for index, row in chunk.iterrows():\n",
    "        author_id = row['author_id']\n",
    "        if author_id in list_of_authors_ids:\n",
    "            book = row['title']\n",
    "            if author_id not in d:\n",
    "                d[author_id] = [book]\n",
    "            else:\n",
    "                d[author_id].append(book)"
   ]
  },
  {
   "cell_type": "code",
   "execution_count": null,
   "metadata": {
    "id": "E_vU5EavD4QZ"
   },
   "outputs": [],
   "source": [
    "top_author_ids = df.sort_values(by=\"average_rating\", ascending=False).head(20)['id'].values.tolist()"
   ]
  },
  {
   "cell_type": "code",
   "execution_count": null,
   "metadata": {
    "id": "xp3KoJvhGA_O"
   },
   "outputs": [],
   "source": [
    "import pandas as pd\n",
    "import numpy as np\n",
    "# Define the chunk size (adjust as needed)\n",
    "chunk_size = 10000  # This will read 100,000 rows at a time\n",
    "\n",
    "# Create an iterator for reading the JSON file in chunks\n",
    "json_reader = pd.read_json('/content/drive/MyDrive/Dataset HW2/lighter_books.json', lines=True, chunksize=chunk_size)\n",
    "list_of_authors_ids = top_author_ids\n",
    "d = {}\n",
    "# Initialize an empty list to hold the processed dataframes\n",
    "\n",
    "is_first = True\n",
    "# Iterate through the JSON file in chunks\n",
    "for chunk in json_reader:\n",
    "    get_books_of_the_author(chunk, list_of_authors_ids=list_of_authors_ids, d=d)\n"
   ]
  },
  {
   "cell_type": "code",
   "execution_count": null,
   "metadata": {
    "colab": {
     "base_uri": "https://localhost:8080/"
    },
    "id": "lTC2N4RKsuyg",
    "outputId": "648653ef-887d-4ad7-ca67-09f28da48b4e"
   },
   "outputs": [
    {
     "data": {
      "text/plain": [
       "{4109013: ['Continuation & Additions to the History of Bradford and Its Parish'],\n",
       " 4104692: ['Mightnight Multiverse',\n",
       "  'Multiverse Clique',\n",
       "  'Reverse of Gravity',\n",
       "  'the Reverse of Gravity'],\n",
       " 4108151: ['The River That Disappeared', 'The Willow Tree', 'A Lazy Day']}"
      ]
     },
     "execution_count": 40,
     "metadata": {},
     "output_type": "execute_result"
    }
   ],
   "source": [
    "d"
   ]
  },
  {
   "cell_type": "markdown",
   "metadata": {
    "id": "SbTDul8RFP2H"
   },
   "source": [
    "#### RQ4.3\n",
    "What is the longest book title among the books of the top 20 authors regarding their average rating? Is it the longest book title overall?"
   ]
  },
  {
   "cell_type": "code",
   "execution_count": null,
   "metadata": {
    "id": "p2PjW9t_KnJL"
   },
   "outputs": [],
   "source": [
    "max_length_book = 0\n",
    "max_book = str()\n",
    "for key, value in d.items():\n",
    "  for book in value:\n",
    "    if len(book) > max_length_book:\n",
    "      max_book = book\n",
    "      max_length_book = len(book)"
   ]
  },
  {
   "cell_type": "code",
   "execution_count": null,
   "metadata": {
    "colab": {
     "base_uri": "https://localhost:8080/",
     "height": 35
    },
    "id": "_APzX6lLLSbP",
    "outputId": "1213bb4e-0e86-4a66-bd9f-8690e7b98c6e"
   },
   "outputs": [
    {
     "data": {
      "application/vnd.google.colaboratory.intrinsic+json": {
       "type": "string"
      },
      "text/plain": [
       "'Continuation & Additions to the History of Bradford and Its Parish'"
      ]
     },
     "execution_count": 42,
     "metadata": {},
     "output_type": "execute_result"
    }
   ],
   "source": [
    "max_book"
   ]
  },
  {
   "cell_type": "markdown",
   "metadata": {
    "id": "GQsepTuuFZSE"
   },
   "source": [
    "#### RQ4.4\n",
    "What is the shortest overall book title in the dataset? If you find something strange, provide a comment on what happened and an alternative answer."
   ]
  },
  {
   "cell_type": "code",
   "execution_count": null,
   "metadata": {
    "colab": {
     "base_uri": "https://localhost:8080/"
    },
    "id": "LTPj8i2WIC00",
    "outputId": "673639f7-444f-4414-b42c-f77fad767125"
   },
   "outputs": [
    {
     "name": "stdout",
     "output_type": "stream",
     "text": [
      "Longest Book - Author ID: 7545655, Title: A Commentary and Review of Montesquieu's Spirit of Laws, Prepared for Press from the Original Manuscript in the Hands of the Publisher (1811): To Which Are Annexed, Observations on the Thirty-First Book, by the Late M. Condorcet. and Two Letters of Hel...\n",
      "Shortest Book - Author ID: 1203, Title: a\n"
     ]
    }
   ],
   "source": [
    "import pandas as pd\n",
    "\n",
    "# Define the chunk size (adjust as needed)\n",
    "chunk_size = 100000\n",
    "\n",
    "json_reader = pd.read_json('/content/drive/MyDrive/Dataset HW2/lighter_books.json', lines=True, chunksize=chunk_size)\n",
    "\n",
    "longest_book_overall = ['', '']\n",
    "shortest_book_overall = ['', '']\n",
    "max_length = 0\n",
    "min_length = float('inf')\n",
    "is_first = True\n",
    "\n",
    "for chunk in json_reader:\n",
    "    chunk = preprocess_data(chunk)\n",
    "    for index, row in chunk.iterrows():\n",
    "        title_length = len(row['title'])\n",
    "\n",
    "        if title_length > max_length:\n",
    "            longest_book_overall[0] = row['author_id']\n",
    "            longest_book_overall[1] = row['title']\n",
    "            max_length = title_length\n",
    "\n",
    "        if title_length < min_length:\n",
    "            shortest_book_overall[0] = row['author_id']\n",
    "            shortest_book_overall[1] = row['title']\n",
    "            min_length = title_length\n",
    "\n",
    "# Print the results\n",
    "print(f\"Longest Book - Author ID: {longest_book_overall[0]}, Title: {longest_book_overall[1]}\")\n",
    "print(f\"Shortest Book - Author ID: {shortest_book_overall[0]}, Title: {shortest_book_overall[1]}\")\n"
   ]
  },
  {
   "cell_type": "markdown",
   "metadata": {
    "id": "JpuF4JDI41hY"
   },
   "source": [
    "RQ7"
   ]
  },
  {
   "cell_type": "markdown",
   "metadata": {
    "id": "1hmj-d2641hZ"
   },
   "source": [
    "7.1Estimate the probability that a book has over 30% of the ratings above 4."
   ]
  },
  {
   "cell_type": "code",
   "execution_count": null,
   "metadata": {
    "id": "x1Uc4yTR41hZ",
    "outputId": "45232e4c-3025-4e64-d4ac-c402cf9179fd"
   },
   "outputs": [
    {
     "name": "stdout",
     "output_type": "stream",
     "text": [
      "0.8498\n"
     ]
    }
   ],
   "source": [
    "import re\n",
    "import pandas as pd\n",
    "import numpy as np\n",
    "#working with chunk impose to have some variable to sore the significant data\n",
    "\n",
    "good_book=0#number of book that we are searching\n",
    "n=0 #lenght of books\n",
    "\n",
    "for chunk in pd.read_json('lighter_books.json', lines=True, chunksize=8000):\n",
    "    work2=preprocessing_data(chunk)\n",
    "    valori = work2['rating_dist']\n",
    "    lista_valori = valori.str.split().str[0]#i need a string\n",
    "\n",
    "    numbers_ratings_5 = valori.str.extract(r'5:(\\d+)').astype(int)#i need the value of ratings egual to five, so i extract them and put them in an variable like an integer\n",
    "    numbers_ratings_4 = valori.str.extract(r'4:(\\d+)').astype(int)#i need the value of ratings egual to 4, so i extract them and put them in an variable like an integer\n",
    "    numbers_ratings_total = valori.str.extract(r'total:(\\d+)').astype(int)#i need the tota, so i extract them and put them in an variable like an integer\n",
    "\n",
    "    prob_over_4 = ((numbers_ratings_5 + numbers_ratings_4) / numbers_ratings_total)#classic definition of probablity, recension over4 divided for the total\n",
    "    if float(prob_over_4.iloc[0, 0]) >= 0.3:#check if the probability is good for us\n",
    "      good_book+=1\n",
    "    n+=1\n",
    "\n",
    "prob_of_a_book_over_30=good_book/n#classic definition of probablity, book that has a probability of having ratings over 4 over 30% divided for the total\n",
    "print(f\"{prob_of_a_book_over_30:.4f}\")\n"
   ]
  },
  {
   "cell_type": "markdown",
   "metadata": {
    "id": "XQXZVYCh41hZ"
   },
   "source": [
    "How we can see from the result, the probability of a book to have over 30% of rating over 4 is quite high"
   ]
  },
  {
   "cell_type": "markdown",
   "metadata": {
    "id": "158_PUT_41hZ"
   },
   "source": [
    "7.2 Estimate the probability that an author publishes a new book within two years from its last work."
   ]
  },
  {
   "cell_type": "code",
   "execution_count": null,
   "metadata": {
    "id": "cH39t8zk41hZ",
    "outputId": "fc676e82-06ea-4a49-8e29-dffc7522796f"
   },
   "outputs": [
    {
     "name": "stdout",
     "output_type": "stream",
     "text": [
      "0.5647173015005764\n"
     ]
    }
   ],
   "source": [
    "\n",
    "import pandas as pd\n",
    "import numpy as np\n",
    "from datetime import datetime\n",
    "author_years = {}#save author and books in a dictionary, we need this for the fact of the chunk\n",
    "\n",
    "a=[]#temporary list\n",
    "\n",
    "for chunk in pd.read_json('lighter_books.json', lines=True, chunksize=2000):\n",
    "  work=preprocessing_data(chunk)\n",
    "  authors = work['author_id']\n",
    "  years = work['publication_date']\n",
    "\n",
    "  for i in range(len(authors)):#put authors and books in the dictionary\n",
    "        author = authors.iloc[i]\n",
    "        year = years.iloc[i]\n",
    "\n",
    "        if author in author_years:\n",
    "            author_years[author].append(year)\n",
    "        else:\n",
    "            author_years[author] = [year]\n",
    "  #break\n",
    "\n",
    "for author, dates in author_years.items():\n",
    "    check=0\n",
    "    sorted_dates = sorted(dates) #reorder of years\n",
    "    for j in range(1, len(sorted_dates)):\n",
    "        date1 = sorted_dates[j-1]\n",
    "        date2 = sorted_dates[j]\n",
    "        try:\n",
    "\n",
    "            # Every date must be in the format 'YYYY-MM-DD'\n",
    "            if len(date1) == 7:\n",
    "                date1 += '-01'\n",
    "            elif len(date1) == 4:\n",
    "                date1 = f\"{date1}-01-01\"\n",
    "            else:\n",
    "                if len(date1)!=10 or date1>\"2023-12-31\": #we avoid future, and any strange data\n",
    "                    date1=\"\"\n",
    "\n",
    "\n",
    "\n",
    "            if len(date2) == 7:\n",
    "                date2 += '-01'\n",
    "            elif len(date2) == 4:\n",
    "                date2 = f\"{date2}-01-01\"\n",
    "            else:\n",
    "                if len(date2)!=10 or date2>\"2023-12-31\":\n",
    "                    date2=\"\"\n",
    "\n",
    "\n",
    "\n",
    "            if len(date1) != 0 and len(date2) != 0:\n",
    "                date1 = datetime.strptime(date1, '%Y-%m-%d')\n",
    "                date2 = datetime.strptime(date2, '%Y-%m-%d')\n",
    "                difference_in_days = (date2 - date1).days\n",
    "\n",
    "\n",
    "                if difference_in_days < 730:\n",
    "                    check += 1\n",
    "        except ValueError as e:\n",
    "          continue\n",
    "\n",
    "\n",
    "\n",
    "            # Handle the case where date conversion fails, the conversion fails\n",
    "            #for any strange data like 31 of february or 31 of november, we just skip that case\n",
    "\n",
    "\n",
    "    if check!=0: #just a little adjustment\n",
    "           check+=1\n",
    "\n",
    "    prob=check/len(sorted_dates)\n",
    "    a.append(prob)#vector of all the probabilities\n",
    "probability=np.array(a)\n",
    "print(probability.mean())\n"
   ]
  },
  {
   "cell_type": "markdown",
   "metadata": {
    "id": "e4wbLO-N41hZ"
   },
   "source": [
    "How we can see from the result, the probability of the an author to write another book in less time of 2 year is just a bit over 50% so it 's not so reliable."
   ]
  },
  {
   "cell_type": "markdown",
   "metadata": {
    "id": "I0_46M3441ha"
   },
   "source": [
    "7.3 In the file list.json, you will find a peculiar list named \"The Worst Books of All Time.\" Estimate the probability of a book being included in this list, knowing it has more than 700 pages.\n",
    "7.4 Are the events X=’Being Included in The Worst Books of All Time list’ and Y=’Having more than 700 pages’ independent? Explain how you have obtained your answer."
   ]
  },
  {
   "cell_type": "code",
   "execution_count": null,
   "metadata": {
    "id": "da66jlyU41ha",
    "outputId": "ac487f2b-2326-48f5-d075-70bf3ffdf69a"
   },
   "outputs": [
    {
     "name": "stdout",
     "output_type": "stream",
     "text": [
      "The probability that a book with more than 700 pages is included in the worst book list is: 0.002\n",
      "The probability that a book  is included in the worst book list is: 0.002\n"
     ]
    }
   ],
   "source": [
    "import json\n",
    "import numpy as np\n",
    "import pandas as pd\n",
    "for chunk in pd.read_json('list.json', lines = True, chunksize=1):\n",
    "  worst_books_list = pd.DataFrame(chunk.loc[0, 'books'])#just a way to localize our list\n",
    "  break\n",
    "good_cases=0\n",
    "total_cases_over_700=0\n",
    "tot_book=0\n",
    "#worst_books_list['book_id'] = pd.to_numeric(worst_books_list['book_id'], errors='coerce')\n",
    "worst=pd.DataFrame(worst_books_list['book_id'])\n",
    "\n",
    "for chunk in pd.read_json('lighter_books.json', lines=True, chunksize=50000):\n",
    "  Clean1=preprocessing_data(chunk)\n",
    "\n",
    "  books=pd.DataFrame(Clean1[['id','num_pages']])\n",
    "#now we merge the dataset, in this way we associate to each book of the worst list the\n",
    "#right number of pages\n",
    "  merged_df = pd.merge(books, worst, left_on='id', right_on='book_id',how='inner')\n",
    "  # now we calculated the good cases as the number of the worst book with more than 700 pages\n",
    "  good_cases =good_cases+len(merged_df[merged_df['num_pages']>700])\n",
    "\n",
    "# the total cases are the number of books with 700 pages\n",
    "  total_cases_over_700 =total_cases_over_700+len(books[books['num_pages']>700])\n",
    "#tot of books\n",
    "  tot_book=tot_book+len(books)\n",
    "\n",
    "\n",
    "  #break\n",
    "p_conditionated = good_cases/total_cases_over_700\n",
    "p_worst=len(worst)/tot_book\n",
    "print(f'The probability that a book with more than 700 pages is included in the worst book list is: {round(p_conditionated,3)}')\n",
    "print(f'The probability that a book  is included in the worst book list is: {round(p_worst,3)}')"
   ]
  },
  {
   "cell_type": "markdown",
   "metadata": {
    "id": "JJW-s7tR41ha"
   },
   "source": [
    "The probability that a book with more than 700 pages is included in the worst book list is: 0.002\n",
    "The probability that a book  is included in the worst book list is: 0.002\n",
    "this means that the condition of having more than 700 pages is not giving any change to the original probability ,\n",
    "so the probablity are indipendent\n",
    "P(A|B)=P(A) => A indipendent from B"
   ]
  },
  {
   "cell_type": "markdown",
   "metadata": {
    "id": "T8FRrgxo41ha"
   },
   "source": [
    "RQ8"
   ]
  },
  {
   "cell_type": "markdown",
   "metadata": {
    "id": "3BiHtueG41ha"
   },
   "source": [
    "8.1 Can you demonstrate that readers usually rate the longest books as the worst?"
   ]
  },
  {
   "cell_type": "code",
   "execution_count": null,
   "metadata": {
    "id": "lReN30SP41ha",
    "outputId": "a527a8f0-eb2e-4c40-bd21-a6e42994b1a7"
   },
   "outputs": [
    {
     "name": "stdout",
     "output_type": "stream",
     "text": [
      "The correlation between average_ratings1 and num_pages1 is: 0.090828536485089\n"
     ]
    },
    {
     "data": {
      "image/png": "[encoded data removed]",
      "text/plain": [
       "<Figure size 640x480 with 1 Axes>"
      ]
     },
     "metadata": {},
     "output_type": "display_data"
    },
    {
     "data": {
      "image/png": "[encoded data removed]",
      "text/plain": [
       "<Figure size 640x480 with 1 Axes>"
      ]
     },
     "metadata": {},
     "output_type": "display_data"
    }
   ],
   "source": [
    "import matplotlib.pyplot as plt\n",
    "import pandas as pd\n",
    "import numpy as np\n",
    "\n",
    "\n",
    "average_ratings1 = []\n",
    "num_pages1 = []\n",
    "average_ratings_20000 = []\n",
    "num_pages_20000 = []\n",
    "#i choosed to divide the problem from before 20000 and after because there are very few cases\n",
    "#after 20000 but for the fact that this is a studio related to the number of pages i wanted\n",
    "#to show also that values\n",
    "for chunk in pd.read_json('lighter_books.json', lines=True, chunksize=50000):\n",
    "    Clean2 = preprocessing_data(chunk)\n",
    "    books_rate = pd.DataFrame(Clean2[['average_rating', 'num_pages']])\n",
    "    books_over_20000 = Clean2[Clean2['num_pages'] >= 20000]\n",
    "    books_rate_over_20000 = pd.DataFrame(books_over_20000[['average_rating', 'num_pages']])\n",
    "    books_under_20000 = Clean2[Clean2['num_pages'] <= 20000]\n",
    "    books_rate_under_20000 = pd.DataFrame(books_under_20000[['average_rating', 'num_pages']])\n",
    "\n",
    "    # Upload the data in our variable\n",
    "    average_ratings1.extend(books_rate_under_20000['average_rating'])\n",
    "    num_pages1.extend(books_rate_under_20000['num_pages'])\n",
    "    num_pages_20000.extend(books_rate_over_20000['num_pages'])\n",
    "    average_ratings_20000.extend(books_rate_over_20000['average_rating'])\n",
    "\n",
    "correlation = np.corrcoef(average_ratings1, num_pages1)[0, 1]\n",
    "\n",
    "print(f\"The correlation between average_ratings1 and num_pages1 is: {correlation}\")\n",
    "plt.scatter(average_ratings1, num_pages1)\n",
    "plt.ylabel('Num_pages')\n",
    "plt.xlabel('Average_Ratings')\n",
    "plt.title('Relation between Num_Pages and Average_rating')\n",
    "plt.xticks(np.arange(0, 5.1, 0.4))\n",
    "plt.show()\n",
    "\n",
    "plt.scatter(average_ratings_20000, num_pages_20000)\n",
    "plt.ylabel('Num_pages')\n",
    "plt.xlabel('Average_Ratings')\n",
    "plt.title('Relation between Num_Pages and Average_rating')\n",
    "\n",
    "plt.show()\n"
   ]
  },
  {
   "cell_type": "markdown",
   "metadata": {
    "id": "HRW4kAv641ha"
   },
   "source": [
    "From the plot and the value of correlation we can say that the readers don't\n",
    "\n",
    "\n",
    "rate worse the books with hign number of pages, i put the second plot just to let see the fact that the book with the highest number of page has still an average rating of 4,and from the first plot we can see that we have incredible amount of books with high number of pages that have a rating of 0"
   ]
  },
  {
   "cell_type": "markdown",
   "metadata": {
    "id": "JFGWypeq41ha"
   },
   "source": [
    "8.2 Compare the average rate distribution for English and non-English books with a proper statistical procedure. What can you conclude about those two groups?"
   ]
  },
  {
   "cell_type": "code",
   "execution_count": null,
   "metadata": {
    "id": "nw8iDUjP41hb",
    "outputId": "16186f7a-d239-460d-9d51-11122cf9a6a7"
   },
   "outputs": [
    {
     "name": "stdout",
     "output_type": "stream",
     "text": [
      "the p-value is 0.0000. we reject H0.\n",
      "Statistical evidence suggests that the distributions of average ratings differ between English and non-English books.\n"
     ]
    }
   ],
   "source": [
    "import scipy.stats as stats\n",
    "\n",
    "# we Need variable to store data from chunck\n",
    "english_ratings = []\n",
    "other_ratings = []\n",
    "\n",
    "for chunk in pd.read_json('lighter_books.json', lines=True, chunksize=50000):\n",
    "    lavoro3 = preprocessing_data(chunk)\n",
    "    books_lang = pd.DataFrame(lavoro3[['average_rating', 'language']])\n",
    "    books_english = books_lang[books_lang['language'].isin(['eng', 'en-US'])]\n",
    "    books_other = books_lang[~books_lang['language'].isin(['eng', 'en-US',\"\"])]\n",
    "\n",
    "    # Upload data\n",
    "    english_ratings.extend(books_english['average_rating'])\n",
    "    other_ratings.extend(books_other['average_rating'])\n",
    "\n",
    "# Now we do a t test\n",
    "t_stat, p_value = stats.ttest_ind(english_ratings, other_ratings, equal_var=False)\n",
    "#Null Hypothesis (H0): The average ratings of English and non-English books are equal.\n",
    "#Alternative Hypothesis (H1): The average ratings of English and non-English books are not equal.\n",
    "\n",
    "alpha = 0.05  # significancy level\n",
    "if p_value < alpha:\n",
    "    print(f\"the p-value is {p_value:.4f}. we reject H0.\")\n",
    "    print(\"Statistical evidence suggests that the distributions of average ratings differ between English and non-English books.\")\n",
    "else:\n",
    "    print(f\"the p-value is {p_value:.4f}. we  don't reject H0.\")\n",
    "    print(\"There is not enough statistical evidence to assert that the distributions of average ratings differ between English and non-English books\")"
   ]
  },
  {
   "cell_type": "markdown",
   "metadata": {
    "id": "1QoaRJaL41hb"
   },
   "source": [
    "Like we can see from the t test there is a different distribution of the rating dipending from the language that the book is written"
   ]
  },
  {
   "cell_type": "markdown",
   "metadata": {
    "id": "O8BW4NDI41hb"
   },
   "source": [
    "8.3About the two groups in the previous question, extract helpful statistics like mode, mean, median, and quartiles, explaining their role in a box plot."
   ]
  },
  {
   "cell_type": "code",
   "execution_count": null,
   "metadata": {
    "id": "8-UxqNFe41hb",
    "outputId": "4135f70d-3bdf-4926-e332-b66fc8c50a74"
   },
   "outputs": [
    {
     "name": "stderr",
     "output_type": "stream",
     "text": [
      "C:\\Users\\Work\\AppData\\Local\\Temp\\ipykernel_9560\\1684050413.py:6: FutureWarning: Unlike other reduction functions (e.g. `skew`, `kurtosis`), the default behavior of `mode` typically preserves the axis it acts along. In SciPy 1.11.0, this behavior will change: the default value of `keepdims` will become False, the `axis` over which the statistic is taken will be eliminated, and the value None will no longer be accepted. Set `keepdims` to True or False to avoid this warning.\n",
      "  english_mode = stats.mode(english_ratings)\n",
      "C:\\Users\\Work\\AppData\\Local\\Temp\\ipykernel_9560\\1684050413.py:13: FutureWarning: Unlike other reduction functions (e.g. `skew`, `kurtosis`), the default behavior of `mode` typically preserves the axis it acts along. In SciPy 1.11.0, this behavior will change: the default value of `keepdims` will become False, the `axis` over which the statistic is taken will be eliminated, and the value None will no longer be accepted. Set `keepdims` to True or False to avoid this warning.\n",
      "  other_mode = stats.mode(other_ratings)\n"
     ]
    },
    {
     "name": "stdout",
     "output_type": "stream",
     "text": [
      "Statistics for English Books:\n",
      "Mean: 3.7511\n",
      "Median: 3.91\n",
      "Mode: [4.] (with a frequency of [37116])\n",
      "1st Quartile (Q1): 3.64\n",
      "3rd Quartile (Q3): 4.14\n",
      "\n",
      "Statistics for Non-English Books:\n",
      "Mean: 3.7117\n",
      "Median: 3.87\n",
      "Mode: [4.] (with a frequency of [39172])\n",
      "1st Quartile (Q1): 3.59\n",
      "3rd Quartile (Q3): 4.1\n"
     ]
    },
    {
     "data": {
      "image/png": "[encoded data removed]",
      "text/plain": [
       "<Figure size 640x480 with 1 Axes>"
      ]
     },
     "metadata": {},
     "output_type": "display_data"
    }
   ],
   "source": [
    "import numpy as np\n",
    "#here we have just a lot of calculation\n",
    "# Calculate statistics for English books\n",
    "english_mean = np.mean(english_ratings)\n",
    "english_median = np.median(english_ratings)\n",
    "english_mode = stats.mode(english_ratings)\n",
    "english_q1 = np.percentile(english_ratings, 25)\n",
    "english_q3 = np.percentile(english_ratings, 75)\n",
    "\n",
    "# Calculate statistics for non-English books\n",
    "other_mean = np.mean(other_ratings)\n",
    "other_median = np.median(other_ratings)\n",
    "other_mode = stats.mode(other_ratings)\n",
    "other_q1 = np.percentile(other_ratings, 25)\n",
    "other_q3 = np.percentile(other_ratings, 75)\n",
    "\n",
    "# Print the statistics\n",
    "print(\"Statistics for English Books:\")\n",
    "print(f\"Mean: {english_mean:.4f}\")\n",
    "print(f\"Median: {english_median}\")\n",
    "print(f\"Mode: {english_mode.mode} (with a frequency of {english_mode.count})\")\n",
    "print(f\"1st Quartile (Q1): {english_q1}\")\n",
    "print(f\"3rd Quartile (Q3): {english_q3}\")\n",
    "print(\"\\nStatistics for Non-English Books:\")\n",
    "print(f\"Mean: {other_mean:.4f}\")\n",
    "print(f\"Median: {other_median}\")\n",
    "print(f\"Mode: {other_mode.mode} (with a frequency of {other_mode.count})\")\n",
    "print(f\"1st Quartile (Q1): {other_q1}\")\n",
    "print(f\"3rd Quartile (Q3): {other_q3}\")\n",
    "\n",
    "data = [english_ratings, other_ratings]\n",
    "\n",
    "fig, ax = plt.subplots()\n",
    "\n",
    "# Create the box plot\n",
    "ax.boxplot(data)\n",
    "\n",
    "# Set labels and title\n",
    "ax.set_xticklabels(['English Books', 'Non-English Books'])\n",
    "ax.set_ylabel('Rating')\n",
    "plt.title('Box Plot of Book Ratings')\n",
    "\n",
    "# Show the plot\n",
    "plt.show()"
   ]
  },
  {
   "cell_type": "markdown",
   "metadata": {
    "id": "0CElJiHQ41hb"
   },
   "source": [
    "8.4 It seems reasonable to assume that authors with more fans should have more reviews, but maybe their fans are a bit lazy. Confirm or reject this with a convenient statistical test or a predictive model."
   ]
  },
  {
   "cell_type": "markdown",
   "metadata": {
    "id": "soZgneiM41hb"
   },
   "source": [
    "Now i will start with correlation and linear regression"
   ]
  },
  {
   "cell_type": "code",
   "execution_count": null,
   "metadata": {
    "id": "B62nobUB41hc",
    "outputId": "61e27302-a096-4938-8f02-2835d0bdc716"
   },
   "outputs": [
    {
     "name": "stderr",
     "output_type": "stream",
     "text": [
      "C:\\Users\\Work\\AppData\\Local\\Temp\\ipykernel_9560\\3260211212.py:10: SettingWithCopyWarning: \n",
      "A value is trying to be set on a copy of a slice from a DataFrame.\n",
      "Try using .loc[row_indexer,col_indexer] = value instead\n",
      "\n",
      "See the caveats in the documentation: https://pandas.pydata.org/pandas-docs/stable/user_guide/indexing.html#returning-a-view-versus-a-copy\n",
      "  df.loc[:, 'ratings_count'] = pd.to_numeric(df['ratings_count'], errors='coerce').astype('int')\n",
      "C:\\Users\\Work\\AppData\\Local\\Temp\\ipykernel_9560\\3260211212.py:10: DeprecationWarning: In a future version, `df.iloc[:, i] = newvals` will attempt to set the values inplace instead of always setting a new array. To retain the old behavior, use either `df[df.columns[i]] = newvals` or, if columns are non-unique, `df.isetitem(i, newvals)`\n",
      "  df.loc[:, 'ratings_count'] = pd.to_numeric(df['ratings_count'], errors='coerce').astype('int')\n"
     ]
    },
    {
     "name": "stdout",
     "output_type": "stream",
     "text": [
      "The correlation between fans_count and ratings_count is: 0.5806\n"
     ]
    },
    {
     "data": {
      "image/png": "[encoded data removed]",
      "text/plain": [
       "<Figure size 640x480 with 1 Axes>"
      ]
     },
     "metadata": {},
     "output_type": "display_data"
    },
    {
     "name": "stdout",
     "output_type": "stream",
     "text": [
      "Mean Squared Error: 4694640.048272197\n",
      "R-squared: 0.33705943775991376\n"
     ]
    }
   ],
   "source": [
    "from sklearn.linear_model import LinearRegression\n",
    "import statsmodels.api as sm\n",
    "import numpy as np\n",
    "import matplotlib.pyplot as plt\n",
    "from sklearn.metrics import mean_squared_error, r2_score\n",
    "\n",
    "df_authors = pd.read_json('lighter_authors.json', lines = True)\n",
    "Clean4=preprocessing_data_authors(df_authors)\n",
    "Aut = pd.DataFrame(Clean4[['ratings_count','fans_count']])\n",
    "correlation_matrix = Aut[['fans_count', 'ratings_count']].corr()\n",
    "correlation_coefficient = correlation_matrix.loc['fans_count', 'ratings_count']\n",
    "print(f\"The correlation between fans_count and ratings_count is: {correlation_coefficient:.4f}\")\n",
    "\n",
    "\n",
    "X = Aut[['ratings_count']]  # Independent variable(s)\n",
    "Y = Aut['fans_count']  # Dependent variable\n",
    "\n",
    "# Create and train the model\n",
    "model = LinearRegression()\n",
    "model.fit(X, Y)\n",
    "\n",
    "# Make predictions\n",
    "Y_pred = model.predict(X)\n",
    "\n",
    "#Visualize the plot\n",
    "plt.scatter(X, Y, color='blue')\n",
    "plt.plot(X, Y_pred, color='red', linewidth=2)\n",
    "plt.xlabel('ratings_count')\n",
    "plt.ylabel('fans_count')\n",
    "plt.show()\n",
    "\n",
    "#Evaluate the model\n",
    "mse = mean_squared_error(Y, Y_pred)\n",
    "r2 = r2_score(Y, Y_pred)\n",
    "\n",
    "print(f'Mean Squared Error: {mse}')\n",
    "print(f'R-squared: {r2}')\n",
    "\n",
    "\n"
   ]
  },
  {
   "cell_type": "markdown",
   "metadata": {
    "id": "7EDHexN841hc"
   },
   "source": [
    "  From the plot we can say that the fans are a bit lazy, ans also the fact that the correlation is over 0.5 it means that the 2 variable are influencing each other"
   ]
  },
  {
   "cell_type": "markdown",
   "metadata": {
    "id": "a0fNzkex41hc"
   },
   "source": [
    "Now f test and t test"
   ]
  },
  {
   "cell_type": "code",
   "execution_count": null,
   "metadata": {
    "id": "qMUZgiBL41hc",
    "outputId": "4a3b9304-b94c-44c1-f8e0-066453fc8c7d"
   },
   "outputs": [
    {
     "name": "stdout",
     "output_type": "stream",
     "text": [
      "F-statistic: 799.4245\n",
      "p-value (F-test): 0.0000\n",
      "T-statistic: 422.8882\n",
      "p-value (t-test): 0.0000\n"
     ]
    }
   ],
   "source": [
    "from scipy.stats import f_oneway\n",
    "import statsmodels.api as sm\n",
    "\n",
    "\n",
    "# Reshape X for compatibility with f_oneway\n",
    "X_reshaped = X.values.reshape(-1)\n",
    "\n",
    "# Perform the F-test (ANOVA)\n",
    "f_statistic, p_value_f = f_oneway(X_reshaped, Y)\n",
    "\n",
    "print(f'F-statistic: {f_statistic:.4f}')\n",
    "print(f'p-value (F-test): {p_value_f:.4f}')\n",
    "\n",
    "\n",
    "X_with_constant = sm.add_constant(X)\n",
    "\n",
    "# Fit the regression model using statsmodels\n",
    "model_stats = sm.OLS(Y, X_with_constant).fit()\n",
    "\n",
    "# Perform a t-test for the coefficient of 'ratings_count'\n",
    "t_test_result = model_stats.t_test([0, 1])  # [0, 1] indica il coefficiente di 'ratings_count'\n",
    "\n",
    "# Extract  t-statistic and the p-value from the test\n",
    "t_statistic = t_test_result.tvalue[0][0]\n",
    "p_value_t = t_test_result.pvalue\n",
    "\n",
    "print(f'T-statistic: {t_statistic:.4f}')\n",
    "print(f'p-value (t-test): {p_value_t:.4f}')"
   ]
  },
  {
   "cell_type": "markdown",
   "metadata": {
    "id": "ehtUC2FD41hc"
   },
   "source": [
    "In practical terms, this result suggests that the overall model is\n",
    "\n",
    "statistically significant and that at least one of the independent variables(fans) is likely contributing meaningfully to explaining the variation in the dependent (recension) variable.\n",
    "Also the result of this T-test is giving the same information of the f-test before"
   ]
  },
  {
   "cell_type": "markdown",
   "metadata": {
    "id": "zwUKMwqoNVIk"
   },
   "source": [
    "# 8.5\n",
    "Provide a short survey about helpful statistical tests in data analysis and mining: focus on hypothesis design and the difference between parametric and nonparametric tests, explaining the reasons behind the choice of one of these two tests."
   ]
  },
  {
   "cell_type": "markdown",
   "metadata": {
    "id": "HAgqxPBYNiJX"
   },
   "source": [
    "There a lot of helpful statistical test for data Analysis and for Data mining.\n",
    "I will give just a few for example for each:\n",
    "\n",
    "Data Mining:\n",
    "\n",
    "\n",
    "Chi-Square Test (χ²): Used for categorical data to test for independence between two variables\n",
    "\n",
    "t-Test:Used to compare means of two groups to determine if there is a significant difference between them\n",
    "\n",
    "ANOVA:Used to compare means of more than two groups\n",
    "\n",
    "Regression Analysis:Used to model the relationship between one dependent variable and one or more independent variables, with                       this is also possible to see if there is this relationship\n",
    "\n",
    "Data Analysis:\n",
    "\n",
    "Multivariate Analysis:multivariate regression for analyzing relationships between multiple variables\n",
    "\n",
    "ANOVA: like before is the analyss of the mean\n",
    "\n",
    "Interential Static:that rappresent a lot of type of test (also the test that we wrote before)\n",
    "\n",
    "the choice between the test is made by what we are searching, so we choose the test to fit more the nature of the data.\n",
    "\n",
    "When we speak of hypothesis we usually use this format:\n",
    "\n",
    "H0: Null Hypothesis: there is no difference in the relation of the groups, if have choose to study the mean of 2 groups it means that the means are distribuited equally\n",
    "\n",
    "H1: Alternative hypothesis: usually we want to prove this, and this means that there is a significant difference in the statement\n",
    "\n",
    "Parametric Test:\n",
    "\n",
    "    -For use this we need that the group must  follows a specific distibution(usually gaussian) and homogenity in the variance\n",
    "\n",
    "    -they give a precise estimation of popolation\n",
    "\n",
    "    -We are using a strong assumption in fact this type of test are very efficient in detect a true effect or difference (when        they exist) of course we can use this only if the assumption is right\n",
    "\n",
    "    \n",
    "Non-parametric Test:\n",
    "\n",
    "    -Here is not important the type of distribution so they can used a lot more of parametric tests\n",
    "    \n",
    "    -They are a lot less powerfull than parametric, but they are the only way to interact with oridinal or data that are non          distribuited well\n",
    "\n",
    "So if possible we always choose parametric test for the fact that they are more powerful, so the decision is made only by the anture of the data, if the data has a normal distribution or it can be approximated by one we will always choose parametric in not we are going with a non-parametric test."
   ]
  },
  {
   "cell_type": "markdown",
   "metadata": {},
   "source": [
    "# Bonus point"
   ]
  },
  {
   "cell_type": "markdown",
   "metadata": {},
   "source": [
    "1.Select one alternative library to Pandas (i.e., Dask, Polar, Vaex, Datatable, etc.), upload authors.json dataset, and filter authors with at least 100 reviews. Do the same using Pandas and compare performance in terms of milliseconds."
   ]
  },
  {
   "cell_type": "code",
   "execution_count": 1,
   "metadata": {},
   "outputs": [
    {
     "name": "stdout",
     "output_type": "stream",
     "text": [
      "Requirement already satisfied: dask in c:\\users\\work\\anaconda3\\lib\\site-packages (2023.6.0)\n",
      "Requirement already satisfied: click>=8.0 in c:\\users\\work\\anaconda3\\lib\\site-packages (from dask) (8.0.4)\n",
      "Requirement already satisfied: cloudpickle>=1.5.0 in c:\\users\\work\\anaconda3\\lib\\site-packages (from dask) (2.2.1)\n",
      "Requirement already satisfied: fsspec>=2021.09.0 in c:\\users\\work\\anaconda3\\lib\\site-packages (from dask) (2023.3.0)\n",
      "Requirement already satisfied: packaging>=20.0 in c:\\users\\work\\anaconda3\\lib\\site-packages (from dask) (23.0)\n",
      "Requirement already satisfied: partd>=1.2.0 in c:\\users\\work\\anaconda3\\lib\\site-packages (from dask) (1.2.0)\n",
      "Requirement already satisfied: pyyaml>=5.3.1 in c:\\users\\work\\anaconda3\\lib\\site-packages (from dask) (6.0)\n",
      "Requirement already satisfied: toolz>=0.10.0 in c:\\users\\work\\anaconda3\\lib\\site-packages (from dask) (0.12.0)\n",
      "Requirement already satisfied: importlib-metadata>=4.13.0 in c:\\users\\work\\anaconda3\\lib\\site-packages (from dask) (6.0.0)\n",
      "Requirement already satisfied: colorama in c:\\users\\work\\anaconda3\\lib\\site-packages (from click>=8.0->dask) (0.4.6)\n",
      "Requirement already satisfied: zipp>=0.5 in c:\\users\\work\\anaconda3\\lib\\site-packages (from importlib-metadata>=4.13.0->dask) (3.11.0)\n",
      "Requirement already satisfied: locket in c:\\users\\work\\anaconda3\\lib\\site-packages (from partd>=1.2.0->dask) (1.0.0)\n",
      "Note: you may need to restart the kernel to use updated packages.\n"
     ]
    }
   ],
   "source": [
    "pip install dask"
   ]
  },
  {
   "cell_type": "code",
   "execution_count": 2,
   "metadata": {},
   "outputs": [
    {
     "name": "stdout",
     "output_type": "stream",
     "text": [
      "Dask Execution Time: 13907.59 milliseconds\n",
      "Pandas Execution Time: 38.90 milliseconds\n"
     ]
    }
   ],
   "source": [
    "import dask.dataframe as dd\n",
    "import pandas as pd\n",
    "import time\n",
    "#we have choose Dask\n",
    "# Load authors dataset into Dask DataFrame and pandas\n",
    "dask_author = dd.read_json('lighter_authors.json')\n",
    "pandas_author = pd.read_json('lighter_authors.json',lines= True)\n",
    "\n",
    "# Filter authors with at least 100 reviews using Dask and pandas\n",
    "start_time_dask = time.time()\n",
    "dask_author_over_100 = dask_author[dask_author['ratings_count'] >= 100].compute()\n",
    "end_time_dask = time.time()\n",
    "\n",
    "start_time_pandas = time.time()\n",
    "pandas_author_over_100 = pandas_author[pandas_author['ratings_count'] >= 100]\n",
    "end_time_pandas = time.time()\n",
    "\n",
    "# Calculate execution time for Dask and Pandas\n",
    "dask_execution_time = (end_time_dask - start_time_dask) * 1000  # Convert to milliseconds\n",
    "pandas_execution_time = (end_time_pandas - start_time_pandas)*1000 # Convert to milliseconds\n",
    "\n",
    "print(f\"Dask Execution Time: {dask_execution_time:.2f} milliseconds\")\n",
    "print(f\"Pandas Execution Time: {pandas_execution_time:.2f} milliseconds\")"
   ]
  },
  {
   "cell_type": "markdown",
   "metadata": {},
   "source": [
    "How we can see pandas is 2700 times faster than dask"
   ]
  },
  {
   "cell_type": "markdown",
   "metadata": {},
   "source": [
    "1.2 Select one alternative library to Pandas (i.e., Dask, Polar, Vaex, Datatable, etc.), upload books.json, and join them with authors.json based on author_id. How many books don’t have a match for the author?"
   ]
  },
  {
   "cell_type": "markdown",
   "metadata": {},
   "source": [
    "For what we said before the dask libraries is incredibly slower, we will give the correct answer with pandas for problem of time\n",
    "but there will be also the code with Dask"
   ]
  },
  {
   "cell_type": "code",
   "execution_count": null,
   "metadata": {},
   "outputs": [],
   "source": [
    "import dask.dataframe as dd\n",
    "\n",
    "# Loading data and selecting them\n",
    "authors = dd.read_json('lighter_authors.json')\n",
    "authors_id=authors[['id']]\n",
    "# varibles to store data\n",
    "merged_len = 0\n",
    "unmatched_books_count = 0\n",
    "tot_book=0\n",
    "for chunk in dd.read_json('lighter_books.json', lines=True, blocksize=2000):\n",
    "    \n",
    "    books_id = chunk[['author_id']]\n",
    "    tot_book+=len(books_id)\n",
    "    books_ids = books_id.dropna()  # Drop rows with missing author_id, if any\n",
    "    \n",
    "    # Merge with authors DataFrame\n",
    "    merged_data = dd.merge(books_ids, authors_id, left_on='author_id', right_on='id')\n",
    "    merged_len += len(merged_data)\n",
    "\n",
    "\n",
    "    \n",
    "\n",
    "# Calculate the count of unmatched books across all the dataset\n",
    "unmatched_books_count = tot_book - merged_len"
   ]
  },
  {
   "cell_type": "code",
   "execution_count": 5,
   "metadata": {},
   "outputs": [
    {
     "name": "stdout",
     "output_type": "stream",
     "text": [
      "Number of books without a matching author: 0\n"
     ]
    }
   ],
   "source": [
    "import pandas as pd\n",
    "\n",
    "# Loading data and selecting them\n",
    "authors = pd.read_json('lighter_authors.json',lines=True)\n",
    "authors_id=authors[['id']]\n",
    "# varibles to store data\n",
    "merged_len = 0\n",
    "unmatched_books_count = 0\n",
    "tot_book=0\n",
    "for chunk in pd.read_json('lighter_books.json', lines=True, chunksize=2000):\n",
    "    \n",
    "    books_id = chunk[['author_id']]\n",
    "    tot_book+=len(books_id)\n",
    "\n",
    "    \n",
    "    # Merge with authors DataFrame\n",
    "    merged_data = pd.merge(books_id, authors_id, left_on='author_id', right_on='id')\n",
    "    merged_len += len(merged_data)\n",
    "\n",
    "\n",
    "    \n",
    "\n",
    "# Calculate the count of unmatched books across all the dataset\n",
    "unmatched_books_count = tot_book - merged_len\n",
    "\n",
    "print(f\"Number of books without a matching author: {unmatched_books_count}\")"
   ]
  },
  {
   "cell_type": "markdown",
   "metadata": {
    "id": "x7_fFOrFW5-Z"
   },
   "source": [
    "## Command Line Question (CLQ)\n",
    "Using the command line is a feature that Data Scientists must master. It is relevant since the operations there require less memory to use in comparison to other interfaces. It also uses less CPU processing time than other interfaces. In addition, it can be faster and more efficient and handle repetitive tasks quickly.\n",
    "\n",
    "Note: To answer the question in this section, you must strictly use command line tools. We will reject any other method of response.\n",
    "\n",
    "Looking through the files, you can find series.json, which contains a list of book series. In each series's 'works' field, you'll find a list of books that are part of that series. Report the title of the top 5 series with the highest total 'books_count' among all of their associated books using command line tools.\n",
    "\n"
   ]
  },
  {
   "cell_type": "markdown",
   "metadata": {
    "id": "a_8pTDutXCHr"
   },
   "source": [
    "#### CLQ1.1\n",
    "Write a script to provide this report. Put your script in a shell script file with the appropriate extension, then run it from the command line. The file should be called commandline_original.[put_the_proper extension]"
   ]
  },
  {
   "cell_type": "markdown",
   "metadata": {
    "id": "7oSj8SUoZak3"
   },
   "source": [
    "![commandline_original_output.png](data:image/png;base64,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)"
   ]
  },
  {
   "cell_type": "markdown",
   "metadata": {
    "id": "vVxKy8vAXJi_"
   },
   "source": [
    "#### CLQ1.2\n",
    "Try interacting with ChatGPT or any other LLM chatbot tool to implement a more robust script implementation. Your final script should be at most three lines. Put your script in a shell script file with the appropriate extension, then run it from the command line. The file should be called commandline_LLM.[put_the_proper_ extension]. Add in your homework how you employed the LLM chatbot tools, validate if it is correct, and explain how you check its correctness."
   ]
  },
  {
   "cell_type": "markdown",
   "metadata": {
    "id": "EK-es0RGbBmm"
   },
   "source": [
    "![commandline_LLM.png](data:image/png;base64,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)"
   ]
  },
  {
   "cell_type": "code",
   "execution_count": null,
   "metadata": {
    "id": "ESaT_8r041hY"
   },
   "outputs": [],
   "source": [
    "def preprocessing_data(df):\n",
    "  #we are dropping NaN values, duplicates, changing the type of num_pages and average_rating to work better, and filtering\n",
    "  #the ratings that are impossible to have\n",
    "\n",
    "  df = df.drop('authors', axis=1)\n",
    "  df.dropna(inplace=True)\n",
    "  df = df.astype(str)\n",
    "  df.drop_duplicates(inplace=True)\n",
    "  df['num_pages'] = pd.to_numeric(df['num_pages'], errors='coerce').astype('Int64')\n",
    "  df = df[pd.notnull(df['num_pages'])]\n",
    "  df['average_rating'] = pd.to_numeric(df['average_rating'], errors='coerce').astype('float')\n",
    "  df= df[df['average_rating'] <= 5]\n",
    "  return df"
   ]
  },
  {
   "cell_type": "code",
   "execution_count": null,
   "metadata": {
    "id": "Mt0IWGxJ41hZ"
   },
   "outputs": [],
   "source": [
    "def preprocessing_data_authors(df):\n",
    "  #other dataset, li in the other just a few adjustment to don't have some impossible data, like negative number of fan\n",
    "  #negative number of ratings\n",
    "\n",
    "  df.dropna(inplace=True)\n",
    "  df['fans_count'] = pd.to_numeric(df['fans_count'], errors='coerce').astype('int')\n",
    "  df= df[df['fans_count'] >= 0]\n",
    "\n",
    "\n",
    "  df.loc[:, 'ratings_count'] = pd.to_numeric(df['ratings_count'], errors='coerce').astype('int')\n",
    "  df= df[df['ratings_count'] >= 0]\n",
    "  return df"
   ]
  },
  {
   "cell_type": "markdown",
   "metadata": {
    "id": "8GqZMzk3AMl8"
   },
   "source": [
    "## ALGORITHMIC QUESTION"
   ]
  },
  {
   "cell_type": "code",
   "execution_count": 5,
   "metadata": {
    "colab": {
     "base_uri": "https://localhost:8080/"
    },
    "executionInfo": {
     "elapsed": 53142,
     "status": "ok",
     "timestamp": 1699211921287,
     "user": {
      "displayName": "erika ioana zetu",
      "userId": "15910750416664226910"
     },
     "user_tz": -60
    },
    "id": "K7FML_pBAO0o",
    "outputId": "128cbfe6-171b-44e5-9fff-07edfc6bffe1"
   },
   "outputs": [
    {
     "name": "stdout",
     "output_type": "stream",
     "text": [
      "Give me the number of instructions: 17\n",
      "Give me the move and the id_book: R 1\n",
      "Give me the move and the id_book: L 2\n",
      "Give me the move and the id_book: L 3\n",
      "Give me the move and the id_book: L 4\n",
      "Give me the move and the id_book: ? 3\n",
      "Give me the move and the id_book: R 5\n",
      "Give me the move and the id_book: R 6\n",
      "Give me the move and the id_book: L 7\n",
      "Give me the move and the id_book: L 8\n",
      "Give me the move and the id_book: ? 4\n",
      "Give me the move and the id_book: L 9\n",
      "Give me the move and the id_book: R 10\n",
      "Give me the move and the id_book: R 11\n",
      "Give me the move and the id_book: L 12\n",
      "Give me the move and the id_book: L 13\n",
      "Give me the move and the id_book: ? 11\n",
      "Give me the move and the id_book: ? 3\n",
      "1\n",
      "2\n",
      "0\n",
      "6\n"
     ]
    }
   ],
   "source": [
    "#1.\n",
    "def do_instructions(n, boss_instructions):\n",
    "  shelf=[]\n",
    "  third_instructions=[]\n",
    "  def left(id_book):\n",
    "    shelf.insert(0, id_book) #insert the new book in the first position (on the left)\n",
    "  def right(id_book):\n",
    "    shelf.append(id_book) #insert the new book at the end of the list (on the right)\n",
    "  def left_or_right(id_book):\n",
    "    left_places = shelf.index(id_book) #position of id_book to see how many books we have on the left\n",
    "    right_places = len(shelf) - left_places - 1 #how many books do we have on the right side of the book?\n",
    "    return min(left_places, right_places) #which of them is the min number of books?\n",
    "\n",
    "  for i in boss_instructions:\n",
    "    move, id_book = i.split()\n",
    "    id_book = int(id_book)\n",
    "    if move == 'L':\n",
    "      left(id_book)\n",
    "    elif move == 'R':\n",
    "      right(id_book)\n",
    "    elif move == '?':\n",
    "      min_num_places = left_or_right(id_book)\n",
    "      third_instructions.append(min_num_places)\n",
    "  return third_instructions\n",
    "\n",
    "\n",
    "n = int(input(\"Give me the number of instructions: \"))\n",
    "boss_instructions = [input(\"Give me the move and the id_book: \") for i in range(n)]\n",
    "results = do_instructions(n, boss_instructions)\n",
    "\n",
    "for result in results:\n",
    "  print(result)"
   ]
  },
  {
   "cell_type": "code",
   "execution_count": null,
   "metadata": {
    "id": "3mDSkNWOAT6a"
   },
   "outputs": [],
   "source": [
    "#2. Ask ChatGPT or any other LLM chatbot tool to check your code's time complexity (the Big O notation).\n",
    "#Do you believe this is correct? How can you double-check it? Elaborate about your answer.\n",
    "\n",
    "#According to ChatGPT, my code's time complexity is O(n^2).\n",
    "#I believe it is not correct because the operations left, right, and left_or_right are called within a\n",
    "#loop that iterates n times, and each of these operations has a complexity of O(1).\n",
    "#So the algorithm has a worst case time complexity equal to O(n).\n"
   ]
  },
  {
   "cell_type": "code",
   "execution_count": null,
   "metadata": {
    "id": "8-UXpmUDQWFv"
   },
   "outputs": [],
   "source": [
    "#3. Is the algorithm proposed in (1.) the optimal one to produce the required output?\n",
    "#If not, can you suggest a better algorithm to perform the same task?\n",
    "\n",
    "#I think it is optimal since the number of instructions is n,\n",
    "#so we have to do at least n operations."
   ]
  }
 ],
 "metadata": {
  "colab": {
   "gpuType": "T4",
   "provenance": []
  },
  "kernelspec": {
   "display_name": "Python 3 (ipykernel)",
   "language": "python",
   "name": "python3"
  },
  "language_info": {
   "codemirror_mode": {
    "name": "ipython",
    "version": 3
   },
   "file_extension": ".py",
   "mimetype": "text/x-python",
   "name": "python",
   "nbconvert_exporter": "python",
   "pygments_lexer": "ipython3",
   "version": "3.11.4"
  }
 },
 "nbformat": 4,
 "nbformat_minor": 1
}
